{
 "cells": [
  {
   "cell_type": "markdown",
   "metadata": {},
   "source": [
    "### Build model by using Support Vector Machine with RBF, Polynomial, and linear kernel"
   ]
  },
  {
   "cell_type": "markdown",
   "metadata": {},
   "source": [
    "#### Support Vector Machine"
   ]
  },
  {
   "cell_type": "code",
   "execution_count": 2,
   "metadata": {},
   "outputs": [],
   "source": [
    "# import required libraries\n",
    "import numpy as np\n",
    "import pandas as pd\n",
    "# import SVC classifier\n",
    "from sklearn.svm import SVC\n",
    "# import metrics to compute accuracy\n",
    "from sklearn.metrics import accuracy_score"
   ]
  },
  {
   "cell_type": "code",
   "execution_count": 3,
   "metadata": {},
   "outputs": [],
   "source": [
    "#import the dataset\n",
    "X_train = pd.read_csv('dataset-after-preparation/X_train.csv')\n",
    "X_test = pd.read_csv('dataset-after-preparation/X_test.csv')\n",
    "y_train = pd.read_csv('dataset-after-preparation/y_train.csv')\n",
    "y_test = pd.read_csv('dataset-after-preparation/y_test.csv')"
   ]
  },
  {
   "cell_type": "code",
   "execution_count": 4,
   "metadata": {},
   "outputs": [],
   "source": [
    "y_test = y_test.iloc[:,-1]\n",
    "X_test = X_test.iloc[:,2:]"
   ]
  },
  {
   "cell_type": "code",
   "execution_count": 5,
   "metadata": {},
   "outputs": [],
   "source": [
    "y_train = y_train.iloc[:,-1]\n",
    "X_train = X_train.iloc[:,2:]"
   ]
  },
  {
   "cell_type": "markdown",
   "metadata": {},
   "source": [
    "## SVM with default RBF Kernel "
   ]
  },
  {
   "cell_type": "code",
   "execution_count": 6,
   "metadata": {},
   "outputs": [
    {
     "name": "stdout",
     "output_type": "stream",
     "text": [
      "Model accuracy score with rbf kernel and C=1000.0 : 0.6809\n",
      "Model accuracy score with rbf kernel and C=1000.0 : 0.6809\n",
      "Model accuracy score with rbf kernel and C=1000.0 : 0.6809\n",
      "Model accuracy score with rbf kernel and C=1000.0 : 0.6809\n",
      "Model accuracy score with rbf kernel and C=1000.0 : 0.6809\n",
      "Model accuracy score with rbf kernel and C=1000.0 : 0.6809\n",
      "Model accuracy score with rbf kernel and C=1000.0 : 0.6809\n",
      "Model accuracy score with rbf kernel and C=1000.0 : 0.6809\n",
      "Model accuracy score with rbf kernel and C=1000.0 : 0.6809\n",
      "Model accuracy score with rbf kernel and C=1000.0 : 0.6809\n",
      "Model accuracy score with rbf kernel and C=1000.0 : 0.6809\n",
      "Model accuracy score with rbf kernel and C=1000.0 : 0.6809\n",
      "Model accuracy score with rbf kernel and C=1000.0 : 0.6809\n",
      "Model accuracy score with rbf kernel and C=1000.0 : 0.6809\n",
      "Model accuracy score with rbf kernel and C=1000.0 : 0.6809\n",
      "Model accuracy score with rbf kernel and C=1000.0 : 0.6809\n",
      "Model accuracy score with rbf kernel and C=1000.0 : 0.6809\n",
      "Model accuracy score with rbf kernel and C=1000.0 : 0.6809\n",
      "Model accuracy score with rbf kernel and C=1000.0 : 0.6809\n",
      "Model accuracy score with rbf kernel and C=1000.0 : 0.6809\n"
     ]
    }
   ],
   "source": [
    "i = 0 \n",
    "while i < 20:\n",
    "    # instantiate classifier with rbf kernel and C=100\n",
    "    svc=SVC(C=1000.0) \n",
    "    # fit classifier to training set\n",
    "    svc.fit(X_train,y_train)\n",
    "    # make predictions on test set\n",
    "    y_pred=svc.predict(X_test)\n",
    "    # compute and print accuracy score\n",
    "    print('Model accuracy score with rbf kernel and C=1000.0 : {0:0.4f}'. format(accuracy_score(y_test, y_pred)))   \n",
    "    i = i + 1"
   ]
  },
  {
   "cell_type": "markdown",
   "metadata": {},
   "source": [
    "### SVM Using Linear Kernel "
   ]
  },
  {
   "cell_type": "code",
   "execution_count": 7,
   "metadata": {},
   "outputs": [
    {
     "name": "stdout",
     "output_type": "stream",
     "text": [
      "Model accuracy score with linear kernel and C=1.0 : 0.7021\n",
      "Model accuracy score with linear kernel and C=1.0 : 0.7021\n",
      "Model accuracy score with linear kernel and C=1.0 : 0.7021\n",
      "Model accuracy score with linear kernel and C=1.0 : 0.7021\n",
      "Model accuracy score with linear kernel and C=1.0 : 0.7021\n",
      "Model accuracy score with linear kernel and C=1.0 : 0.7021\n",
      "Model accuracy score with linear kernel and C=1.0 : 0.7021\n",
      "Model accuracy score with linear kernel and C=1.0 : 0.7021\n",
      "Model accuracy score with linear kernel and C=1.0 : 0.7021\n",
      "Model accuracy score with linear kernel and C=1.0 : 0.7021\n",
      "Model accuracy score with linear kernel and C=1.0 : 0.7021\n",
      "Model accuracy score with linear kernel and C=1.0 : 0.7021\n",
      "Model accuracy score with linear kernel and C=1.0 : 0.7021\n",
      "Model accuracy score with linear kernel and C=1.0 : 0.7021\n",
      "Model accuracy score with linear kernel and C=1.0 : 0.7021\n",
      "Model accuracy score with linear kernel and C=1.0 : 0.7021\n",
      "Model accuracy score with linear kernel and C=1.0 : 0.7021\n",
      "Model accuracy score with linear kernel and C=1.0 : 0.7021\n",
      "Model accuracy score with linear kernel and C=1.0 : 0.7021\n",
      "Model accuracy score with linear kernel and C=1.0 : 0.7021\n"
     ]
    }
   ],
   "source": [
    "i = 0 \n",
    "while i < 20:\n",
    "    # instantiate classifier with linear kernel and C=1.0\n",
    "    linear_svc=SVC(kernel='linear', C=1.0) \n",
    "    # fit classifier to training set\n",
    "    linear_svc.fit(X_train,y_train)\n",
    "    # make predictions on test set\n",
    "    y_pred_test=linear_svc.predict(X_test)\n",
    "    # compute and print accuracy score\n",
    "    print('Model accuracy score with linear kernel and C=1.0 : {0:0.4f}'. format(accuracy_score(y_test, y_pred_test)))\n",
    "    i = i + 1"
   ]
  },
  {
   "cell_type": "markdown",
   "metadata": {},
   "source": [
    "### SVM Using Polynomial Kernel "
   ]
  },
  {
   "cell_type": "code",
   "execution_count": 8,
   "metadata": {},
   "outputs": [
    {
     "name": "stdout",
     "output_type": "stream",
     "text": [
      "Model accuracy score with polynomial kernel and C=1.0 at iteration : 0.7021\n",
      "Model accuracy score with polynomial kernel and C=1.0 at iteration : 0.7021\n",
      "Model accuracy score with polynomial kernel and C=1.0 at iteration : 0.7021\n",
      "Model accuracy score with polynomial kernel and C=1.0 at iteration : 0.7021\n",
      "Model accuracy score with polynomial kernel and C=1.0 at iteration : 0.7021\n",
      "Model accuracy score with polynomial kernel and C=1.0 at iteration : 0.7021\n",
      "Model accuracy score with polynomial kernel and C=1.0 at iteration : 0.7021\n",
      "Model accuracy score with polynomial kernel and C=1.0 at iteration : 0.7021\n",
      "Model accuracy score with polynomial kernel and C=1.0 at iteration : 0.7021\n",
      "Model accuracy score with polynomial kernel and C=1.0 at iteration : 0.7021\n",
      "Model accuracy score with polynomial kernel and C=1.0 at iteration : 0.7021\n",
      "Model accuracy score with polynomial kernel and C=1.0 at iteration : 0.7021\n",
      "Model accuracy score with polynomial kernel and C=1.0 at iteration : 0.7021\n",
      "Model accuracy score with polynomial kernel and C=1.0 at iteration : 0.7021\n",
      "Model accuracy score with polynomial kernel and C=1.0 at iteration : 0.7021\n",
      "Model accuracy score with polynomial kernel and C=1.0 at iteration : 0.7021\n",
      "Model accuracy score with polynomial kernel and C=1.0 at iteration : 0.7021\n",
      "Model accuracy score with polynomial kernel and C=1.0 at iteration : 0.7021\n",
      "Model accuracy score with polynomial kernel and C=1.0 at iteration : 0.7021\n",
      "Model accuracy score with polynomial kernel and C=1.0 at iteration : 0.7021\n"
     ]
    }
   ],
   "source": [
    "i = 0\n",
    "while i < 20:\n",
    "    poly_svc=SVC(kernel='poly', C=1.0) \n",
    "    # fit classifier to training set\n",
    "    poly_svc.fit(X_train,y_train)\n",
    "    # make predictions on test set\n",
    "    y_pred=poly_svc.predict(X_test)\n",
    "    # compute and print accuracy score\n",
    "    print('Model accuracy score with polynomial kernel and C=1.0 at iteration : {0:0.4f}'. format(accuracy_score(y_test, y_pred)))\n",
    "    i = i+1"
   ]
  },
  {
   "cell_type": "code",
   "execution_count": null,
   "metadata": {},
   "outputs": [],
   "source": []
  }
 ],
 "metadata": {
  "interpreter": {
   "hash": "34c6b41d8fd4016702a6819aa34bfee64e1ed137f5751191d53310aeee52770b"
  },
  "kernelspec": {
   "display_name": "Python 3.9.7 ('base')",
   "language": "python",
   "name": "python3"
  },
  "language_info": {
   "codemirror_mode": {
    "name": "ipython",
    "version": 3
   },
   "file_extension": ".py",
   "mimetype": "text/x-python",
   "name": "python",
   "nbconvert_exporter": "python",
   "pygments_lexer": "ipython3",
   "version": "3.9.7"
  },
  "orig_nbformat": 4
 },
 "nbformat": 4,
 "nbformat_minor": 2
}
