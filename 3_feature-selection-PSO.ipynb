{
 "cells": [
  {
   "cell_type": "markdown",
   "metadata": {},
   "source": [
    "|| Feature Selection using Particle Selection Optimization ||"
   ]
  },
  {
   "cell_type": "code",
   "execution_count": 1,
   "metadata": {},
   "outputs": [],
   "source": [
    "import numpy as np\n",
    "import joblib\n",
    "import pandas as pd\n",
    "import numpy as np\n",
    "import time\n",
    "import matplotlib.pyplot as plt\n",
    "from sklearn.model_selection import train_test_split\n",
    "from sklearn import datasets\n",
    "\n",
    "from sklearn.svm import SVC\n",
    "\n",
    "# from Py_FS.wrapper.nature_inspired._utilities import Solution, Data, initialize, sort_agents, display, compute_fitness, Conv_plot\n",
    "# from Py_FS.wrapper.nature_inspired._transfer_functions import get_trans_function\n"
   ]
  },
  {
   "cell_type": "markdown",
   "metadata": {},
   "source": [
    "##### There was two feature selector that been inputted, uncomment one of them to make it run "
   ]
  },
  {
   "cell_type": "code",
   "execution_count": 2,
   "metadata": {},
   "outputs": [],
   "source": [
    "#import dataset\n",
    "X_train = pd.read_csv('dataset-after-preparation/X_train.csv')\n",
    "X_test = pd.read_csv('dataset-after-preparation/X_test.csv')\n",
    "y_train = pd.read_csv('dataset-after-preparation/y_train.csv')\n",
    "y_test = pd.read_csv('dataset-after-preparation/y_test.csv')\n",
    "\n",
    "#import feature (by using Select KBest and Variance Threshold)\n",
    "sel_feat = joblib.load(\"sel_feat.pkl\")\n",
    "X_train = X_train[sel_feat]\n",
    "\n",
    "#import feature and dataset (by using Variance Threshold Only)\n",
    "# sel_feat = joblib.load(\"sel_feat_VTOnly.pkl\")\n",
    "# X_train = X_train[sel_feat]"
   ]
  },
  {
   "cell_type": "code",
   "execution_count": 3,
   "metadata": {},
   "outputs": [],
   "source": [
    "class Solution():    \n",
    "    #structure of the solution \n",
    "    def __init__(self):\n",
    "        self.num_features = None\n",
    "        self.num_agents = None\n",
    "        self.max_iter = None\n",
    "        self.obj_function = None\n",
    "        self.execution_time = None\n",
    "        self.convergence_curve = {}\n",
    "        self.best_agent = None\n",
    "        self.best_fitness = None\n",
    "        self.best_accuracy = None\n",
    "        self.final_population = None\n",
    "        self.final_fitness = None\n",
    "        self.final_accuracy = None\n",
    "\n",
    "\n",
    "class Data():\n",
    "    # structure of the training data\n",
    "    def __init__(self):\n",
    "        self.train_X = None\n",
    "        self.train_Y = None\n",
    "        self.val_X = None\n",
    "        self.val_Y = None\n",
    "        \n",
    "def compute_fitness(agent, train_X, test_X, train_Y, test_Y, weight_acc=0.9):\n",
    "    # compute a basic fitness measure\n",
    "    if(weight_acc == None):\n",
    "        weight_acc = 0.9\n",
    "\n",
    "    weight_feat = 1 - weight_acc\n",
    "    num_features = agent.shape[0]\n",
    "    \n",
    "    acc = compute_accuracy(agent, train_X, test_X, train_Y, test_Y)\n",
    "    feat = (num_features - np.sum(agent))/num_features\n",
    "\n",
    "    fitness = weight_acc * acc + weight_feat * feat\n",
    "    return fitness\n",
    "\n",
    "\n",
    "def Conv_plot(convergence_curve):\n",
    "    # plot convergence curves\n",
    "    num_iter = len(convergence_curve['fitness'])\n",
    "    iters = np.arange(num_iter) + 1\n",
    "    fig, axes = plt.subplots(1)\n",
    "    fig.tight_layout(pad = 5) \n",
    "    fig.suptitle('Convergence Curves')\n",
    "    \n",
    "    axes.set_title('Convergence of Fitness over Iterations')\n",
    "    axes.set_xlabel('Iteration')\n",
    "    axes.set_ylabel('Avg. Fitness')\n",
    "    axes.plot(iters, convergence_curve['fitness'])\n",
    "\n",
    "    return fig, axes\n",
    "\n",
    "\n",
    "def get_trans_function(shape):\n",
    "    if (shape.lower() == 's'):\n",
    "        return sigmoid\n",
    "\n",
    "    elif (shape.lower() == 'v'):\n",
    "        return v_func\n",
    "\n",
    "    elif(shape.lower() == 'u'):\n",
    "        return u_func\n",
    "\n",
    "    else:\n",
    "        print('\\n[Error!] We don\\'t currently support {}-shaped transfer functions...\\n'.format(shape))\n",
    "        exit(1)\n",
    "        \n",
    "\n",
    "def sigmoid(val):\n",
    "    if val < 0:\n",
    "        return 1 - 1/(1 + np.exp(val))\n",
    "    else:\n",
    "        return 1/(1 + np.exp(-val))\n",
    "\n",
    "\n",
    "def initialize(num_agents, num_features):\n",
    "    # define min and max number of features\n",
    "    min_features = int(0.3 * num_features)\n",
    "    max_features = int(0.6 * num_features)\n",
    "\n",
    "    # initialize the agents with zeros\n",
    "    agents = np.zeros((num_agents, num_features))\n",
    "\n",
    "    # select random features for each agent\n",
    "    for agent_no in range(num_agents):\n",
    "\n",
    "        # find random indices\n",
    "        cur_count = np.random.randint(min_features, max_features)\n",
    "        temp_vec = np.random.rand(1, num_features)\n",
    "        temp_idx = np.argsort(temp_vec)[0][0:cur_count]\n",
    "\n",
    "        # select the features with the ranom indices\n",
    "        agents[agent_no][temp_idx] = 1   \n",
    "\n",
    "    return agents\n",
    "\n",
    "def sort_agents(agents, obj, data, fitness=None):\n",
    "    # sort the agents according to fitness\n",
    "    train_X, val_X, train_Y, val_Y = data.train_X, data.val_X, data.train_Y, data.val_Y\n",
    "    (obj_function, weight_acc) = obj\n",
    "   \n",
    "    if fitness is None:\n",
    "        # if there is only one agent\n",
    "        if len(agents.shape) == 1:\n",
    "            num_agents = 1\n",
    "            fitness = obj_function(agents, train_X, val_X, train_Y, val_Y, weight_acc)\n",
    "            return agents, fitness\n",
    "\n",
    "        # for multiple agents\n",
    "        else:\n",
    "            num_agents = agents.shape[0]\n",
    "            fitness = np.zeros(num_agents)\n",
    "            for id, agent in enumerate(agents):\n",
    "                fitness[id] = obj_function(agent, train_X, val_X, train_Y, val_Y, weight_acc)\n",
    "\n",
    "    idx = np.argsort(-fitness)\n",
    "    sorted_agents = agents[idx].copy()\n",
    "    sorted_fitness = fitness[idx].copy()\n",
    "\n",
    "    return sorted_agents, sorted_fitness\n",
    "\n",
    "def compute_accuracy(agent, train_X, test_X, train_Y, test_Y): \n",
    "    # compute classification accuracy of the given agents\n",
    "    cols = np.flatnonzero(agent)     \n",
    "    if(cols.shape[0] == 0):\n",
    "        return 0    \n",
    "    clf = SVC(kernel='linear')\n",
    "    train_data = train_X[:,cols]\n",
    "    train_label = train_Y\n",
    "    test_data = test_X[:,cols]\n",
    "    test_label = test_Y\n",
    "\n",
    "    clf.fit(train_data,train_label)\n",
    "    acc = clf.score(test_data,test_label)\n",
    "\n",
    "    return acc\n"
   ]
  },
  {
   "cell_type": "code",
   "execution_count": 4,
   "metadata": {},
   "outputs": [],
   "source": [
    "def PSO(num_agents, max_iter, weight_acc, train_data, train_label, obj_function=compute_fitness, trans_func_shape='s', save_conv_graph=False):\n",
    "    \n",
    "    # Particle Swarm Optimizer\n",
    "    ############################### Parameters ####################################\n",
    "    #                                                                             #\n",
    "    #   num_agents: number of particles                                           #\n",
    "    #   max_iter: maximum number of generations                                   #\n",
    "    #   train_data: training samples of data                                      #\n",
    "    #   train_label: class labels for the training samples                        #                \n",
    "    #   obj_function: the function to maximize while doing feature selection      #\n",
    "    #   trans_function_shape: shape of the transfer function used                 #\n",
    "    #   save_conv_graph: boolean value for saving convergence graph               #\n",
    "    #                                                                             #\n",
    "    ###############################################################################\n",
    "    \n",
    "    short_name = 'PSO'\n",
    "    agent_name = 'Particle'\n",
    "    train_data, train_label = np.array(train_data), np.array(train_label)\n",
    "    num_features = train_data.shape[1]\n",
    "    trans_function = get_trans_function(trans_func_shape)\n",
    "    \n",
    "    # setting up the objectives\n",
    "    weight_acc = None\n",
    "    if(obj_function==compute_fitness):\n",
    "        # weight_acc = float(input('Weight for the classification accuracy [0-1]: '))\n",
    "        weight_acc = weight_acc \n",
    "    obj = (obj_function, weight_acc)\n",
    "    compute_accuracy = (compute_fitness, 1) # compute_accuracy is just compute_fitness with accuracy weight as 1\n",
    "\n",
    "    # initialize particles and Leader (the agent with the max fitness)\n",
    "    particles = initialize(num_agents, num_features)\n",
    "    fitness = np.zeros(num_agents)\n",
    "    accuracy = np.zeros(num_agents)\n",
    "    Leader_agent = np.zeros((1, num_features))\n",
    "    Leader_fitness = float(\"-inf\")\n",
    "    Leader_accuracy = float(\"-inf\")\n",
    "\n",
    "    # initialize convergence curves\n",
    "    convergence_curve = {}\n",
    "    convergence_curve['fitness'] = np.zeros(max_iter)\n",
    "\n",
    "    # initialize data class\n",
    "    \n",
    "    data = Data()\n",
    "    val_size = 0.3\n",
    "    # val_size = float(input('Enter the percentage of data wanted for valdiation [0, 100]: '))/100\n",
    "    data.train_X, data.val_X, data.train_Y, data.val_Y = train_test_split(train_data, train_label, stratify=train_label, test_size=val_size)\n",
    "    \n",
    "\n",
    "    # create a solution object\n",
    "    solution = Solution()\n",
    "    solution.num_agents = num_agents\n",
    "    solution.max_iter = max_iter\n",
    "    solution.num_features = num_features\n",
    "    solution.obj_function = obj_function\n",
    "\n",
    "    # rank initial particles\n",
    "    particles, fitness = sort_agents(particles, obj, data)\n",
    "\n",
    "    # start timer\n",
    "    start_time = time.time()\n",
    "\n",
    "    # initialize global and local best particles\n",
    "    globalBestParticle = [0 for i in range(num_features)]\n",
    "    globalBestFitness = float(\"-inf\")\n",
    "    localBestParticle = [ [ 0 for i in range(num_features) ] for j in range(num_agents) ] \n",
    "    localBestFitness = [float(\"-inf\") for i in range(num_agents) ]\n",
    "    weight = 1.0 \n",
    "    velocity = [ [ 0.0 for i in range(num_features) ] for j in range(num_agents) ]\n",
    "    \n",
    "    for iter_no in range(max_iter):\n",
    "        print('\\n================================================================================')\n",
    "        print('                          Iteration - {}'.format(iter_no+1))\n",
    "        print('================================================================================\\n')\n",
    "        \n",
    "        # update weight\n",
    "        weight = 1.0 - (iter_no / max_iter)\n",
    "        \n",
    "        # update the velocity\n",
    "        for i in range(num_agents):\n",
    "            for j in range(num_features):\n",
    "                velocity[i][j] = (weight*velocity[i][j])\n",
    "                r1, r2 = np.random.random(2)\n",
    "                velocity[i][j] = velocity[i][j] + (r1 * (localBestParticle[i][j] - particles[i][j]))\n",
    "                velocity[i][j] = velocity[i][j] + (r2 * (globalBestParticle[j] - particles[i][j]))\n",
    "       \n",
    "        # updating position of particles\n",
    "        for i in range(num_agents):\n",
    "            for j in range(num_features):\n",
    "                trans_value = trans_function(velocity[i][j])\n",
    "                if (np.random.random() < trans_value): \n",
    "                    particles[i][j] = 1\n",
    "                else:\n",
    "                    particles[i][j] = 0\n",
    "                 \n",
    "        # updating fitness of particles\n",
    "        particles, fitness = sort_agents(particles, obj, data)\n",
    "        display(particles, fitness, agent_name)\n",
    "        \n",
    "        \n",
    "        # updating the global best and local best particles\n",
    "        for i in range(num_agents):\n",
    "            if fitness[i]>localBestFitness[i]:\n",
    "                localBestFitness[i]=fitness[i]\n",
    "                localBestParticle[i]=particles[i][:]\n",
    "\n",
    "            if fitness[i]>globalBestFitness:\n",
    "                globalBestFitness=fitness[i]\n",
    "                globalBestParticle=particles[i][:]\n",
    "\n",
    "        # update Leader (best agent)\n",
    "        if globalBestFitness > Leader_fitness:\n",
    "            Leader_agent = globalBestParticle.copy()\n",
    "            Leader_fitness = globalBestFitness.copy()\n",
    "\n",
    "        convergence_curve['fitness'][iter_no] = np.mean(fitness)\n",
    "\n",
    "    # compute final accuracy\n",
    "    Leader_agent, Leader_accuracy = sort_agents(Leader_agent, compute_accuracy, data)\n",
    "    particles, accuracy = sort_agents(particles, compute_accuracy, data)\n",
    "\n",
    "    print('\\n================================================================================')\n",
    "    print('                                    Final Result                                  ')\n",
    "    print('================================================================================\\n')\n",
    "    print('Leader ' + agent_name + ' Dimension : {}'.format(int(np.sum(Leader_agent))))\n",
    "    print('Leader ' + agent_name + ' Fitness : {}'.format(Leader_fitness))\n",
    "    print('Leader ' + agent_name + ' Classification Accuracy : {}'.format(Leader_accuracy))\n",
    "    print('\\n================================================================================\\n')\n",
    "\n",
    "    # stop timer\n",
    "    end_time = time.time()\n",
    "    exec_time = end_time - start_time\n",
    "\n",
    "    # plot convergence graph\n",
    "    fig, axes = Conv_plot(convergence_curve)\n",
    "    # if(save_conv_graph):\n",
    "    #     plt.savefig('convergence_graph_'+ short_name + '.jpg')\n",
    "    plt.show()\n",
    "\n",
    "    # update attributes of solution\n",
    "    solution.best_agent = Leader_agent\n",
    "    solution.best_fitness = Leader_fitness\n",
    "    solution.best_accuracy = Leader_accuracy\n",
    "    solution.convergence_curve = convergence_curve\n",
    "    solution.final_particles = particles\n",
    "    solution.final_fitness = fitness\n",
    "    solution.final_accuracy = accuracy\n",
    "    solution.execution_time = exec_time\n",
    "\n",
    "    return solution\n",
    "\n",
    "\n",
    "# if __name__ == '__main__': \n",
    "    \n",
    "#     # data = datasets.load_digits()\n",
    "#     PSO(20, 100, 0.8, X_train, y_train, save_conv_graph=True)"
   ]
  },
  {
   "cell_type": "code",
   "execution_count": 5,
   "metadata": {},
   "outputs": [
    {
     "name": "stdout",
     "output_type": "stream",
     "text": [
      "\n",
      "================================================================================\n",
      "                          Iteration - 1\n",
      "================================================================================\n",
      "\n"
     ]
    },
    {
     "data": {
      "text/plain": [
       "array([[0., 0., 0., ..., 0., 0., 0.],\n",
       "       [0., 0., 1., ..., 1., 1., 1.],\n",
       "       [0., 1., 0., ..., 0., 0., 0.],\n",
       "       ...,\n",
       "       [1., 0., 0., ..., 0., 1., 0.],\n",
       "       [0., 0., 0., ..., 0., 0., 0.],\n",
       "       [0., 1., 1., ..., 0., 0., 0.]])"
      ]
     },
     "metadata": {},
     "output_type": "display_data"
    },
    {
     "data": {
      "text/plain": [
       "array([0.73766946, 0.73354734, 0.70583521, 0.70524004, 0.70489836,\n",
       "       0.70462282, 0.7042591 , 0.70375211, 0.70338839, 0.7033443 ,\n",
       "       0.70044559, 0.70002677, 0.69994962, 0.67231464, 0.67060627,\n",
       "       0.6701654 , 0.66889791, 0.64126293, 0.64125191, 0.63535529])"
      ]
     },
     "metadata": {},
     "output_type": "display_data"
    },
    {
     "data": {
      "text/plain": [
       "'Particle'"
      ]
     },
     "metadata": {},
     "output_type": "display_data"
    },
    {
     "name": "stdout",
     "output_type": "stream",
     "text": [
      "\n",
      "================================================================================\n",
      "                          Iteration - 2\n",
      "================================================================================\n",
      "\n"
     ]
    },
    {
     "data": {
      "text/plain": [
       "array([[0., 0., 0., ..., 0., 0., 1.],\n",
       "       [1., 0., 0., ..., 0., 0., 0.],\n",
       "       [0., 1., 0., ..., 1., 1., 1.],\n",
       "       ...,\n",
       "       [0., 0., 0., ..., 1., 1., 0.],\n",
       "       [1., 0., 1., ..., 1., 0., 0.],\n",
       "       [1., 0., 0., ..., 1., 0., 0.]])"
      ]
     },
     "metadata": {},
     "output_type": "display_data"
    },
    {
     "data": {
      "text/plain": [
       "array([0.73910228, 0.73609335, 0.73565249, 0.73398821, 0.73222473,\n",
       "       0.73216962, 0.70634221, 0.70500858, 0.70466691, 0.7041048 ,\n",
       "       0.70368598, 0.70328919, 0.70196659, 0.69989451, 0.67319638,\n",
       "       0.67302003, 0.67207216, 0.67207216, 0.6693498 , 0.66771858])"
      ]
     },
     "metadata": {},
     "output_type": "display_data"
    },
    {
     "data": {
      "text/plain": [
       "'Particle'"
      ]
     },
     "metadata": {},
     "output_type": "display_data"
    },
    {
     "name": "stdout",
     "output_type": "stream",
     "text": [
      "\n",
      "================================================================================\n",
      "                          Iteration - 3\n",
      "================================================================================\n",
      "\n"
     ]
    },
    {
     "data": {
      "text/plain": [
       "array([[0., 1., 1., ..., 0., 1., 1.],\n",
       "       [0., 1., 0., ..., 1., 0., 0.],\n",
       "       [0., 1., 1., ..., 1., 0., 0.],\n",
       "       ...,\n",
       "       [1., 0., 0., ..., 0., 1., 1.],\n",
       "       [0., 0., 0., ..., 0., 1., 0.],\n",
       "       [1., 1., 1., ..., 0., 0., 0.]])"
      ]
     },
     "metadata": {},
     "output_type": "display_data"
    },
    {
     "data": {
      "text/plain": [
       "array([0.73813237, 0.73534388, 0.73495812, 0.73425273, 0.73397719,\n",
       "       0.73194919, 0.70526208, 0.70519595, 0.70483223, 0.70413787,\n",
       "       0.70040151, 0.6728547 , 0.67272244, 0.67256814, 0.6716864 ,\n",
       "       0.67022051, 0.66749815, 0.64165971, 0.63858465, 0.63639133])"
      ]
     },
     "metadata": {},
     "output_type": "display_data"
    },
    {
     "data": {
      "text/plain": [
       "'Particle'"
      ]
     },
     "metadata": {},
     "output_type": "display_data"
    },
    {
     "name": "stdout",
     "output_type": "stream",
     "text": [
      "\n",
      "================================================================================\n",
      "                          Iteration - 4\n",
      "================================================================================\n",
      "\n"
     ]
    },
    {
     "data": {
      "text/plain": [
       "array([[0., 0., 0., ..., 1., 1., 1.],\n",
       "       [0., 1., 1., ..., 0., 0., 0.],\n",
       "       [0., 0., 0., ..., 1., 0., 0.],\n",
       "       ...,\n",
       "       [0., 0., 0., ..., 0., 0., 1.],\n",
       "       [0., 0., 0., ..., 1., 0., 0.],\n",
       "       [1., 0., 1., ..., 0., 0., 1.]])"
      ]
     },
     "metadata": {},
     "output_type": "display_data"
    },
    {
     "data": {
      "text/plain": [
       "array([0.73736085, 0.73528877, 0.73406536, 0.70494245, 0.70213191,\n",
       "       0.70209885, 0.67338374, 0.67278857, 0.67114634, 0.67024256,\n",
       "       0.66820354, 0.66804924, 0.6668148 , 0.6659    , 0.63973091,\n",
       "       0.63915778, 0.63751555, 0.63610477, 0.63329423, 0.60572539])"
      ]
     },
     "metadata": {},
     "output_type": "display_data"
    },
    {
     "data": {
      "text/plain": [
       "'Particle'"
      ]
     },
     "metadata": {},
     "output_type": "display_data"
    },
    {
     "name": "stdout",
     "output_type": "stream",
     "text": [
      "\n",
      "================================================================================\n",
      "                          Iteration - 5\n",
      "================================================================================\n",
      "\n"
     ]
    },
    {
     "data": {
      "text/plain": [
       "array([[0., 0., 0., ..., 0., 1., 1.],\n",
       "       [0., 1., 1., ..., 0., 0., 0.],\n",
       "       [0., 1., 0., ..., 0., 0., 1.],\n",
       "       ...,\n",
       "       [1., 1., 1., ..., 0., 1., 0.],\n",
       "       [0., 0., 0., ..., 0., 1., 1.],\n",
       "       [1., 0., 0., ..., 0., 0., 1.]])"
      ]
     },
     "metadata": {},
     "output_type": "display_data"
    },
    {
     "data": {
      "text/plain": [
       "array([0.73663342, 0.73581781, 0.7319051 , 0.73188306, 0.73060454,\n",
       "       0.72957952, 0.70355372, 0.70210987, 0.70087544, 0.70069909,\n",
       "       0.69899073, 0.69799877, 0.69797673, 0.69655493, 0.67197297,\n",
       "       0.67042993, 0.67006621, 0.668435  , 0.63863976, 0.63721796])"
      ]
     },
     "metadata": {},
     "output_type": "display_data"
    },
    {
     "data": {
      "text/plain": [
       "'Particle'"
      ]
     },
     "metadata": {},
     "output_type": "display_data"
    },
    {
     "name": "stdout",
     "output_type": "stream",
     "text": [
      "\n",
      "================================================================================\n",
      "                          Iteration - 6\n",
      "================================================================================\n",
      "\n"
     ]
    },
    {
     "data": {
      "text/plain": [
       "array([[0., 1., 0., ..., 0., 1., 1.],\n",
       "       [1., 1., 0., ..., 1., 1., 1.],\n",
       "       [0., 0., 1., ..., 0., 0., 1.],\n",
       "       ...,\n",
       "       [0., 1., 0., ..., 0., 1., 0.],\n",
       "       [1., 0., 1., ..., 1., 0., 0.],\n",
       "       [0., 0., 0., ..., 1., 0., 1.]])"
      ]
     },
     "metadata": {},
     "output_type": "display_data"
    },
    {
     "data": {
      "text/plain": [
       "array([0.73542103, 0.73505731, 0.73330486, 0.73247823, 0.73056045,\n",
       "       0.72967872, 0.72938113, 0.70078727, 0.69921116, 0.69851679,\n",
       "       0.67050708, 0.67045197, 0.67002212, 0.66946001, 0.66886484,\n",
       "       0.6681815 , 0.66799413, 0.66745406, 0.63365795, 0.63095763])"
      ]
     },
     "metadata": {},
     "output_type": "display_data"
    },
    {
     "data": {
      "text/plain": [
       "'Particle'"
      ]
     },
     "metadata": {},
     "output_type": "display_data"
    },
    {
     "name": "stdout",
     "output_type": "stream",
     "text": [
      "\n",
      "================================================================================\n",
      "                          Iteration - 7\n",
      "================================================================================\n",
      "\n"
     ]
    },
    {
     "data": {
      "text/plain": [
       "array([[0., 1., 0., ..., 0., 1., 1.],\n",
       "       [1., 1., 0., ..., 0., 1., 1.],\n",
       "       [0., 1., 1., ..., 0., 0., 1.],\n",
       "       ...,\n",
       "       [0., 1., 1., ..., 0., 1., 0.],\n",
       "       [0., 0., 0., ..., 0., 1., 0.],\n",
       "       [1., 0., 0., ..., 1., 0., 1.]])"
      ]
     },
     "metadata": {},
     "output_type": "display_data"
    },
    {
     "data": {
      "text/plain": [
       "array([0.76728834, 0.76211916, 0.73427477, 0.73298523, 0.73254436,\n",
       "       0.73245619, 0.73068169, 0.72923785, 0.7022752 , 0.70108485,\n",
       "       0.70026924, 0.69888051, 0.69874825, 0.6987262 , 0.69743666,\n",
       "       0.66897506, 0.66817047, 0.6643239 , 0.63613783, 0.63072617])"
      ]
     },
     "metadata": {},
     "output_type": "display_data"
    },
    {
     "data": {
      "text/plain": [
       "'Particle'"
      ]
     },
     "metadata": {},
     "output_type": "display_data"
    },
    {
     "name": "stdout",
     "output_type": "stream",
     "text": [
      "\n",
      "================================================================================\n",
      "                          Iteration - 8\n",
      "================================================================================\n",
      "\n"
     ]
    },
    {
     "data": {
      "text/plain": [
       "array([[0., 1., 1., ..., 0., 1., 1.],\n",
       "       [0., 1., 1., ..., 1., 0., 0.],\n",
       "       [0., 0., 0., ..., 0., 1., 1.],\n",
       "       ...,\n",
       "       [1., 1., 0., ..., 0., 0., 1.],\n",
       "       [0., 0., 0., ..., 1., 1., 0.],\n",
       "       [1., 0., 1., ..., 0., 1., 0.]])"
      ]
     },
     "metadata": {},
     "output_type": "display_data"
    },
    {
     "data": {
      "text/plain": [
       "array([0.73542103, 0.73279786, 0.73279786, 0.72957952, 0.70174615,\n",
       "       0.70173513, 0.70101872, 0.70002677, 0.69980633, 0.69827431,\n",
       "       0.69741462, 0.69732645, 0.69677536, 0.66860032, 0.66821456,\n",
       "       0.66764143, 0.66714546, 0.66711239, 0.63363591, 0.63060493])"
      ]
     },
     "metadata": {},
     "output_type": "display_data"
    },
    {
     "data": {
      "text/plain": [
       "'Particle'"
      ]
     },
     "metadata": {},
     "output_type": "display_data"
    },
    {
     "name": "stdout",
     "output_type": "stream",
     "text": [
      "\n",
      "================================================================================\n",
      "                          Iteration - 9\n",
      "================================================================================\n",
      "\n"
     ]
    },
    {
     "data": {
      "text/plain": [
       "array([[0., 1., 1., ..., 0., 1., 1.],\n",
       "       [0., 1., 0., ..., 0., 1., 1.],\n",
       "       [1., 0., 0., ..., 1., 0., 0.],\n",
       "       ...,\n",
       "       [1., 1., 0., ..., 1., 0., 0.],\n",
       "       [0., 1., 1., ..., 0., 1., 1.],\n",
       "       [1., 0., 0., ..., 0., 1., 0.]])"
      ]
     },
     "metadata": {},
     "output_type": "display_data"
    },
    {
     "data": {
      "text/plain": [
       "array([0.76545874, 0.73537694, 0.73025185, 0.72996528, 0.72994324,\n",
       "       0.72853246, 0.72811363, 0.70129426, 0.69960794, 0.69950875,\n",
       "       0.69939853, 0.69802082, 0.69712806, 0.66977964, 0.66851215,\n",
       "       0.66772961, 0.66588898, 0.66518359, 0.66452229, 0.62916109])"
      ]
     },
     "metadata": {},
     "output_type": "display_data"
    },
    {
     "data": {
      "text/plain": [
       "'Particle'"
      ]
     },
     "metadata": {},
     "output_type": "display_data"
    },
    {
     "name": "stdout",
     "output_type": "stream",
     "text": [
      "\n",
      "================================================================================\n",
      "                          Iteration - 10\n",
      "================================================================================\n",
      "\n"
     ]
    },
    {
     "data": {
      "text/plain": [
       "array([[0., 1., 1., ..., 0., 1., 1.],\n",
       "       [0., 1., 0., ..., 0., 1., 0.],\n",
       "       [0., 0., 1., ..., 1., 0., 0.],\n",
       "       ...,\n",
       "       [1., 1., 1., ..., 1., 0., 0.],\n",
       "       [0., 1., 1., ..., 1., 1., 1.],\n",
       "       [1., 0., 0., ..., 1., 1., 0.]])"
      ]
     },
     "metadata": {},
     "output_type": "display_data"
    },
    {
     "data": {
      "text/plain": [
       "array([0.76763002, 0.75936373, 0.73123278, 0.73078089, 0.73056045,\n",
       "       0.70072113, 0.69944262, 0.69737053, 0.69669821, 0.6959818 ,\n",
       "       0.66875463, 0.66836887, 0.66811537, 0.666914  , 0.66500724,\n",
       "       0.66478681, 0.66367362, 0.63276519, 0.63137645, 0.59591606])"
      ]
     },
     "metadata": {},
     "output_type": "display_data"
    },
    {
     "data": {
      "text/plain": [
       "'Particle'"
      ]
     },
     "metadata": {},
     "output_type": "display_data"
    },
    {
     "name": "stdout",
     "output_type": "stream",
     "text": [
      "\n",
      "================================================================================\n",
      "                          Iteration - 11\n",
      "================================================================================\n",
      "\n"
     ]
    },
    {
     "data": {
      "text/plain": [
       "array([[0., 0., 1., ..., 0., 1., 1.],\n",
       "       [1., 1., 1., ..., 0., 0., 1.],\n",
       "       [0., 1., 1., ..., 0., 1., 1.],\n",
       "       ...,\n",
       "       [1., 1., 1., ..., 0., 1., 0.],\n",
       "       [0., 0., 1., ..., 1., 0., 1.],\n",
       "       [1., 0., 1., ..., 1., 1., 0.]])"
      ]
     },
     "metadata": {},
     "output_type": "display_data"
    },
    {
     "data": {
      "text/plain": [
       "array([0.76352994, 0.76039977, 0.73477075, 0.73170671, 0.72881902,\n",
       "       0.72730905, 0.70119507, 0.70076522, 0.70067705, 0.6993324 ,\n",
       "       0.69925525, 0.69679741, 0.6676745 , 0.66628576, 0.66541505,\n",
       "       0.66535994, 0.66515053, 0.66454433, 0.66414755, 0.66056549])"
      ]
     },
     "metadata": {},
     "output_type": "display_data"
    },
    {
     "data": {
      "text/plain": [
       "'Particle'"
      ]
     },
     "metadata": {},
     "output_type": "display_data"
    },
    {
     "name": "stdout",
     "output_type": "stream",
     "text": [
      "\n",
      "================================================================================\n",
      "                          Iteration - 12\n",
      "================================================================================\n",
      "\n"
     ]
    },
    {
     "data": {
      "text/plain": [
       "array([[0., 1., 1., ..., 0., 1., 1.],\n",
       "       [0., 1., 0., ..., 1., 0., 0.],\n",
       "       [0., 0., 1., ..., 1., 1., 1.],\n",
       "       ...,\n",
       "       [0., 0., 0., ..., 0., 1., 1.],\n",
       "       [1., 0., 0., ..., 1., 1., 1.],\n",
       "       [1., 0., 0., ..., 1., 0., 0.]])"
      ]
     },
     "metadata": {},
     "output_type": "display_data"
    },
    {
     "data": {
      "text/plain": [
       "array([0.73588394, 0.73086906, 0.73072578, 0.73019674, 0.72791524,\n",
       "       0.70045661, 0.69738156, 0.66845704, 0.66612044, 0.66610941,\n",
       "       0.66506235, 0.66461046, 0.66361851, 0.66355238, 0.66333194,\n",
       "       0.66310049, 0.66246123, 0.63573003, 0.63363591, 0.62743068])"
      ]
     },
     "metadata": {},
     "output_type": "display_data"
    },
    {
     "data": {
      "text/plain": [
       "'Particle'"
      ]
     },
     "metadata": {},
     "output_type": "display_data"
    },
    {
     "name": "stdout",
     "output_type": "stream",
     "text": [
      "\n",
      "================================================================================\n",
      "                          Iteration - 13\n",
      "================================================================================\n",
      "\n"
     ]
    },
    {
     "data": {
      "text/plain": [
       "array([[1., 0., 1., ..., 0., 0., 0.],\n",
       "       [0., 1., 1., ..., 0., 0., 0.],\n",
       "       [0., 0., 1., ..., 1., 0., 0.],\n",
       "       ...,\n",
       "       [1., 0., 1., ..., 1., 0., 0.],\n",
       "       [1., 0., 0., ..., 0., 1., 1.],\n",
       "       [1., 0., 0., ..., 0., 1., 0.]])"
      ]
     },
     "metadata": {},
     "output_type": "display_data"
    },
    {
     "data": {
      "text/plain": [
       "array([0.7314973 , 0.73125482, 0.7294142 , 0.72836713, 0.70272709,\n",
       "       0.69978429, 0.69875927, 0.69834044, 0.69734849, 0.69605895,\n",
       "       0.69556297, 0.69473634, 0.69439467, 0.66593307, 0.66485294,\n",
       "       0.66336501, 0.66291312, 0.65832808, 0.63402167, 0.60001614])"
      ]
     },
     "metadata": {},
     "output_type": "display_data"
    },
    {
     "data": {
      "text/plain": [
       "'Particle'"
      ]
     },
     "metadata": {},
     "output_type": "display_data"
    },
    {
     "name": "stdout",
     "output_type": "stream",
     "text": [
      "\n",
      "================================================================================\n",
      "                          Iteration - 14\n",
      "================================================================================\n",
      "\n"
     ]
    },
    {
     "data": {
      "text/plain": [
       "array([[0., 1., 1., ..., 0., 1., 1.],\n",
       "       [0., 0., 1., ..., 1., 0., 0.],\n",
       "       [1., 1., 1., ..., 1., 1., 1.],\n",
       "       ...,\n",
       "       [1., 0., 1., ..., 1., 1., 0.],\n",
       "       [1., 1., 1., ..., 0., 0., 0.],\n",
       "       [1., 1., 0., ..., 0., 1., 1.]])"
      ]
     },
     "metadata": {},
     "output_type": "display_data"
    },
    {
     "data": {
      "text/plain": [
       "array([0.73482586, 0.7309903 , 0.72692329, 0.72599747, 0.69920014,\n",
       "       0.69896868, 0.69586056, 0.69556297, 0.69516619, 0.66641802,\n",
       "       0.66572365, 0.66553629, 0.66368464, 0.66327683, 0.66231794,\n",
       "       0.65892326, 0.63501362, 0.63321708, 0.6320598 , 0.62994363])"
      ]
     },
     "metadata": {},
     "output_type": "display_data"
    },
    {
     "data": {
      "text/plain": [
       "'Particle'"
      ]
     },
     "metadata": {},
     "output_type": "display_data"
    },
    {
     "name": "stdout",
     "output_type": "stream",
     "text": [
      "\n",
      "================================================================================\n",
      "                          Iteration - 15\n",
      "================================================================================\n",
      "\n"
     ]
    },
    {
     "data": {
      "text/plain": [
       "array([[1., 0., 1., ..., 0., 0., 1.],\n",
       "       [0., 1., 1., ..., 0., 1., 1.],\n",
       "       [1., 0., 1., ..., 0., 0., 0.],\n",
       "       ...,\n",
       "       [0., 0., 1., ..., 1., 1., 1.],\n",
       "       [1., 1., 0., ..., 1., 0., 0.],\n",
       "       [1., 0., 0., ..., 1., 0., 0.]])"
      ]
     },
     "metadata": {},
     "output_type": "display_data"
    },
    {
     "data": {
      "text/plain": [
       "array([0.76310009, 0.73511242, 0.73031798, 0.7299763 , 0.72987711,\n",
       "       0.72701146, 0.69778936, 0.69759097, 0.69469226, 0.69467021,\n",
       "       0.69410811, 0.6649852 , 0.66415857, 0.66337603, 0.66210853,\n",
       "       0.6343964 , 0.63268804, 0.63120011, 0.63024122, 0.62560108])"
      ]
     },
     "metadata": {},
     "output_type": "display_data"
    },
    {
     "data": {
      "text/plain": [
       "'Particle'"
      ]
     },
     "metadata": {},
     "output_type": "display_data"
    },
    {
     "name": "stdout",
     "output_type": "stream",
     "text": [
      "\n",
      "================================================================================\n",
      "                          Iteration - 16\n",
      "================================================================================\n",
      "\n"
     ]
    },
    {
     "data": {
      "text/plain": [
       "array([[0., 0., 1., ..., 0., 0., 0.],\n",
       "       [1., 1., 1., ..., 0., 1., 1.],\n",
       "       [0., 1., 0., ..., 1., 0., 0.],\n",
       "       ...,\n",
       "       [0., 0., 1., ..., 0., 0., 0.],\n",
       "       [1., 1., 1., ..., 0., 0., 1.],\n",
       "       [1., 0., 0., ..., 0., 1., 1.]])"
      ]
     },
     "metadata": {},
     "output_type": "display_data"
    },
    {
     "data": {
      "text/plain": [
       "array([0.76181055, 0.73462747, 0.73011959, 0.72961259, 0.72932602,\n",
       "       0.72680205, 0.72573294, 0.69807592, 0.69764608, 0.69670923,\n",
       "       0.69451591, 0.69449387, 0.69449387, 0.66673765, 0.66208649,\n",
       "       0.66165664, 0.658284  , 0.63442947, 0.631652  , 0.59882579])"
      ]
     },
     "metadata": {},
     "output_type": "display_data"
    },
    {
     "data": {
      "text/plain": [
       "'Particle'"
      ]
     },
     "metadata": {},
     "output_type": "display_data"
    },
    {
     "name": "stdout",
     "output_type": "stream",
     "text": [
      "\n",
      "================================================================================\n",
      "                          Iteration - 17\n",
      "================================================================================\n",
      "\n"
     ]
    },
    {
     "data": {
      "text/plain": [
       "array([[0., 0., 0., ..., 0., 0., 0.],\n",
       "       [0., 1., 0., ..., 0., 0., 0.],\n",
       "       [0., 1., 1., ..., 0., 0., 0.],\n",
       "       ...,\n",
       "       [1., 0., 1., ..., 1., 1., 0.],\n",
       "       [1., 1., 1., ..., 1., 1., 1.],\n",
       "       [0., 0., 0., ..., 1., 0., 0.]])"
      ]
     },
     "metadata": {},
     "output_type": "display_data"
    },
    {
     "data": {
      "text/plain": [
       "array([0.76250492, 0.76079655, 0.7345944 , 0.73049432, 0.73041717,\n",
       "       0.72896231, 0.69881438, 0.69673127, 0.69521028, 0.69501189,\n",
       "       0.69456   , 0.69426241, 0.66516155, 0.66445616, 0.66373975,\n",
       "       0.66325479, 0.6627037 , 0.6580305 , 0.629624  , 0.62948072])"
      ]
     },
     "metadata": {},
     "output_type": "display_data"
    },
    {
     "data": {
      "text/plain": [
       "'Particle'"
      ]
     },
     "metadata": {},
     "output_type": "display_data"
    },
    {
     "name": "stdout",
     "output_type": "stream",
     "text": [
      "\n",
      "================================================================================\n",
      "                          Iteration - 18\n",
      "================================================================================\n",
      "\n"
     ]
    },
    {
     "data": {
      "text/plain": [
       "array([[0., 1., 1., ..., 0., 0., 0.],\n",
       "       [0., 1., 1., ..., 0., 1., 1.],\n",
       "       [0., 0., 1., ..., 0., 0., 0.],\n",
       "       ...,\n",
       "       [1., 0., 0., ..., 0., 0., 0.],\n",
       "       [1., 1., 1., ..., 0., 1., 1.],\n",
       "       [1., 0., 0., ..., 0., 1., 1.]])"
      ]
     },
     "metadata": {},
     "output_type": "display_data"
    },
    {
     "data": {
      "text/plain": [
       "array([0.76231755, 0.73423068, 0.73082498, 0.73064863, 0.72831202,\n",
       "       0.72660366, 0.72618483, 0.69914503, 0.69707295, 0.69386563,\n",
       "       0.69378848, 0.66617554, 0.66445616, 0.66423572, 0.66325479,\n",
       "       0.66232897, 0.65783211, 0.62969013, 0.62877533, 0.62853285])"
      ]
     },
     "metadata": {},
     "output_type": "display_data"
    },
    {
     "data": {
      "text/plain": [
       "'Particle'"
      ]
     },
     "metadata": {},
     "output_type": "display_data"
    },
    {
     "name": "stdout",
     "output_type": "stream",
     "text": [
      "\n",
      "================================================================================\n",
      "                          Iteration - 19\n",
      "================================================================================\n",
      "\n"
     ]
    },
    {
     "data": {
      "text/plain": [
       "array([[0., 1., 1., ..., 1., 1., 0.],\n",
       "       [0., 1., 0., ..., 1., 1., 0.],\n",
       "       [1., 1., 1., ..., 1., 1., 0.],\n",
       "       ...,\n",
       "       [0., 1., 1., ..., 0., 1., 1.],\n",
       "       [1., 1., 0., ..., 1., 1., 1.],\n",
       "       [0., 1., 1., ..., 1., 1., 0.]])"
      ]
     },
     "metadata": {},
     "output_type": "display_data"
    },
    {
     "data": {
      "text/plain": [
       "array([0.73356938, 0.73034002, 0.7296677 , 0.69835147, 0.69773425,\n",
       "       0.69697375, 0.69633449, 0.69612508, 0.69475839, 0.69345783,\n",
       "       0.69162822, 0.69017336, 0.66618657, 0.66398222, 0.66303436,\n",
       "       0.66092921, 0.63116704, 0.62899576, 0.59738195, 0.59690802])"
      ]
     },
     "metadata": {},
     "output_type": "display_data"
    },
    {
     "data": {
      "text/plain": [
       "'Particle'"
      ]
     },
     "metadata": {},
     "output_type": "display_data"
    },
    {
     "name": "stdout",
     "output_type": "stream",
     "text": [
      "\n",
      "================================================================================\n",
      "                          Iteration - 20\n",
      "================================================================================\n",
      "\n"
     ]
    },
    {
     "data": {
      "text/plain": [
       "array([[0., 1., 1., ..., 0., 1., 1.],\n",
       "       [1., 1., 1., ..., 1., 0., 0.],\n",
       "       [1., 0., 0., ..., 0., 0., 0.],\n",
       "       ...,\n",
       "       [0., 0., 0., ..., 0., 1., 1.],\n",
       "       [1., 0., 1., ..., 0., 1., 1.],\n",
       "       [1., 0., 0., ..., 1., 1., 0.]])"
      ]
     },
     "metadata": {},
     "output_type": "display_data"
    },
    {
     "data": {
      "text/plain": [
       "array([0.76531546, 0.76237266, 0.72605257, 0.69847271, 0.69795469,\n",
       "       0.69616917, 0.69390972, 0.6934468 , 0.69297287, 0.66632985,\n",
       "       0.6654922 , 0.66464353, 0.66332092, 0.66154643, 0.66144723,\n",
       "       0.65911063, 0.63289745, 0.63045063, 0.62955787, 0.62650486])"
      ]
     },
     "metadata": {},
     "output_type": "display_data"
    },
    {
     "data": {
      "text/plain": [
       "'Particle'"
      ]
     },
     "metadata": {},
     "output_type": "display_data"
    },
    {
     "name": "stdout",
     "output_type": "stream",
     "text": [
      "\n",
      "================================================================================\n",
      "                          Iteration - 21\n",
      "================================================================================\n",
      "\n"
     ]
    },
    {
     "data": {
      "text/plain": [
       "array([[0., 1., 1., ..., 1., 0., 0.],\n",
       "       [0., 0., 0., ..., 0., 1., 1.],\n",
       "       [0., 0., 1., ..., 1., 0., 1.],\n",
       "       ...,\n",
       "       [0., 0., 1., ..., 0., 1., 1.],\n",
       "       [1., 0., 0., ..., 0., 1., 1.],\n",
       "       [1., 0., 1., ..., 1., 1., 0.]])"
      ]
     },
     "metadata": {},
     "output_type": "display_data"
    },
    {
     "data": {
      "text/plain": [
       "array([0.76146888, 0.75800806, 0.70061092, 0.69868212, 0.69805388,\n",
       "       0.69798775, 0.69782242, 0.69677536, 0.69611406, 0.69406402,\n",
       "       0.66558037, 0.66207547, 0.66131497, 0.66123782, 0.65972784,\n",
       "       0.65758963, 0.63006487, 0.62881942, 0.59954221, 0.5983739 ])"
      ]
     },
     "metadata": {},
     "output_type": "display_data"
    },
    {
     "data": {
      "text/plain": [
       "'Particle'"
      ]
     },
     "metadata": {},
     "output_type": "display_data"
    },
    {
     "name": "stdout",
     "output_type": "stream",
     "text": [
      "\n",
      "================================================================================\n",
      "                          Iteration - 22\n",
      "================================================================================\n",
      "\n"
     ]
    },
    {
     "data": {
      "text/plain": [
       "array([[0., 1., 0., ..., 1., 0., 0.],\n",
       "       [0., 0., 1., ..., 1., 0., 0.],\n",
       "       [1., 1., 1., ..., 1., 0., 0.],\n",
       "       ...,\n",
       "       [1., 0., 1., ..., 0., 0., 0.],\n",
       "       [1., 0., 0., ..., 1., 1., 0.],\n",
       "       [0., 1., 1., ..., 1., 1., 1.]])"
      ]
     },
     "metadata": {},
     "output_type": "display_data"
    },
    {
     "data": {
      "text/plain": [
       "array([0.72967872, 0.72857655, 0.72725394, 0.72615177, 0.69784447,\n",
       "       0.69771221, 0.69657697, 0.69451591, 0.69367826, 0.66850113,\n",
       "       0.66522768, 0.66501826, 0.66362953, 0.6629021 , 0.66269268,\n",
       "       0.66055447, 0.62879737, 0.62771725, 0.62600888, 0.59634591])"
      ]
     },
     "metadata": {},
     "output_type": "display_data"
    },
    {
     "data": {
      "text/plain": [
       "'Particle'"
      ]
     },
     "metadata": {},
     "output_type": "display_data"
    },
    {
     "name": "stdout",
     "output_type": "stream",
     "text": [
      "\n",
      "================================================================================\n",
      "                          Iteration - 23\n",
      "================================================================================\n",
      "\n"
     ]
    },
    {
     "data": {
      "text/plain": [
       "array([[0., 1., 1., ..., 0., 1., 0.],\n",
       "       [0., 0., 1., ..., 0., 0., 0.],\n",
       "       [0., 1., 0., ..., 1., 1., 0.],\n",
       "       ...,\n",
       "       [1., 0., 1., ..., 1., 1., 0.],\n",
       "       [1., 0., 1., ..., 0., 0., 1.],\n",
       "       [1., 0., 1., ..., 0., 1., 0.]])"
      ]
     },
     "metadata": {},
     "output_type": "display_data"
    },
    {
     "data": {
      "text/plain": [
       "array([0.73197123, 0.7304833 , 0.72845531, 0.72809159, 0.69685251,\n",
       "       0.69632347, 0.69465919, 0.69460408, 0.69376643, 0.69317126,\n",
       "       0.69268631, 0.66532687, 0.66507337, 0.66450024, 0.66205342,\n",
       "       0.66183299, 0.6612268 , 0.65840524, 0.62868716, 0.62723229])"
      ]
     },
     "metadata": {},
     "output_type": "display_data"
    },
    {
     "data": {
      "text/plain": [
       "'Particle'"
      ]
     },
     "metadata": {},
     "output_type": "display_data"
    },
    {
     "name": "stdout",
     "output_type": "stream",
     "text": [
      "\n",
      "================================================================================\n",
      "                          Iteration - 24\n",
      "================================================================================\n",
      "\n"
     ]
    },
    {
     "data": {
      "text/plain": [
       "array([[0., 1., 1., ..., 0., 0., 0.],\n",
       "       [1., 0., 1., ..., 0., 0., 0.],\n",
       "       [1., 0., 0., ..., 1., 1., 0.],\n",
       "       ...,\n",
       "       [0., 0., 1., ..., 1., 1., 1.],\n",
       "       [1., 0., 0., ..., 0., 1., 0.],\n",
       "       [1., 1., 1., ..., 0., 1., 1.]])"
      ]
     },
     "metadata": {},
     "output_type": "display_data"
    },
    {
     "data": {
      "text/plain": [
       "array([0.76431248, 0.73064863, 0.72862063, 0.72587623, 0.69812001,\n",
       "       0.69666514, 0.69554093, 0.69346885, 0.66559139, 0.66502929,\n",
       "       0.66368464, 0.66210853, 0.66177788, 0.66150234, 0.65947434,\n",
       "       0.65789824, 0.63286439, 0.62977831, 0.62903985, 0.62873124])"
      ]
     },
     "metadata": {},
     "output_type": "display_data"
    },
    {
     "data": {
      "text/plain": [
       "'Particle'"
      ]
     },
     "metadata": {},
     "output_type": "display_data"
    },
    {
     "name": "stdout",
     "output_type": "stream",
     "text": [
      "\n",
      "================================================================================\n",
      "                          Iteration - 25\n",
      "================================================================================\n",
      "\n"
     ]
    },
    {
     "data": {
      "text/plain": [
       "array([[1., 1., 1., ..., 1., 1., 1.],\n",
       "       [0., 0., 1., ..., 0., 1., 0.],\n",
       "       [1., 1., 0., ..., 0., 1., 0.],\n",
       "       ...,\n",
       "       [1., 0., 1., ..., 0., 0., 0.],\n",
       "       [1., 0., 1., ..., 1., 1., 0.],\n",
       "       [1., 0., 1., ..., 1., 1., 1.]])"
      ]
     },
     "metadata": {},
     "output_type": "display_data"
    },
    {
     "data": {
      "text/plain": [
       "array([0.73207043, 0.72869778, 0.72726496, 0.72627301, 0.69802082,\n",
       "       0.69766812, 0.6963896 , 0.69544173, 0.69519926, 0.69378848,\n",
       "       0.69338067, 0.69224544, 0.66572365, 0.66504031, 0.66390507,\n",
       "       0.63042859, 0.63021917, 0.62917211, 0.62557903, 0.59338107])"
      ]
     },
     "metadata": {},
     "output_type": "display_data"
    },
    {
     "data": {
      "text/plain": [
       "'Particle'"
      ]
     },
     "metadata": {},
     "output_type": "display_data"
    },
    {
     "name": "stdout",
     "output_type": "stream",
     "text": [
      "\n",
      "================================================================================\n",
      "                          Iteration - 26\n",
      "================================================================================\n",
      "\n"
     ]
    },
    {
     "data": {
      "text/plain": [
       "array([[1., 0., 0., ..., 1., 1., 0.],\n",
       "       [0., 1., 1., ..., 1., 1., 1.],\n",
       "       [1., 1., 1., ..., 1., 0., 0.],\n",
       "       ...,\n",
       "       [1., 0., 0., ..., 1., 1., 0.],\n",
       "       [1., 0., 0., ..., 0., 1., 1.],\n",
       "       [1., 0., 1., ..., 0., 1., 0.]])"
      ]
     },
     "metadata": {},
     "output_type": "display_data"
    },
    {
     "data": {
      "text/plain": [
       "array([0.76022343, 0.73182795, 0.72979996, 0.7277389 , 0.72761766,\n",
       "       0.69709499, 0.69654391, 0.69376643, 0.69345783, 0.66671561,\n",
       "       0.6651395 , 0.66233999, 0.66210853, 0.66171175, 0.66114964,\n",
       "       0.66060958, 0.65882406, 0.65715978, 0.63187243, 0.62980035])"
      ]
     },
     "metadata": {},
     "output_type": "display_data"
    },
    {
     "data": {
      "text/plain": [
       "'Particle'"
      ]
     },
     "metadata": {},
     "output_type": "display_data"
    },
    {
     "name": "stdout",
     "output_type": "stream",
     "text": [
      "\n",
      "================================================================================\n",
      "                          Iteration - 27\n",
      "================================================================================\n",
      "\n"
     ]
    },
    {
     "data": {
      "text/plain": [
       "array([[0., 0., 0., ..., 1., 1., 0.],\n",
       "       [1., 0., 1., ..., 1., 1., 0.],\n",
       "       [0., 1., 1., ..., 1., 0., 1.],\n",
       "       ...,\n",
       "       [1., 0., 0., ..., 1., 1., 0.],\n",
       "       [1., 1., 0., ..., 1., 0., 0.],\n",
       "       [1., 0., 0., ..., 1., 1., 0.]])"
      ]
     },
     "metadata": {},
     "output_type": "display_data"
    },
    {
     "data": {
      "text/plain": [
       "array([0.72957952, 0.72565579, 0.69954181, 0.69836249, 0.69720521,\n",
       "       0.69702886, 0.69641165, 0.69621325, 0.69560706, 0.6937003 ,\n",
       "       0.69334761, 0.6642247 , 0.66216364, 0.66165664, 0.66114964,\n",
       "       0.66108351, 0.66088512, 0.65771087, 0.6576227 , 0.63040654])"
      ]
     },
     "metadata": {},
     "output_type": "display_data"
    },
    {
     "data": {
      "text/plain": [
       "'Particle'"
      ]
     },
     "metadata": {},
     "output_type": "display_data"
    },
    {
     "name": "stdout",
     "output_type": "stream",
     "text": [
      "\n",
      "================================================================================\n",
      "                          Iteration - 28\n",
      "================================================================================\n",
      "\n"
     ]
    },
    {
     "data": {
      "text/plain": [
       "array([[0., 1., 1., ..., 0., 1., 1.],\n",
       "       [0., 1., 1., ..., 1., 0., 1.],\n",
       "       [0., 0., 0., ..., 1., 1., 0.],\n",
       "       ...,\n",
       "       [1., 0., 1., ..., 0., 0., 0.],\n",
       "       [1., 0., 0., ..., 1., 1., 1.],\n",
       "       [0., 1., 0., ..., 0., 1., 1.]])"
      ]
     },
     "metadata": {},
     "output_type": "display_data"
    },
    {
     "data": {
      "text/plain": [
       "array([0.73051637, 0.72981098, 0.72903946, 0.72756255, 0.69835147,\n",
       "       0.6963896 , 0.69426241, 0.66365157, 0.6631556 , 0.66237305,\n",
       "       0.66159051, 0.66142519, 0.66127088, 0.6603671 , 0.65820685,\n",
       "       0.63259986, 0.63108989, 0.62994363, 0.62660405, 0.56505172])"
      ]
     },
     "metadata": {},
     "output_type": "display_data"
    },
    {
     "data": {
      "text/plain": [
       "'Particle'"
      ]
     },
     "metadata": {},
     "output_type": "display_data"
    },
    {
     "name": "stdout",
     "output_type": "stream",
     "text": [
      "\n",
      "================================================================================\n",
      "                          Iteration - 29\n",
      "================================================================================\n",
      "\n"
     ]
    },
    {
     "data": {
      "text/plain": [
       "array([[0., 0., 0., ..., 1., 1., 0.],\n",
       "       [1., 0., 0., ..., 1., 1., 0.],\n",
       "       [1., 0., 0., ..., 1., 0., 0.],\n",
       "       ...,\n",
       "       [1., 0., 0., ..., 0., 1., 1.],\n",
       "       [1., 0., 1., ..., 0., 1., 0.],\n",
       "       [1., 0., 1., ..., 1., 1., 0.]])"
      ]
     },
     "metadata": {},
     "output_type": "display_data"
    },
    {
     "data": {
      "text/plain": [
       "array([0.72784911, 0.72765072, 0.72714372, 0.72658162, 0.69849475,\n",
       "       0.69815308, 0.69789958, 0.6967423 , 0.69539765, 0.66435696,\n",
       "       0.66340909, 0.66322173, 0.66209751, 0.66124884, 0.66074184,\n",
       "       0.63025224, 0.62895168, 0.62829037, 0.62617421, 0.62530349])"
      ]
     },
     "metadata": {},
     "output_type": "display_data"
    },
    {
     "data": {
      "text/plain": [
       "'Particle'"
      ]
     },
     "metadata": {},
     "output_type": "display_data"
    },
    {
     "name": "stdout",
     "output_type": "stream",
     "text": [
      "\n",
      "================================================================================\n",
      "                          Iteration - 30\n",
      "================================================================================\n",
      "\n"
     ]
    },
    {
     "data": {
      "text/plain": [
       "array([[1., 1., 0., ..., 1., 0., 0.],\n",
       "       [0., 1., 1., ..., 0., 0., 1.],\n",
       "       [0., 0., 1., ..., 1., 1., 0.],\n",
       "       ...,\n",
       "       [1., 1., 1., ..., 1., 1., 0.],\n",
       "       [1., 0., 0., ..., 1., 1., 1.],\n",
       "       [1., 1., 0., ..., 1., 0., 0.]])"
      ]
     },
     "metadata": {},
     "output_type": "display_data"
    },
    {
     "data": {
      "text/plain": [
       "array([0.72749642, 0.69886949, 0.69866007, 0.69722725, 0.6963896 ,\n",
       "       0.69606997, 0.69594873, 0.69580545, 0.69452693, 0.69382154,\n",
       "       0.69292878, 0.69262018, 0.6632107 , 0.66185503, 0.66117169,\n",
       "       0.6606206 , 0.65801948, 0.63067106, 0.62998772, 0.62574436])"
      ]
     },
     "metadata": {},
     "output_type": "display_data"
    },
    {
     "data": {
      "text/plain": [
       "'Particle'"
      ]
     },
     "metadata": {},
     "output_type": "display_data"
    },
    {
     "name": "stdout",
     "output_type": "stream",
     "text": [
      "\n",
      "================================================================================\n",
      "                          Iteration - 31\n",
      "================================================================================\n",
      "\n"
     ]
    },
    {
     "data": {
      "text/plain": [
       "array([[0., 1., 1., ..., 0., 1., 1.],\n",
       "       [0., 0., 1., ..., 0., 1., 1.],\n",
       "       [0., 1., 0., ..., 1., 0., 0.],\n",
       "       ...,\n",
       "       [1., 0., 0., ..., 0., 1., 0.],\n",
       "       [1., 0., 1., ..., 1., 1., 0.],\n",
       "       [1., 0., 0., ..., 1., 1., 1.]])"
      ]
     },
     "metadata": {},
     "output_type": "display_data"
    },
    {
     "data": {
      "text/plain": [
       "array([0.7311446 , 0.72886311, 0.72657059, 0.69683047, 0.69595976,\n",
       "       0.69549684, 0.69534254, 0.69469226, 0.69460408, 0.69273039,\n",
       "       0.68999701, 0.66612044, 0.66408142, 0.66220773, 0.66134803,\n",
       "       0.66123782, 0.66013565, 0.65999236, 0.65797539, 0.63064902])"
      ]
     },
     "metadata": {},
     "output_type": "display_data"
    },
    {
     "data": {
      "text/plain": [
       "'Particle'"
      ]
     },
     "metadata": {},
     "output_type": "display_data"
    },
    {
     "name": "stdout",
     "output_type": "stream",
     "text": [
      "\n",
      "================================================================================\n",
      "                          Iteration - 32\n",
      "================================================================================\n",
      "\n"
     ]
    },
    {
     "data": {
      "text/plain": [
       "array([[0., 0., 1., ..., 1., 0., 0.],\n",
       "       [0., 1., 0., ..., 1., 0., 1.],\n",
       "       [0., 1., 0., ..., 1., 0., 0.],\n",
       "       ...,\n",
       "       [0., 1., 1., ..., 1., 0., 0.],\n",
       "       [1., 1., 0., ..., 1., 1., 1.],\n",
       "       [1., 0., 1., ..., 1., 1., 0.]])"
      ]
     },
     "metadata": {},
     "output_type": "display_data"
    },
    {
     "data": {
      "text/plain": [
       "array([0.76150194, 0.73039513, 0.729315  , 0.72877494, 0.72681307,\n",
       "       0.72657059, 0.69558502, 0.6954748 , 0.69528743, 0.69514415,\n",
       "       0.69322637, 0.69308309, 0.69015131, 0.66307844, 0.66154643,\n",
       "       0.66088512, 0.66010258, 0.63402167, 0.62894066, 0.62608603])"
      ]
     },
     "metadata": {},
     "output_type": "display_data"
    },
    {
     "data": {
      "text/plain": [
       "'Particle'"
      ]
     },
     "metadata": {},
     "output_type": "display_data"
    },
    {
     "name": "stdout",
     "output_type": "stream",
     "text": [
      "\n",
      "================================================================================\n",
      "                          Iteration - 33\n",
      "================================================================================\n",
      "\n"
     ]
    },
    {
     "data": {
      "text/plain": [
       "array([[0., 1., 1., ..., 0., 1., 0.],\n",
       "       [1., 0., 0., ..., 0., 0., 0.],\n",
       "       [0., 0., 1., ..., 0., 0., 0.],\n",
       "       ...,\n",
       "       [1., 1., 0., ..., 0., 1., 1.],\n",
       "       [1., 1., 1., ..., 1., 1., 0.],\n",
       "       [1., 0., 1., ..., 1., 0., 0.]])"
      ]
     },
     "metadata": {},
     "output_type": "display_data"
    },
    {
     "data": {
      "text/plain": [
       "array([0.73161854, 0.7272319 , 0.69673127, 0.69662106, 0.69610304,\n",
       "       0.69564013, 0.6956291 , 0.69474737, 0.69297287, 0.69081262,\n",
       "       0.66281392, 0.6627037 , 0.6627037 , 0.6627037 , 0.66171175,\n",
       "       0.66156847, 0.66146927, 0.6612819 , 0.65826195, 0.62935948])"
      ]
     },
     "metadata": {},
     "output_type": "display_data"
    },
    {
     "data": {
      "text/plain": [
       "'Particle'"
      ]
     },
     "metadata": {},
     "output_type": "display_data"
    },
    {
     "name": "stdout",
     "output_type": "stream",
     "text": [
      "\n",
      "================================================================================\n",
      "                          Iteration - 34\n",
      "================================================================================\n",
      "\n"
     ]
    },
    {
     "data": {
      "text/plain": [
       "array([[0., 1., 1., ..., 0., 1., 1.],\n",
       "       [0., 1., 0., ..., 0., 0., 1.],\n",
       "       [0., 0., 0., ..., 1., 0., 0.],\n",
       "       ...,\n",
       "       [0., 0., 0., ..., 1., 0., 0.],\n",
       "       [1., 0., 1., ..., 1., 1., 0.],\n",
       "       [1., 0., 1., ..., 1., 1., 0.]])"
      ]
     },
     "metadata": {},
     "output_type": "display_data"
    },
    {
     "data": {
      "text/plain": [
       "array([0.76231755, 0.73086906, 0.72758459, 0.72643833, 0.72501653,\n",
       "       0.69629041, 0.69620223, 0.69545276, 0.6953756 , 0.69461511,\n",
       "       0.69406402, 0.69392074, 0.66293516, 0.66275881, 0.66127088,\n",
       "       0.66091819, 0.6608741 , 0.63255578, 0.6266812 , 0.62574436])"
      ]
     },
     "metadata": {},
     "output_type": "display_data"
    },
    {
     "data": {
      "text/plain": [
       "'Particle'"
      ]
     },
     "metadata": {},
     "output_type": "display_data"
    },
    {
     "name": "stdout",
     "output_type": "stream",
     "text": [
      "\n",
      "================================================================================\n",
      "                          Iteration - 35\n",
      "================================================================================\n",
      "\n"
     ]
    },
    {
     "data": {
      "text/plain": [
       "array([[0., 0., 0., ..., 1., 0., 0.],\n",
       "       [1., 0., 1., ..., 0., 1., 1.],\n",
       "       [0., 0., 1., ..., 1., 0., 0.],\n",
       "       ...,\n",
       "       [1., 0., 0., ..., 1., 1., 0.],\n",
       "       [1., 0., 1., ..., 1., 1., 0.],\n",
       "       [1., 0., 1., ..., 1., 0., 0.]])"
      ]
     },
     "metadata": {},
     "output_type": "display_data"
    },
    {
     "data": {
      "text/plain": [
       "array([0.75840484, 0.72486223, 0.6974036 , 0.69614712, 0.69592669,\n",
       "       0.69541969, 0.69469226, 0.69398687, 0.69387665, 0.69298389,\n",
       "       0.68983168, 0.66653926, 0.66373975, 0.66343114, 0.66325479,\n",
       "       0.6623951 , 0.66194321, 0.66157949, 0.65835013, 0.63111193])"
      ]
     },
     "metadata": {},
     "output_type": "display_data"
    },
    {
     "data": {
      "text/plain": [
       "'Particle'"
      ]
     },
     "metadata": {},
     "output_type": "display_data"
    },
    {
     "name": "stdout",
     "output_type": "stream",
     "text": [
      "\n",
      "================================================================================\n",
      "                          Iteration - 36\n",
      "================================================================================\n",
      "\n"
     ]
    },
    {
     "data": {
      "text/plain": [
       "array([[0., 1., 0., ..., 1., 1., 1.],\n",
       "       [0., 0., 1., ..., 0., 1., 1.],\n",
       "       [0., 0., 1., ..., 1., 0., 1.],\n",
       "       ...,\n",
       "       [1., 0., 0., ..., 1., 1., 1.],\n",
       "       [1., 0., 1., ..., 1., 0., 0.],\n",
       "       [0., 0., 1., ..., 1., 1., 1.]])"
      ]
     },
     "metadata": {},
     "output_type": "display_data"
    },
    {
     "data": {
      "text/plain": [
       "array([0.75836076, 0.73040615, 0.69691864, 0.69586056, 0.69582749,\n",
       "       0.69505597, 0.69467021, 0.69463715, 0.69374439, 0.69366724,\n",
       "       0.69365622, 0.69365622, 0.69359009, 0.66307844, 0.65941923,\n",
       "       0.65873589, 0.63344854, 0.63135441, 0.63009794, 0.62940357])"
      ]
     },
     "metadata": {},
     "output_type": "display_data"
    },
    {
     "data": {
      "text/plain": [
       "'Particle'"
      ]
     },
     "metadata": {},
     "output_type": "display_data"
    },
    {
     "name": "stdout",
     "output_type": "stream",
     "text": [
      "\n",
      "================================================================================\n",
      "                          Iteration - 37\n",
      "================================================================================\n",
      "\n"
     ]
    },
    {
     "data": {
      "text/plain": [
       "array([[0., 0., 1., ..., 0., 1., 1.],\n",
       "       [0., 0., 0., ..., 1., 0., 0.],\n",
       "       [1., 0., 1., ..., 0., 0., 0.],\n",
       "       ...,\n",
       "       [1., 1., 0., ..., 0., 1., 1.],\n",
       "       [1., 1., 0., ..., 1., 1., 0.],\n",
       "       [0., 0., 1., ..., 0., 1., 1.]])"
      ]
     },
     "metadata": {},
     "output_type": "display_data"
    },
    {
     "data": {
      "text/plain": [
       "array([0.76003606, 0.75884571, 0.7291607 , 0.72826794, 0.72700044,\n",
       "       0.72700044, 0.72690125, 0.69495678, 0.69381052, 0.66444514,\n",
       "       0.66286903, 0.66249429, 0.66235101, 0.66111658, 0.65959558,\n",
       "       0.63159689, 0.62980035, 0.62932642, 0.62559006, 0.59708436])"
      ]
     },
     "metadata": {},
     "output_type": "display_data"
    },
    {
     "data": {
      "text/plain": [
       "'Particle'"
      ]
     },
     "metadata": {},
     "output_type": "display_data"
    },
    {
     "name": "stdout",
     "output_type": "stream",
     "text": [
      "\n",
      "================================================================================\n",
      "                          Iteration - 38\n",
      "================================================================================\n",
      "\n"
     ]
    },
    {
     "data": {
      "text/plain": [
       "array([[0., 0., 0., ..., 0., 0., 0.],\n",
       "       [1., 0., 0., ..., 1., 0., 0.],\n",
       "       [1., 1., 0., ..., 0., 0., 0.],\n",
       "       ...,\n",
       "       [1., 0., 0., ..., 0., 1., 1.],\n",
       "       [1., 1., 1., ..., 1., 1., 0.],\n",
       "       [0., 1., 1., ..., 1., 0., 1.]])"
      ]
     },
     "metadata": {},
     "output_type": "display_data"
    },
    {
     "data": {
      "text/plain": [
       "array([0.72939215, 0.7271327 , 0.72590929, 0.69604793, 0.69558502,\n",
       "       0.69530947, 0.6949678 , 0.69493474, 0.69487963, 0.69441672,\n",
       "       0.69367826, 0.693546  , 0.66345318, 0.66337603, 0.66258247,\n",
       "       0.66166766, 0.65885713, 0.65839422, 0.62980035, 0.62977831])"
      ]
     },
     "metadata": {},
     "output_type": "display_data"
    },
    {
     "data": {
      "text/plain": [
       "'Particle'"
      ]
     },
     "metadata": {},
     "output_type": "display_data"
    },
    {
     "name": "stdout",
     "output_type": "stream",
     "text": [
      "\n",
      "================================================================================\n",
      "                          Iteration - 39\n",
      "================================================================================\n",
      "\n"
     ]
    },
    {
     "data": {
      "text/plain": [
       "array([[0., 1., 0., ..., 1., 1., 0.],\n",
       "       [1., 0., 1., ..., 1., 0., 0.],\n",
       "       [1., 0., 1., ..., 0., 1., 0.],\n",
       "       ...,\n",
       "       [1., 1., 1., ..., 1., 1., 0.],\n",
       "       [1., 0., 1., ..., 1., 0., 1.],\n",
       "       [1., 0., 1., ..., 1., 1., 0.]])"
      ]
     },
     "metadata": {},
     "output_type": "display_data"
    },
    {
     "data": {
      "text/plain": [
       "array([0.76027853, 0.75778763, 0.72604155, 0.69698477, 0.695574  ,\n",
       "       0.69535356, 0.6951221 , 0.69503393, 0.69390972, 0.69330352,\n",
       "       0.66359646, 0.66291312, 0.66285801, 0.66238408, 0.66194321,\n",
       "       0.66175584, 0.66171175, 0.6590445 , 0.62857694, 0.62682449])"
      ]
     },
     "metadata": {},
     "output_type": "display_data"
    },
    {
     "data": {
      "text/plain": [
       "'Particle'"
      ]
     },
     "metadata": {},
     "output_type": "display_data"
    },
    {
     "name": "stdout",
     "output_type": "stream",
     "text": [
      "\n",
      "================================================================================\n",
      "                          Iteration - 40\n",
      "================================================================================\n",
      "\n"
     ]
    },
    {
     "data": {
      "text/plain": [
       "array([[1., 0., 0., ..., 0., 0., 0.],\n",
       "       [0., 0., 0., ..., 0., 1., 0.],\n",
       "       [1., 1., 1., ..., 1., 1., 0.],\n",
       "       ...,\n",
       "       [0., 1., 0., ..., 1., 1., 0.],\n",
       "       [1., 0., 0., ..., 0., 0., 1.],\n",
       "       [1., 1., 0., ..., 0., 0., 0.]])"
      ]
     },
     "metadata": {},
     "output_type": "display_data"
    },
    {
     "data": {
      "text/plain": [
       "array([0.75908819, 0.75747902, 0.72811363, 0.6964888 , 0.69569523,\n",
       "       0.6954748 , 0.69530947, 0.69500087, 0.69489065, 0.69416322,\n",
       "       0.69127553, 0.66362953, 0.6621416 , 0.66130395, 0.66094023,\n",
       "       0.66084104, 0.6594523 , 0.63105682, 0.629117  , 0.59770158])"
      ]
     },
     "metadata": {},
     "output_type": "display_data"
    },
    {
     "data": {
      "text/plain": [
       "'Particle'"
      ]
     },
     "metadata": {},
     "output_type": "display_data"
    },
    {
     "name": "stdout",
     "output_type": "stream",
     "text": [
      "\n",
      "================================================================================\n",
      "                          Iteration - 41\n",
      "================================================================================\n",
      "\n"
     ]
    },
    {
     "data": {
      "text/plain": [
       "array([[1., 1., 0., ..., 1., 1., 0.],\n",
       "       [0., 0., 1., ..., 0., 1., 0.],\n",
       "       [0., 0., 0., ..., 1., 1., 0.],\n",
       "       ...,\n",
       "       [0., 1., 1., ..., 0., 0., 0.],\n",
       "       [0., 0., 0., ..., 0., 0., 0.],\n",
       "       [1., 1., 0., ..., 0., 1., 0.]])"
      ]
     },
     "metadata": {},
     "output_type": "display_data"
    },
    {
     "data": {
      "text/plain": [
       "array([0.75804113, 0.72832305, 0.72747437, 0.72726496, 0.72716577,\n",
       "       0.72550149, 0.69618019, 0.69478043, 0.69397585, 0.69394278,\n",
       "       0.69316024, 0.66299027, 0.66248327, 0.66074184, 0.65918778,\n",
       "       0.65881304, 0.63031837, 0.6299767 , 0.62889657, 0.59795508])"
      ]
     },
     "metadata": {},
     "output_type": "display_data"
    },
    {
     "data": {
      "text/plain": [
       "'Particle'"
      ]
     },
     "metadata": {},
     "output_type": "display_data"
    },
    {
     "name": "stdout",
     "output_type": "stream",
     "text": [
      "\n",
      "================================================================================\n",
      "                          Iteration - 42\n",
      "================================================================================\n",
      "\n"
     ]
    },
    {
     "data": {
      "text/plain": [
       "array([[1., 0., 0., ..., 1., 0., 0.],\n",
       "       [0., 0., 1., ..., 1., 0., 1.],\n",
       "       [1., 1., 0., ..., 1., 1., 0.],\n",
       "       ...,\n",
       "       [1., 0., 1., ..., 1., 1., 1.],\n",
       "       [0., 1., 0., ..., 1., 1., 1.],\n",
       "       [1., 1., 0., ..., 1., 1., 1.]])"
      ]
     },
     "metadata": {},
     "output_type": "display_data"
    },
    {
     "data": {
      "text/plain": [
       "array([0.72793729, 0.72788218, 0.72774992, 0.72695635, 0.69579443,\n",
       "       0.69484656, 0.69463715, 0.69459306, 0.69444978, 0.66342012,\n",
       "       0.6632107 , 0.66228488, 0.66213058, 0.66146927, 0.66139212,\n",
       "       0.66094023, 0.65871384, 0.6307372 , 0.62854387, 0.62762907])"
      ]
     },
     "metadata": {},
     "output_type": "display_data"
    },
    {
     "data": {
      "text/plain": [
       "'Particle'"
      ]
     },
     "metadata": {},
     "output_type": "display_data"
    },
    {
     "name": "stdout",
     "output_type": "stream",
     "text": [
      "\n",
      "================================================================================\n",
      "                          Iteration - 43\n",
      "================================================================================\n",
      "\n"
     ]
    },
    {
     "data": {
      "text/plain": [
       "array([[0., 1., 1., ..., 1., 1., 1.],\n",
       "       [1., 0., 0., ..., 0., 1., 0.],\n",
       "       [1., 0., 0., ..., 0., 0., 0.],\n",
       "       ...,\n",
       "       [0., 1., 0., ..., 0., 0., 0.],\n",
       "       [0., 0., 1., ..., 1., 1., 0.],\n",
       "       [1., 0., 1., ..., 1., 1., 1.]])"
      ]
     },
     "metadata": {},
     "output_type": "display_data"
    },
    {
     "data": {
      "text/plain": [
       "array([0.72924887, 0.72757357, 0.72657059, 0.7257109 , 0.69558502,\n",
       "       0.69538663, 0.69456   , 0.69409709, 0.69393176, 0.69378848,\n",
       "       0.69352396, 0.69245485, 0.69183763, 0.69117633, 0.66313355,\n",
       "       0.66231794, 0.66216364, 0.66113862, 0.63154178, 0.63075924])"
      ]
     },
     "metadata": {},
     "output_type": "display_data"
    },
    {
     "data": {
      "text/plain": [
       "'Particle'"
      ]
     },
     "metadata": {},
     "output_type": "display_data"
    },
    {
     "name": "stdout",
     "output_type": "stream",
     "text": [
      "\n",
      "================================================================================\n",
      "                          Iteration - 44\n",
      "================================================================================\n",
      "\n"
     ]
    },
    {
     "data": {
      "text/plain": [
       "array([[1., 1., 1., ..., 0., 1., 0.],\n",
       "       [0., 0., 1., ..., 1., 0., 0.],\n",
       "       [1., 1., 1., ..., 1., 1., 0.],\n",
       "       ...,\n",
       "       [1., 1., 0., ..., 1., 0., 1.],\n",
       "       [1., 0., 1., ..., 0., 1., 1.],\n",
       "       [1., 1., 1., ..., 1., 1., 0.]])"
      ]
     },
     "metadata": {},
     "output_type": "display_data"
    },
    {
     "data": {
      "text/plain": [
       "array([0.72835611, 0.7277389 , 0.72732007, 0.72704453, 0.72639425,\n",
       "       0.72491734, 0.69625734, 0.69568421, 0.69550786, 0.69544173,\n",
       "       0.69518824, 0.6942073 , 0.6912094 , 0.66329888, 0.66285801,\n",
       "       0.66135906, 0.66118271, 0.6312993 , 0.62978933, 0.62771725])"
      ]
     },
     "metadata": {},
     "output_type": "display_data"
    },
    {
     "data": {
      "text/plain": [
       "'Particle'"
      ]
     },
     "metadata": {},
     "output_type": "display_data"
    },
    {
     "name": "stdout",
     "output_type": "stream",
     "text": [
      "\n",
      "================================================================================\n",
      "                          Iteration - 45\n",
      "================================================================================\n",
      "\n"
     ]
    },
    {
     "data": {
      "text/plain": [
       "array([[1., 0., 1., ..., 0., 1., 0.],\n",
       "       [1., 1., 1., ..., 1., 0., 0.],\n",
       "       [1., 0., 0., ..., 1., 0., 0.],\n",
       "       ...,\n",
       "       [0., 0., 0., ..., 1., 1., 0.],\n",
       "       [1., 1., 0., ..., 0., 0., 1.],\n",
       "       [1., 0., 1., ..., 1., 1., 1.]])"
      ]
     },
     "metadata": {},
     "output_type": "display_data"
    },
    {
     "data": {
      "text/plain": [
       "array([0.75866936, 0.72812466, 0.72762868, 0.72640527, 0.72535821,\n",
       "       0.69579443, 0.69515517, 0.69432854, 0.69414117, 0.66404835,\n",
       "       0.66350829, 0.66278086, 0.66173379, 0.66171175, 0.63075924,\n",
       "       0.63027428, 0.62966809, 0.62899576, 0.62695675, 0.62694573])"
      ]
     },
     "metadata": {},
     "output_type": "display_data"
    },
    {
     "data": {
      "text/plain": [
       "'Particle'"
      ]
     },
     "metadata": {},
     "output_type": "display_data"
    },
    {
     "name": "stdout",
     "output_type": "stream",
     "text": [
      "\n",
      "================================================================================\n",
      "                          Iteration - 46\n",
      "================================================================================\n",
      "\n"
     ]
    },
    {
     "data": {
      "text/plain": [
       "array([[1., 1., 1., ..., 1., 0., 0.],\n",
       "       [1., 0., 1., ..., 1., 1., 0.],\n",
       "       [1., 1., 1., ..., 1., 0., 1.],\n",
       "       ...,\n",
       "       [0., 0., 0., ..., 0., 1., 1.],\n",
       "       [0., 0., 1., ..., 0., 0., 0.],\n",
       "       [0., 0., 1., ..., 0., 0., 0.]])"
      ]
     },
     "metadata": {},
     "output_type": "display_data"
    },
    {
     "data": {
      "text/plain": [
       "array([0.75926454, 0.72717679, 0.7269784 , 0.7263722 , 0.72582112,\n",
       "       0.69567319, 0.69470328, 0.69451591, 0.69417424, 0.69406402,\n",
       "       0.69345783, 0.66304538, 0.66273677, 0.66220773, 0.66207547,\n",
       "       0.66101738, 0.65889019, 0.65882406, 0.6303845 , 0.63020815])"
      ]
     },
     "metadata": {},
     "output_type": "display_data"
    },
    {
     "data": {
      "text/plain": [
       "'Particle'"
      ]
     },
     "metadata": {},
     "output_type": "display_data"
    },
    {
     "name": "stdout",
     "output_type": "stream",
     "text": [
      "\n",
      "================================================================================\n",
      "                          Iteration - 47\n",
      "================================================================================\n",
      "\n"
     ]
    },
    {
     "data": {
      "text/plain": [
       "array([[1., 1., 1., ..., 0., 1., 0.],\n",
       "       [1., 1., 0., ..., 1., 0., 0.],\n",
       "       [0., 1., 0., ..., 0., 1., 1.],\n",
       "       ...,\n",
       "       [1., 1., 1., ..., 1., 0., 0.],\n",
       "       [0., 0., 0., ..., 1., 0., 0.],\n",
       "       [1., 1., 0., ..., 0., 1., 0.]])"
      ]
     },
     "metadata": {},
     "output_type": "display_data"
    },
    {
     "data": {
      "text/plain": [
       "array([0.72544638, 0.69545276, 0.69543071, 0.69541969, 0.69513313,\n",
       "       0.69473634, 0.69320433, 0.69115429, 0.69114327, 0.66312253,\n",
       "       0.66304538, 0.66297925, 0.66228488, 0.66227386, 0.66215262,\n",
       "       0.66203138, 0.66078593, 0.62991057, 0.62988852, 0.59881477])"
      ]
     },
     "metadata": {},
     "output_type": "display_data"
    },
    {
     "data": {
      "text/plain": [
       "'Particle'"
      ]
     },
     "metadata": {},
     "output_type": "display_data"
    },
    {
     "name": "stdout",
     "output_type": "stream",
     "text": [
      "\n",
      "================================================================================\n",
      "                          Iteration - 48\n",
      "================================================================================\n",
      "\n"
     ]
    },
    {
     "data": {
      "text/plain": [
       "array([[0., 0., 0., ..., 0., 1., 0.],\n",
       "       [0., 0., 0., ..., 1., 1., 1.],\n",
       "       [0., 0., 0., ..., 1., 1., 0.],\n",
       "       ...,\n",
       "       [1., 0., 1., ..., 0., 0., 0.],\n",
       "       [1., 0., 1., ..., 1., 0., 0.],\n",
       "       [1., 0., 0., ..., 1., 1., 0.]])"
      ]
     },
     "metadata": {},
     "output_type": "display_data"
    },
    {
     "data": {
      "text/plain": [
       "array([0.72809159, 0.72689022, 0.7258652 , 0.72579907, 0.69533152,\n",
       "       0.69505597, 0.69457102, 0.69448285, 0.6943065 , 0.69429548,\n",
       "       0.69419628, 0.69410811, 0.69374439, 0.69265324, 0.66354136,\n",
       "       0.66271473, 0.66197627, 0.66156847, 0.66148029, 0.65890121])"
      ]
     },
     "metadata": {},
     "output_type": "display_data"
    },
    {
     "data": {
      "text/plain": [
       "'Particle'"
      ]
     },
     "metadata": {},
     "output_type": "display_data"
    },
    {
     "name": "stdout",
     "output_type": "stream",
     "text": [
      "\n",
      "================================================================================\n",
      "                          Iteration - 49\n",
      "================================================================================\n",
      "\n"
     ]
    },
    {
     "data": {
      "text/plain": [
       "array([[0., 1., 1., ..., 0., 0., 1.],\n",
       "       [1., 0., 1., ..., 0., 0., 1.],\n",
       "       [0., 0., 1., ..., 1., 1., 1.],\n",
       "       ...,\n",
       "       [1., 1., 0., ..., 0., 0., 0.],\n",
       "       [0., 0., 1., ..., 1., 0., 1.],\n",
       "       [0., 0., 0., ..., 1., 1., 0.]])"
      ]
     },
     "metadata": {},
     "output_type": "display_data"
    },
    {
     "data": {
      "text/plain": [
       "array([0.72828998, 0.72778298, 0.72642731, 0.72639425, 0.69545276,\n",
       "       0.695067  , 0.69357907, 0.69322637, 0.6931382 , 0.691518  ,\n",
       "       0.69072444, 0.66296823, 0.66293516, 0.6628029 , 0.66242816,\n",
       "       0.66232897, 0.66157949, 0.66076388, 0.6299767 , 0.62928233])"
      ]
     },
     "metadata": {},
     "output_type": "display_data"
    },
    {
     "data": {
      "text/plain": [
       "'Particle'"
      ]
     },
     "metadata": {},
     "output_type": "display_data"
    },
    {
     "name": "stdout",
     "output_type": "stream",
     "text": [
      "\n",
      "================================================================================\n",
      "                          Iteration - 50\n",
      "================================================================================\n",
      "\n"
     ]
    },
    {
     "data": {
      "text/plain": [
       "array([[1., 0., 1., ..., 0., 1., 0.],\n",
       "       [1., 1., 0., ..., 1., 0., 1.],\n",
       "       [1., 0., 1., ..., 0., 1., 0.],\n",
       "       ...,\n",
       "       [0., 0., 0., ..., 1., 0., 0.],\n",
       "       [0., 0., 1., ..., 0., 1., 0.],\n",
       "       [1., 0., 1., ..., 1., 1., 0.]])"
      ]
     },
     "metadata": {},
     "output_type": "display_data"
    },
    {
     "data": {
      "text/plain": [
       "array([0.72866472, 0.72690125, 0.72582112, 0.7250496 , 0.69555195,\n",
       "       0.69525437, 0.69503393, 0.69485758, 0.69435058, 0.69428445,\n",
       "       0.694053  , 0.69375541, 0.66291312, 0.66286903, 0.6626486 ,\n",
       "       0.66259349, 0.66175584, 0.6611276 , 0.65886815, 0.59625773])"
      ]
     },
     "metadata": {},
     "output_type": "display_data"
    },
    {
     "data": {
      "text/plain": [
       "'Particle'"
      ]
     },
     "metadata": {},
     "output_type": "display_data"
    },
    {
     "name": "stdout",
     "output_type": "stream",
     "text": [
      "\n",
      "================================================================================\n",
      "                          Iteration - 51\n",
      "================================================================================\n",
      "\n"
     ]
    },
    {
     "data": {
      "text/plain": [
       "array([[1., 0., 1., ..., 0., 0., 0.],\n",
       "       [1., 1., 0., ..., 0., 1., 0.],\n",
       "       [0., 1., 1., ..., 0., 0., 1.],\n",
       "       ...,\n",
       "       [1., 1., 0., ..., 1., 0., 0.],\n",
       "       [0., 0., 1., ..., 1., 1., 1.],\n",
       "       [1., 0., 1., ..., 1., 1., 1.]])"
      ]
     },
     "metadata": {},
     "output_type": "display_data"
    },
    {
     "data": {
      "text/plain": [
       "array([0.72583214, 0.72554557, 0.69480248, 0.69393176, 0.69373337,\n",
       "       0.69368928, 0.69128655, 0.69123144, 0.66401529, 0.66368464,\n",
       "       0.66301231, 0.66300129, 0.66297925, 0.66253838, 0.66224079,\n",
       "       0.6617889 , 0.66171175, 0.62984444, 0.62938152, 0.5982196 ])"
      ]
     },
     "metadata": {},
     "output_type": "display_data"
    },
    {
     "data": {
      "text/plain": [
       "'Particle'"
      ]
     },
     "metadata": {},
     "output_type": "display_data"
    },
    {
     "name": "stdout",
     "output_type": "stream",
     "text": [
      "\n",
      "================================================================================\n",
      "                          Iteration - 52\n",
      "================================================================================\n",
      "\n"
     ]
    },
    {
     "data": {
      "text/plain": [
       "array([[1., 0., 1., ..., 0., 0., 1.],\n",
       "       [0., 0., 1., ..., 1., 1., 0.],\n",
       "       [0., 0., 1., ..., 1., 1., 1.],\n",
       "       ...,\n",
       "       [0., 0., 0., ..., 1., 1., 0.],\n",
       "       [1., 0., 0., ..., 1., 0., 0.],\n",
       "       [0., 1., 1., ..., 1., 1., 0.]])"
      ]
     },
     "metadata": {},
     "output_type": "display_data"
    },
    {
     "data": {
      "text/plain": [
       "array([0.75934169, 0.72626199, 0.72614075, 0.7244434 , 0.69584954,\n",
       "       0.69535356, 0.6949678 , 0.69454898, 0.69427343, 0.69383256,\n",
       "       0.69367826, 0.69357907, 0.69191479, 0.66285801, 0.66247225,\n",
       "       0.66241714, 0.66196525, 0.66161256, 0.66070877, 0.62954685])"
      ]
     },
     "metadata": {},
     "output_type": "display_data"
    },
    {
     "data": {
      "text/plain": [
       "'Particle'"
      ]
     },
     "metadata": {},
     "output_type": "display_data"
    },
    {
     "name": "stdout",
     "output_type": "stream",
     "text": [
      "\n",
      "================================================================================\n",
      "                          Iteration - 53\n",
      "================================================================================\n",
      "\n"
     ]
    },
    {
     "data": {
      "text/plain": [
       "array([[1., 0., 1., ..., 1., 1., 1.],\n",
       "       [0., 0., 1., ..., 0., 1., 0.],\n",
       "       [0., 0., 1., ..., 1., 1., 0.],\n",
       "       ...,\n",
       "       [1., 1., 0., ..., 0., 1., 1.],\n",
       "       [0., 0., 1., ..., 0., 0., 0.],\n",
       "       [1., 1., 1., ..., 1., 1., 0.]])"
      ]
     },
     "metadata": {},
     "output_type": "display_data"
    },
    {
     "data": {
      "text/plain": [
       "array([0.72792626, 0.72746335, 0.72616279, 0.72582112, 0.72567784,\n",
       "       0.72557864, 0.72551251, 0.69528743, 0.69479145, 0.69458204,\n",
       "       0.69452693, 0.69368928, 0.69249894, 0.6638169 , 0.66296823,\n",
       "       0.6629572 , 0.66181095, 0.66172277, 0.66121577, 0.65982704])"
      ]
     },
     "metadata": {},
     "output_type": "display_data"
    },
    {
     "data": {
      "text/plain": [
       "'Particle'"
      ]
     },
     "metadata": {},
     "output_type": "display_data"
    },
    {
     "name": "stdout",
     "output_type": "stream",
     "text": [
      "\n",
      "================================================================================\n",
      "                          Iteration - 54\n",
      "================================================================================\n",
      "\n"
     ]
    },
    {
     "data": {
      "text/plain": [
       "array([[0., 1., 0., ..., 1., 1., 0.],\n",
       "       [0., 0., 0., ..., 0., 1., 0.],\n",
       "       [1., 0., 0., ..., 1., 1., 1.],\n",
       "       ...,\n",
       "       [0., 0., 0., ..., 1., 1., 1.],\n",
       "       [1., 1., 1., ..., 1., 0., 1.],\n",
       "       [1., 0., 1., ..., 1., 1., 0.]])"
      ]
     },
     "metadata": {},
     "output_type": "display_data"
    },
    {
     "data": {
      "text/plain": [
       "array([0.72727598, 0.7258652 , 0.69513313, 0.69400891, 0.69378848,\n",
       "       0.69371133, 0.66323275, 0.66308946, 0.66289107, 0.66253838,\n",
       "       0.66127088, 0.66099534, 0.6598601 , 0.65977193, 0.6313985 ,\n",
       "       0.63066004, 0.63041757, 0.63032939, 0.62984444, 0.62955787])"
      ]
     },
     "metadata": {},
     "output_type": "display_data"
    },
    {
     "data": {
      "text/plain": [
       "'Particle'"
      ]
     },
     "metadata": {},
     "output_type": "display_data"
    },
    {
     "name": "stdout",
     "output_type": "stream",
     "text": [
      "\n",
      "================================================================================\n",
      "                          Iteration - 55\n",
      "================================================================================\n",
      "\n"
     ]
    },
    {
     "data": {
      "text/plain": [
       "array([[1., 0., 1., ..., 0., 1., 0.],\n",
       "       [0., 0., 1., ..., 1., 1., 0.],\n",
       "       [1., 0., 1., ..., 0., 1., 0.],\n",
       "       ...,\n",
       "       [0., 0., 1., ..., 1., 0., 0.],\n",
       "       [0., 0., 1., ..., 0., 1., 1.],\n",
       "       [1., 0., 1., ..., 1., 0., 1.]])"
      ]
     },
     "metadata": {},
     "output_type": "display_data"
    },
    {
     "data": {
      "text/plain": [
       "array([0.72642731, 0.7244434 , 0.69502291, 0.69495678, 0.6948135 ,\n",
       "       0.69450489, 0.69444978, 0.69442774, 0.66241714, 0.66238408,\n",
       "       0.66236203, 0.66219671, 0.66206445, 0.66185503, 0.66176686,\n",
       "       0.66172277, 0.6607198 , 0.62991057, 0.62966809, 0.62849979])"
      ]
     },
     "metadata": {},
     "output_type": "display_data"
    },
    {
     "data": {
      "text/plain": [
       "'Particle'"
      ]
     },
     "metadata": {},
     "output_type": "display_data"
    },
    {
     "name": "stdout",
     "output_type": "stream",
     "text": [
      "\n",
      "================================================================================\n",
      "                          Iteration - 56\n",
      "================================================================================\n",
      "\n"
     ]
    },
    {
     "data": {
      "text/plain": [
       "array([[0., 0., 0., ..., 0., 1., 0.],\n",
       "       [1., 0., 1., ..., 0., 0., 1.],\n",
       "       [0., 0., 1., ..., 1., 1., 1.],\n",
       "       ...,\n",
       "       [0., 1., 1., ..., 0., 0., 1.],\n",
       "       [1., 1., 0., ..., 0., 0., 0.],\n",
       "       [1., 0., 1., ..., 1., 0., 0.]])"
      ]
     },
     "metadata": {},
     "output_type": "display_data"
    },
    {
     "data": {
      "text/plain": [
       "array([0.72709964, 0.72705555, 0.72691227, 0.7264714 , 0.7262179 ,\n",
       "       0.72604155, 0.72552353, 0.69523232, 0.69517721, 0.69454898,\n",
       "       0.69440569, 0.69428445, 0.69404198, 0.69353498, 0.69333659,\n",
       "       0.69268631, 0.69140779, 0.66259349, 0.66210853, 0.65971682])"
      ]
     },
     "metadata": {},
     "output_type": "display_data"
    },
    {
     "data": {
      "text/plain": [
       "'Particle'"
      ]
     },
     "metadata": {},
     "output_type": "display_data"
    },
    {
     "name": "stdout",
     "output_type": "stream",
     "text": [
      "\n",
      "================================================================================\n",
      "                          Iteration - 57\n",
      "================================================================================\n",
      "\n"
     ]
    },
    {
     "data": {
      "text/plain": [
       "array([[1., 1., 1., ..., 0., 0., 0.],\n",
       "       [0., 1., 0., ..., 1., 0., 1.],\n",
       "       [1., 1., 1., ..., 1., 1., 1.],\n",
       "       ...,\n",
       "       [0., 0., 0., ..., 0., 0., 1.],\n",
       "       [1., 0., 0., ..., 1., 1., 1.],\n",
       "       [1., 1., 1., ..., 1., 1., 0.]])"
      ]
     },
     "metadata": {},
     "output_type": "display_data"
    },
    {
     "data": {
      "text/plain": [
       "array([0.72691227, 0.72568886, 0.69556297, 0.69467021, 0.69456   ,\n",
       "       0.69414117, 0.69399789, 0.69386563, 0.69374439, 0.69361213,\n",
       "       0.69170537, 0.6630564 , 0.66206445, 0.66198729, 0.66118271,\n",
       "       0.66065367, 0.66063162, 0.62977831, 0.62956889, 0.62745272])"
      ]
     },
     "metadata": {},
     "output_type": "display_data"
    },
    {
     "data": {
      "text/plain": [
       "'Particle'"
      ]
     },
     "metadata": {},
     "output_type": "display_data"
    },
    {
     "name": "stdout",
     "output_type": "stream",
     "text": [
      "\n",
      "================================================================================\n",
      "                          Iteration - 58\n",
      "================================================================================\n",
      "\n"
     ]
    },
    {
     "data": {
      "text/plain": [
       "array([[0., 0., 0., ..., 1., 1., 1.],\n",
       "       [1., 1., 1., ..., 0., 0., 0.],\n",
       "       [0., 0., 0., ..., 0., 0., 1.],\n",
       "       ...,\n",
       "       [1., 0., 0., ..., 1., 1., 0.],\n",
       "       [1., 0., 0., ..., 0., 1., 0.],\n",
       "       [0., 1., 0., ..., 1., 0., 0.]])"
      ]
     },
     "metadata": {},
     "output_type": "display_data"
    },
    {
     "data": {
      "text/plain": [
       "array([0.72833407, 0.72676898, 0.72550149, 0.72410173, 0.6948135 ,\n",
       "       0.69476941, 0.69470328, 0.69438365, 0.69393176, 0.69368928,\n",
       "       0.69331454, 0.69300594, 0.69287368, 0.69269733, 0.6638169 ,\n",
       "       0.66191014, 0.66154643, 0.6606206 , 0.66037812, 0.62901781])"
      ]
     },
     "metadata": {},
     "output_type": "display_data"
    },
    {
     "data": {
      "text/plain": [
       "'Particle'"
      ]
     },
     "metadata": {},
     "output_type": "display_data"
    },
    {
     "name": "stdout",
     "output_type": "stream",
     "text": [
      "\n",
      "================================================================================\n",
      "                          Iteration - 59\n",
      "================================================================================\n",
      "\n"
     ]
    },
    {
     "data": {
      "text/plain": [
       "array([[0., 1., 1., ..., 0., 1., 1.],\n",
       "       [1., 1., 0., ..., 0., 0., 1.],\n",
       "       [1., 1., 0., ..., 1., 1., 0.],\n",
       "       ...,\n",
       "       [1., 0., 0., ..., 1., 1., 0.],\n",
       "       [1., 0., 1., ..., 1., 0., 1.],\n",
       "       [1., 1., 0., ..., 0., 0., 0.]])"
      ]
     },
     "metadata": {},
     "output_type": "display_data"
    },
    {
     "data": {
      "text/plain": [
       "array([0.72629505, 0.7255566 , 0.72542434, 0.695574  , 0.69526539,\n",
       "       0.6951221 , 0.69503393, 0.69458204, 0.69425139, 0.69388767,\n",
       "       0.66294618, 0.6629021 , 0.66216364, 0.6617889 , 0.66168971,\n",
       "       0.66110556, 0.66052141, 0.66000339, 0.65928697, 0.62948072])"
      ]
     },
     "metadata": {},
     "output_type": "display_data"
    },
    {
     "data": {
      "text/plain": [
       "'Particle'"
      ]
     },
     "metadata": {},
     "output_type": "display_data"
    },
    {
     "name": "stdout",
     "output_type": "stream",
     "text": [
      "\n",
      "================================================================================\n",
      "                          Iteration - 60\n",
      "================================================================================\n",
      "\n"
     ]
    },
    {
     "data": {
      "text/plain": [
       "array([[1., 0., 0., ..., 1., 1., 0.],\n",
       "       [1., 1., 0., ..., 0., 0., 0.],\n",
       "       [0., 1., 0., ..., 1., 0., 1.],\n",
       "       ...,\n",
       "       [1., 1., 1., ..., 0., 0., 0.],\n",
       "       [0., 1., 1., ..., 0., 0., 1.],\n",
       "       [1., 0., 0., ..., 1., 0., 0.]])"
      ]
     },
     "metadata": {},
     "output_type": "display_data"
    },
    {
     "data": {
      "text/plain": [
       "array([0.7269784 , 0.72660366, 0.72541331, 0.69530947, 0.69515517,\n",
       "       0.69416322, 0.69356804, 0.69350191, 0.6928847 , 0.69219033,\n",
       "       0.66343114, 0.66329888, 0.66285801, 0.66248327, 0.66219671,\n",
       "       0.6616346 , 0.66156847, 0.66116067, 0.66032301, 0.66020178])"
      ]
     },
     "metadata": {},
     "output_type": "display_data"
    },
    {
     "data": {
      "text/plain": [
       "'Particle'"
      ]
     },
     "metadata": {},
     "output_type": "display_data"
    },
    {
     "name": "stdout",
     "output_type": "stream",
     "text": [
      "\n",
      "================================================================================\n",
      "                          Iteration - 61\n",
      "================================================================================\n",
      "\n"
     ]
    },
    {
     "data": {
      "text/plain": [
       "array([[0., 0., 1., ..., 0., 0., 1.],\n",
       "       [0., 0., 0., ..., 1., 0., 1.],\n",
       "       [0., 1., 0., ..., 0., 1., 0.],\n",
       "       ...,\n",
       "       [1., 0., 1., ..., 1., 0., 0.],\n",
       "       [1., 0., 0., ..., 1., 0., 1.],\n",
       "       [0., 0., 1., ..., 1., 1., 1.]])"
      ]
     },
     "metadata": {},
     "output_type": "display_data"
    },
    {
     "data": {
      "text/plain": [
       "array([0.76002504, 0.72665877, 0.72601951, 0.72448749, 0.6954748 ,\n",
       "       0.6953205 , 0.69505597, 0.69486861, 0.69461511, 0.69352396,\n",
       "       0.69345783, 0.69331454, 0.69320433, 0.69287368, 0.69184866,\n",
       "       0.66079695, 0.65918778, 0.65877998, 0.62945868, 0.62923824])"
      ]
     },
     "metadata": {},
     "output_type": "display_data"
    },
    {
     "data": {
      "text/plain": [
       "'Particle'"
      ]
     },
     "metadata": {},
     "output_type": "display_data"
    },
    {
     "name": "stdout",
     "output_type": "stream",
     "text": [
      "\n",
      "================================================================================\n",
      "                          Iteration - 62\n",
      "================================================================================\n",
      "\n"
     ]
    },
    {
     "data": {
      "text/plain": [
       "array([[1., 1., 0., ..., 0., 1., 0.],\n",
       "       [1., 0., 1., ..., 1., 0., 1.],\n",
       "       [1., 0., 1., ..., 0., 1., 1.],\n",
       "       ...,\n",
       "       [0., 0., 1., ..., 1., 1., 0.],\n",
       "       [1., 1., 1., ..., 1., 1., 0.],\n",
       "       [0., 1., 0., ..., 0., 0., 0.]])"
      ]
     },
     "metadata": {},
     "output_type": "display_data"
    },
    {
     "data": {
      "text/plain": [
       "array([0.75805215, 0.7267249 , 0.72668081, 0.69494576, 0.69433956,\n",
       "       0.6943065 , 0.69357907, 0.69353498, 0.69307207, 0.66361851,\n",
       "       0.66245021, 0.66220773, 0.66196525, 0.66135906, 0.66105045,\n",
       "       0.66059856, 0.66038915, 0.66017973, 0.65992623, 0.59850616])"
      ]
     },
     "metadata": {},
     "output_type": "display_data"
    },
    {
     "data": {
      "text/plain": [
       "'Particle'"
      ]
     },
     "metadata": {},
     "output_type": "display_data"
    },
    {
     "name": "stdout",
     "output_type": "stream",
     "text": [
      "\n",
      "================================================================================\n",
      "                          Iteration - 63\n",
      "================================================================================\n",
      "\n"
     ]
    },
    {
     "data": {
      "text/plain": [
       "array([[1., 0., 0., ..., 1., 1., 0.],\n",
       "       [1., 1., 0., ..., 0., 1., 0.],\n",
       "       [0., 0., 1., ..., 0., 1., 1.],\n",
       "       ...,\n",
       "       [1., 1., 0., ..., 1., 0., 1.],\n",
       "       [1., 1., 0., ..., 0., 0., 0.],\n",
       "       [1., 0., 1., ..., 1., 1., 1.]])"
      ]
     },
     "metadata": {},
     "output_type": "display_data"
    },
    {
     "data": {
      "text/plain": [
       "array([0.75924249, 0.75733574, 0.72680205, 0.72658162, 0.72553455,\n",
       "       0.72553455, 0.69534254, 0.69460408, 0.69357907, 0.69335863,\n",
       "       0.69332557, 0.69252098, 0.66191014, 0.66177788, 0.66148029,\n",
       "       0.66092921, 0.66028995, 0.63000976, 0.62910598, 0.59608139])"
      ]
     },
     "metadata": {},
     "output_type": "display_data"
    },
    {
     "data": {
      "text/plain": [
       "'Particle'"
      ]
     },
     "metadata": {},
     "output_type": "display_data"
    },
    {
     "name": "stdout",
     "output_type": "stream",
     "text": [
      "\n",
      "================================================================================\n",
      "                          Iteration - 64\n",
      "================================================================================\n",
      "\n"
     ]
    },
    {
     "data": {
      "text/plain": [
       "array([[1., 0., 1., ..., 0., 1., 0.],\n",
       "       [0., 1., 1., ..., 0., 1., 1.],\n",
       "       [1., 0., 0., ..., 1., 1., 1.],\n",
       "       ...,\n",
       "       [1., 0., 0., ..., 0., 0., 0.],\n",
       "       [1., 1., 1., ..., 0., 0., 0.],\n",
       "       [0., 1., 1., ..., 1., 0., 0.]])"
      ]
     },
     "metadata": {},
     "output_type": "display_data"
    },
    {
     "data": {
      "text/plain": [
       "array([0.72766174, 0.72718781, 0.72639425, 0.72573294, 0.72566681,\n",
       "       0.69464817, 0.69458204, 0.69448285, 0.69408606, 0.6939538 ,\n",
       "       0.69377746, 0.69377746, 0.6928847 , 0.69235565, 0.66230692,\n",
       "       0.66217466, 0.66191014, 0.66028995, 0.65973886, 0.65946332])"
      ]
     },
     "metadata": {},
     "output_type": "display_data"
    },
    {
     "data": {
      "text/plain": [
       "'Particle'"
      ]
     },
     "metadata": {},
     "output_type": "display_data"
    },
    {
     "name": "stdout",
     "output_type": "stream",
     "text": [
      "\n",
      "================================================================================\n",
      "                          Iteration - 65\n",
      "================================================================================\n",
      "\n"
     ]
    },
    {
     "data": {
      "text/plain": [
       "array([[1., 1., 0., ..., 1., 1., 1.],\n",
       "       [0., 1., 1., ..., 0., 0., 1.],\n",
       "       [0., 0., 1., ..., 1., 1., 0.],\n",
       "       ...,\n",
       "       [0., 0., 1., ..., 1., 1., 0.],\n",
       "       [1., 0., 1., ..., 0., 0., 1.],\n",
       "       [1., 0., 0., ..., 1., 1., 1.]])"
      ]
     },
     "metadata": {},
     "output_type": "display_data"
    },
    {
     "data": {
      "text/plain": [
       "array([0.72685716, 0.72651549, 0.72614075, 0.72542434, 0.69583852,\n",
       "       0.69565115, 0.69525437, 0.69468124, 0.69447182, 0.69426241,\n",
       "       0.69376643, 0.6931382 , 0.69236668, 0.6921242 , 0.66151336,\n",
       "       0.66084104, 0.66054345, 0.63077026, 0.62992159, 0.62759601])"
      ]
     },
     "metadata": {},
     "output_type": "display_data"
    },
    {
     "data": {
      "text/plain": [
       "'Particle'"
      ]
     },
     "metadata": {},
     "output_type": "display_data"
    },
    {
     "name": "stdout",
     "output_type": "stream",
     "text": [
      "\n",
      "================================================================================\n",
      "                          Iteration - 66\n",
      "================================================================================\n",
      "\n"
     ]
    },
    {
     "data": {
      "text/plain": [
       "array([[0., 0., 1., ..., 1., 1., 1.],\n",
       "       [1., 0., 1., ..., 1., 1., 0.],\n",
       "       [0., 0., 0., ..., 0., 0., 0.],\n",
       "       ...,\n",
       "       [0., 1., 1., ..., 0., 0., 1.],\n",
       "       [0., 0., 1., ..., 1., 1., 1.],\n",
       "       [1., 0., 0., ..., 1., 1., 0.]])"
      ]
     },
     "metadata": {},
     "output_type": "display_data"
    },
    {
     "data": {
      "text/plain": [
       "array([0.72801444, 0.72604155, 0.72598644, 0.72593133, 0.72523697,\n",
       "       0.69441672, 0.69267528, 0.69265324, 0.69226748, 0.66325479,\n",
       "       0.66301231, 0.66284699, 0.66252736, 0.66217466, 0.66145825,\n",
       "       0.66067571, 0.63011998, 0.62971218, 0.62788257, 0.62740864])"
      ]
     },
     "metadata": {},
     "output_type": "display_data"
    },
    {
     "data": {
      "text/plain": [
       "'Particle'"
      ]
     },
     "metadata": {},
     "output_type": "display_data"
    },
    {
     "name": "stdout",
     "output_type": "stream",
     "text": [
      "\n",
      "================================================================================\n",
      "                          Iteration - 67\n",
      "================================================================================\n",
      "\n"
     ]
    },
    {
     "data": {
      "text/plain": [
       "array([[1., 0., 1., ..., 1., 0., 0.],\n",
       "       [1., 1., 1., ..., 1., 1., 0.],\n",
       "       [1., 0., 0., ..., 0., 0., 0.],\n",
       "       ...,\n",
       "       [0., 1., 0., ..., 1., 1., 1.],\n",
       "       [0., 0., 1., ..., 1., 1., 1.],\n",
       "       [0., 1., 1., ..., 0., 1., 0.]])"
      ]
     },
     "metadata": {},
     "output_type": "display_data"
    },
    {
     "data": {
      "text/plain": [
       "array([0.75761128, 0.72686818, 0.72674694, 0.72641629, 0.69516619,\n",
       "       0.69475839, 0.69448285, 0.694053  , 0.69400891, 0.69352396,\n",
       "       0.69239974, 0.66318866, 0.66173379, 0.66116067, 0.66078593,\n",
       "       0.65950741, 0.63054983, 0.62951379, 0.62940357, 0.62676938])"
      ]
     },
     "metadata": {},
     "output_type": "display_data"
    },
    {
     "data": {
      "text/plain": [
       "'Particle'"
      ]
     },
     "metadata": {},
     "output_type": "display_data"
    },
    {
     "name": "stdout",
     "output_type": "stream",
     "text": [
      "\n",
      "================================================================================\n",
      "                          Iteration - 68\n",
      "================================================================================\n",
      "\n"
     ]
    },
    {
     "data": {
      "text/plain": [
       "array([[0., 0., 1., ..., 1., 1., 1.],\n",
       "       [0., 1., 0., ..., 1., 1., 0.],\n",
       "       [0., 0., 1., ..., 1., 0., 0.],\n",
       "       ...,\n",
       "       [0., 0., 1., ..., 1., 1., 1.],\n",
       "       [0., 1., 0., ..., 0., 1., 0.],\n",
       "       [1., 0., 0., ..., 0., 1., 1.]])"
      ]
     },
     "metadata": {},
     "output_type": "display_data"
    },
    {
     "data": {
      "text/plain": [
       "array([0.72641629, 0.7259644 , 0.72575499, 0.72562273, 0.72503858,\n",
       "       0.72452056, 0.69610304, 0.69482452, 0.69482452, 0.69464817,\n",
       "       0.69452693, 0.69416322, 0.69302798, 0.69260915, 0.66279188,\n",
       "       0.66248327, 0.66100636, 0.65977193, 0.63049472, 0.62849979])"
      ]
     },
     "metadata": {},
     "output_type": "display_data"
    },
    {
     "data": {
      "text/plain": [
       "'Particle'"
      ]
     },
     "metadata": {},
     "output_type": "display_data"
    },
    {
     "name": "stdout",
     "output_type": "stream",
     "text": [
      "\n",
      "================================================================================\n",
      "                          Iteration - 69\n",
      "================================================================================\n",
      "\n"
     ]
    },
    {
     "data": {
      "text/plain": [
       "array([[1., 0., 0., ..., 0., 1., 1.],\n",
       "       [0., 1., 1., ..., 1., 1., 0.],\n",
       "       [0., 1., 1., ..., 1., 1., 0.],\n",
       "       ...,\n",
       "       [1., 1., 1., ..., 0., 0., 0.],\n",
       "       [0., 1., 1., ..., 0., 0., 1.],\n",
       "       [1., 0., 1., ..., 0., 1., 1.]])"
      ]
     },
     "metadata": {},
     "output_type": "display_data"
    },
    {
     "data": {
      "text/plain": [
       "array([0.72594236, 0.72488427, 0.69422935, 0.69401993, 0.69376643,\n",
       "       0.69363417, 0.69341374, 0.69318228, 0.69317126, 0.69247689,\n",
       "       0.66310049, 0.66276984, 0.66242816, 0.66213058, 0.66157949,\n",
       "       0.66106147, 0.66025688, 0.66025688, 0.65983806, 0.62944765])"
      ]
     },
     "metadata": {},
     "output_type": "display_data"
    },
    {
     "data": {
      "text/plain": [
       "'Particle'"
      ]
     },
     "metadata": {},
     "output_type": "display_data"
    },
    {
     "name": "stdout",
     "output_type": "stream",
     "text": [
      "\n",
      "================================================================================\n",
      "                          Iteration - 70\n",
      "================================================================================\n",
      "\n"
     ]
    },
    {
     "data": {
      "text/plain": [
       "array([[0., 0., 1., ..., 1., 0., 0.],\n",
       "       [0., 0., 1., ..., 1., 1., 0.],\n",
       "       [1., 1., 0., ..., 1., 1., 1.],\n",
       "       ...,\n",
       "       [1., 1., 0., ..., 0., 1., 1.],\n",
       "       [1., 0., 0., ..., 1., 1., 0.],\n",
       "       [1., 1., 0., ..., 1., 1., 0.]])"
      ]
     },
     "metadata": {},
     "output_type": "display_data"
    },
    {
     "data": {
      "text/plain": [
       "array([0.72659264, 0.72593133, 0.6953205 , 0.69484656, 0.69442774,\n",
       "       0.69414117, 0.69389869, 0.69355702, 0.69338067, 0.69228952,\n",
       "       0.69221237, 0.66183299, 0.66181095, 0.66145825, 0.6613811 ,\n",
       "       0.6611276 , 0.66019075, 0.63093559, 0.63081435, 0.63015304])"
      ]
     },
     "metadata": {},
     "output_type": "display_data"
    },
    {
     "data": {
      "text/plain": [
       "'Particle'"
      ]
     },
     "metadata": {},
     "output_type": "display_data"
    },
    {
     "name": "stdout",
     "output_type": "stream",
     "text": [
      "\n",
      "================================================================================\n",
      "                          Iteration - 71\n",
      "================================================================================\n",
      "\n"
     ]
    },
    {
     "data": {
      "text/plain": [
       "array([[1., 0., 1., ..., 1., 1., 0.],\n",
       "       [1., 0., 0., ..., 1., 0., 0.],\n",
       "       [1., 0., 1., ..., 1., 1., 0.],\n",
       "       ...,\n",
       "       [1., 1., 0., ..., 0., 1., 1.],\n",
       "       [1., 1., 0., ..., 0., 0., 0.],\n",
       "       [1., 0., 0., ..., 1., 0., 0.]])"
      ]
     },
     "metadata": {},
     "output_type": "display_data"
    },
    {
     "data": {
      "text/plain": [
       "array([0.75689487, 0.72609666, 0.72498347, 0.69439467, 0.69427343,\n",
       "       0.69363417, 0.69247689, 0.6626486 , 0.66251634, 0.66207547,\n",
       "       0.66192116, 0.6616346 , 0.66123782, 0.66118271, 0.66117169,\n",
       "       0.66091819, 0.66074184, 0.6590996 , 0.63059391, 0.62910598])"
      ]
     },
     "metadata": {},
     "output_type": "display_data"
    },
    {
     "data": {
      "text/plain": [
       "'Particle'"
      ]
     },
     "metadata": {},
     "output_type": "display_data"
    },
    {
     "name": "stdout",
     "output_type": "stream",
     "text": [
      "\n",
      "================================================================================\n",
      "                          Iteration - 72\n",
      "================================================================================\n",
      "\n"
     ]
    },
    {
     "data": {
      "text/plain": [
       "array([[1., 0., 1., ..., 1., 0., 0.],\n",
       "       [1., 0., 1., ..., 0., 1., 0.],\n",
       "       [0., 0., 1., ..., 0., 0., 1.],\n",
       "       ...,\n",
       "       [0., 0., 1., ..., 0., 0., 0.],\n",
       "       [1., 0., 1., ..., 1., 0., 0.],\n",
       "       [0., 1., 1., ..., 1., 1., 1.]])"
      ]
     },
     "metadata": {},
     "output_type": "display_data"
    },
    {
     "data": {
      "text/plain": [
       "array([0.72650446, 0.69541969, 0.69500087, 0.69425139, 0.69415219,\n",
       "       0.69372235, 0.693546  , 0.69352396, 0.69331454, 0.69311615,\n",
       "       0.69305002, 0.66248327, 0.66199832, 0.66184401, 0.66152438,\n",
       "       0.66055447, 0.63128828, 0.63009794, 0.62849979, 0.62815811])"
      ]
     },
     "metadata": {},
     "output_type": "display_data"
    },
    {
     "data": {
      "text/plain": [
       "'Particle'"
      ]
     },
     "metadata": {},
     "output_type": "display_data"
    },
    {
     "name": "stdout",
     "output_type": "stream",
     "text": [
      "\n",
      "================================================================================\n",
      "                          Iteration - 73\n",
      "================================================================================\n",
      "\n"
     ]
    },
    {
     "data": {
      "text/plain": [
       "array([[0., 0., 1., ..., 0., 0., 0.],\n",
       "       [1., 1., 0., ..., 1., 0., 0.],\n",
       "       [0., 0., 0., ..., 1., 1., 0.],\n",
       "       ...,\n",
       "       [1., 1., 1., ..., 0., 0., 1.],\n",
       "       [0., 0., 1., ..., 1., 0., 0.],\n",
       "       [1., 0., 1., ..., 1., 1., 0.]])"
      ]
     },
     "metadata": {},
     "output_type": "display_data"
    },
    {
     "data": {
      "text/plain": [
       "array([0.75865834, 0.75757821, 0.72717679, 0.72653753, 0.72572192,\n",
       "       0.72528105, 0.69541969, 0.69491269, 0.69478043, 0.69450489,\n",
       "       0.69302798, 0.69281857, 0.69220135, 0.66281392, 0.66192116,\n",
       "       0.66186605, 0.66177788, 0.66168971, 0.66119373, 0.66006952])"
      ]
     },
     "metadata": {},
     "output_type": "display_data"
    },
    {
     "data": {
      "text/plain": [
       "'Particle'"
      ]
     },
     "metadata": {},
     "output_type": "display_data"
    },
    {
     "name": "stdout",
     "output_type": "stream",
     "text": [
      "\n",
      "================================================================================\n",
      "                          Iteration - 74\n",
      "================================================================================\n",
      "\n"
     ]
    },
    {
     "data": {
      "text/plain": [
       "array([[0., 0., 1., ..., 0., 1., 1.],\n",
       "       [1., 0., 0., ..., 1., 0., 1.],\n",
       "       [0., 1., 0., ..., 0., 1., 1.],\n",
       "       ...,\n",
       "       [1., 0., 0., ..., 0., 1., 1.],\n",
       "       [0., 0., 0., ..., 1., 1., 1.],\n",
       "       [0., 1., 1., ..., 1., 0., 1.]])"
      ]
     },
     "metadata": {},
     "output_type": "display_data"
    },
    {
     "data": {
      "text/plain": [
       "array([0.72714372, 0.72587623, 0.69491269, 0.69485758, 0.69411913,\n",
       "       0.69410811, 0.69401993, 0.69365622, 0.69359009, 0.6931382 ,\n",
       "       0.69305002, 0.69274141, 0.69239974, 0.66253838, 0.66231794,\n",
       "       0.66210853, 0.66129293, 0.65992623, 0.65976091, 0.62998772])"
      ]
     },
     "metadata": {},
     "output_type": "display_data"
    },
    {
     "data": {
      "text/plain": [
       "'Particle'"
      ]
     },
     "metadata": {},
     "output_type": "display_data"
    },
    {
     "name": "stdout",
     "output_type": "stream",
     "text": [
      "\n",
      "================================================================================\n",
      "                          Iteration - 75\n",
      "================================================================================\n",
      "\n"
     ]
    },
    {
     "data": {
      "text/plain": [
       "array([[1., 1., 1., ..., 1., 1., 0.],\n",
       "       [1., 0., 1., ..., 0., 1., 1.],\n",
       "       [1., 0., 0., ..., 0., 1., 1.],\n",
       "       ...,\n",
       "       [0., 0., 0., ..., 1., 1., 1.],\n",
       "       [1., 1., 0., ..., 0., 1., 1.],\n",
       "       [1., 0., 0., ..., 1., 1., 0.]])"
      ]
     },
     "metadata": {},
     "output_type": "display_data"
    },
    {
     "data": {
      "text/plain": [
       "array([0.72639425, 0.69544173, 0.69494576, 0.69484656, 0.69440569,\n",
       "       0.69372235, 0.69343578, 0.69306104, 0.69221237, 0.69217931,\n",
       "       0.66319968, 0.66288005, 0.66250531, 0.66221875, 0.66164562,\n",
       "       0.66114964, 0.66086308, 0.6607198 , 0.62918313, 0.59673167])"
      ]
     },
     "metadata": {},
     "output_type": "display_data"
    },
    {
     "data": {
      "text/plain": [
       "'Particle'"
      ]
     },
     "metadata": {},
     "output_type": "display_data"
    },
    {
     "name": "stdout",
     "output_type": "stream",
     "text": [
      "\n",
      "================================================================================\n",
      "                          Iteration - 76\n",
      "================================================================================\n",
      "\n"
     ]
    },
    {
     "data": {
      "text/plain": [
       "array([[0., 0., 0., ..., 0., 1., 0.],\n",
       "       [1., 1., 0., ..., 1., 1., 1.],\n",
       "       [0., 0., 0., ..., 0., 1., 0.],\n",
       "       ...,\n",
       "       [0., 0., 0., ..., 0., 0., 1.],\n",
       "       [1., 0., 0., ..., 0., 1., 0.],\n",
       "       [0., 1., 1., ..., 1., 0., 1.]])"
      ]
     },
     "metadata": {},
     "output_type": "display_data"
    },
    {
     "data": {
      "text/plain": [
       "array([0.72722088, 0.72577703, 0.72517084, 0.72508266, 0.72416786,\n",
       "       0.69521028, 0.69479145, 0.69401993, 0.69345783, 0.69342476,\n",
       "       0.69338067, 0.69199194, 0.66247225, 0.66218568, 0.66194321,\n",
       "       0.66187708, 0.66132599, 0.65987112, 0.62983341, 0.6293705 ])"
      ]
     },
     "metadata": {},
     "output_type": "display_data"
    },
    {
     "data": {
      "text/plain": [
       "'Particle'"
      ]
     },
     "metadata": {},
     "output_type": "display_data"
    },
    {
     "name": "stdout",
     "output_type": "stream",
     "text": [
      "\n",
      "================================================================================\n",
      "                          Iteration - 77\n",
      "================================================================================\n",
      "\n"
     ]
    },
    {
     "data": {
      "text/plain": [
       "array([[0., 0., 0., ..., 0., 0., 0.],\n",
       "       [1., 0., 1., ..., 1., 0., 0.],\n",
       "       [1., 1., 1., ..., 1., 1., 0.],\n",
       "       ...,\n",
       "       [0., 0., 1., ..., 0., 1., 1.],\n",
       "       [0., 0., 1., ..., 0., 0., 1.],\n",
       "       [1., 0., 0., ..., 1., 1., 0.]])"
      ]
     },
     "metadata": {},
     "output_type": "display_data"
    },
    {
     "data": {
      "text/plain": [
       "array([0.72665877, 0.72585418, 0.72585418, 0.72582112, 0.69476941,\n",
       "       0.69427343, 0.69418526, 0.69410811, 0.6934468 , 0.69318228,\n",
       "       0.69312717, 0.69256507, 0.69162822, 0.66269268, 0.66200934,\n",
       "       0.66179992, 0.65994828, 0.63072617, 0.63003181, 0.629624  ])"
      ]
     },
     "metadata": {},
     "output_type": "display_data"
    },
    {
     "data": {
      "text/plain": [
       "'Particle'"
      ]
     },
     "metadata": {},
     "output_type": "display_data"
    },
    {
     "name": "stdout",
     "output_type": "stream",
     "text": [
      "\n",
      "================================================================================\n",
      "                          Iteration - 78\n",
      "================================================================================\n",
      "\n"
     ]
    },
    {
     "data": {
      "text/plain": [
       "array([[1., 0., 0., ..., 1., 1., 0.],\n",
       "       [1., 1., 0., ..., 0., 0., 1.],\n",
       "       [0., 0., 1., ..., 1., 1., 1.],\n",
       "       ...,\n",
       "       [1., 0., 0., ..., 1., 1., 0.],\n",
       "       [1., 1., 0., ..., 1., 0., 0.],\n",
       "       [0., 0., 1., ..., 1., 1., 1.]])"
      ]
     },
     "metadata": {},
     "output_type": "display_data"
    },
    {
     "data": {
      "text/plain": [
       "array([0.69475839, 0.69460408, 0.69432854, 0.69409709, 0.69399789,\n",
       "       0.69331454, 0.69292878, 0.69235565, 0.69211318, 0.6630564 ,\n",
       "       0.66279188, 0.66209751, 0.66206445, 0.66196525, 0.66167869,\n",
       "       0.66150234, 0.66139212, 0.66098432, 0.6608741 , 0.62838957])"
      ]
     },
     "metadata": {},
     "output_type": "display_data"
    },
    {
     "data": {
      "text/plain": [
       "'Particle'"
      ]
     },
     "metadata": {},
     "output_type": "display_data"
    },
    {
     "name": "stdout",
     "output_type": "stream",
     "text": [
      "\n",
      "================================================================================\n",
      "                          Iteration - 79\n",
      "================================================================================\n",
      "\n"
     ]
    },
    {
     "data": {
      "text/plain": [
       "array([[0., 0., 0., ..., 0., 1., 0.],\n",
       "       [1., 1., 0., ..., 0., 1., 1.],\n",
       "       [1., 0., 1., ..., 1., 1., 0.],\n",
       "       ...,\n",
       "       [0., 1., 1., ..., 1., 1., 0.],\n",
       "       [0., 1., 0., ..., 1., 0., 0.],\n",
       "       [1., 1., 0., ..., 0., 0., 0.]])"
      ]
     },
     "metadata": {},
     "output_type": "display_data"
    },
    {
     "data": {
      "text/plain": [
       "array([0.72556762, 0.72439932, 0.69474737, 0.69462613, 0.69424037,\n",
       "       0.69410811, 0.69407504, 0.69351293, 0.69341374, 0.69300594,\n",
       "       0.69259813, 0.66307844, 0.66296823, 0.66231794, 0.66181095,\n",
       "       0.66106147, 0.66094023, 0.66017973, 0.62973422, 0.629117  ])"
      ]
     },
     "metadata": {},
     "output_type": "display_data"
    },
    {
     "data": {
      "text/plain": [
       "'Particle'"
      ]
     },
     "metadata": {},
     "output_type": "display_data"
    },
    {
     "name": "stdout",
     "output_type": "stream",
     "text": [
      "\n",
      "================================================================================\n",
      "                          Iteration - 80\n",
      "================================================================================\n",
      "\n"
     ]
    },
    {
     "data": {
      "text/plain": [
       "array([[1., 0., 0., ..., 0., 1., 1.],\n",
       "       [0., 1., 0., ..., 0., 0., 1.],\n",
       "       [0., 0., 1., ..., 0., 0., 0.],\n",
       "       ...,\n",
       "       [1., 0., 0., ..., 0., 1., 0.],\n",
       "       [0., 0., 1., ..., 0., 1., 0.],\n",
       "       [0., 1., 1., ..., 1., 1., 0.]])"
      ]
     },
     "metadata": {},
     "output_type": "display_data"
    },
    {
     "data": {
      "text/plain": [
       "array([0.7267249 , 0.72643833, 0.72577703, 0.72488427, 0.69489065,\n",
       "       0.69441672, 0.69375541, 0.69361213, 0.69356804, 0.69279652,\n",
       "       0.66289107, 0.66250531, 0.66078593, 0.66077491, 0.66067571,\n",
       "       0.66010258, 0.62949174, 0.62939255, 0.62894066, 0.6287092 ])"
      ]
     },
     "metadata": {},
     "output_type": "display_data"
    },
    {
     "data": {
      "text/plain": [
       "'Particle'"
      ]
     },
     "metadata": {},
     "output_type": "display_data"
    },
    {
     "name": "stdout",
     "output_type": "stream",
     "text": [
      "\n",
      "================================================================================\n",
      "                          Iteration - 81\n",
      "================================================================================\n",
      "\n"
     ]
    },
    {
     "data": {
      "text/plain": [
       "array([[1., 1., 0., ..., 0., 0., 0.],\n",
       "       [0., 1., 1., ..., 0., 0., 1.],\n",
       "       [1., 1., 1., ..., 0., 1., 1.],\n",
       "       ...,\n",
       "       [0., 0., 0., ..., 0., 1., 1.],\n",
       "       [0., 1., 1., ..., 0., 0., 0.],\n",
       "       [1., 1., 0., ..., 1., 0., 0.]])"
      ]
     },
     "metadata": {},
     "output_type": "display_data"
    },
    {
     "data": {
      "text/plain": [
       "array([0.79037135, 0.72658162, 0.72640527, 0.72615177, 0.72503858,\n",
       "       0.72461975, 0.69448285, 0.69435058, 0.69400891, 0.69400891,\n",
       "       0.69365622, 0.69352396, 0.69350191, 0.69342476, 0.69342476,\n",
       "       0.69321535, 0.69211318, 0.66206445, 0.66173379, 0.66110556])"
      ]
     },
     "metadata": {},
     "output_type": "display_data"
    },
    {
     "data": {
      "text/plain": [
       "'Particle'"
      ]
     },
     "metadata": {},
     "output_type": "display_data"
    },
    {
     "name": "stdout",
     "output_type": "stream",
     "text": [
      "\n",
      "================================================================================\n",
      "                          Iteration - 82\n",
      "================================================================================\n",
      "\n"
     ]
    },
    {
     "data": {
      "text/plain": [
       "array([[1., 0., 1., ..., 0., 0., 1.],\n",
       "       [1., 1., 1., ..., 0., 1., 0.],\n",
       "       [1., 0., 0., ..., 1., 1., 0.],\n",
       "       ...,\n",
       "       [1., 0., 0., ..., 1., 1., 0.],\n",
       "       [0., 0., 1., ..., 1., 1., 0.],\n",
       "       [0., 0., 0., ..., 0., 1., 0.]])"
      ]
     },
     "metadata": {},
     "output_type": "display_data"
    },
    {
     "data": {
      "text/plain": [
       "array([0.72720985, 0.72650446, 0.7257109 , 0.72486223, 0.6951221 ,\n",
       "       0.69491269, 0.69450489, 0.69437263, 0.69417424, 0.69414117,\n",
       "       0.69393176, 0.69373337, 0.69277448, 0.69188172, 0.66202036,\n",
       "       0.62981137, 0.62951379, 0.62897372, 0.62814709, 0.59708436])"
      ]
     },
     "metadata": {},
     "output_type": "display_data"
    },
    {
     "data": {
      "text/plain": [
       "'Particle'"
      ]
     },
     "metadata": {},
     "output_type": "display_data"
    },
    {
     "name": "stdout",
     "output_type": "stream",
     "text": [
      "\n",
      "================================================================================\n",
      "                          Iteration - 83\n",
      "================================================================================\n",
      "\n"
     ]
    },
    {
     "data": {
      "text/plain": [
       "array([[1., 0., 0., ..., 0., 0., 0.],\n",
       "       [0., 1., 1., ..., 0., 0., 0.],\n",
       "       [1., 1., 0., ..., 0., 1., 0.],\n",
       "       ...,\n",
       "       [0., 0., 0., ..., 0., 0., 0.],\n",
       "       [0., 0., 1., ..., 0., 0., 0.],\n",
       "       [1., 1., 1., ..., 1., 0., 1.]])"
      ]
     },
     "metadata": {},
     "output_type": "display_data"
    },
    {
     "data": {
      "text/plain": [
       "array([0.75831667, 0.72643833, 0.72633914, 0.69501189, 0.69442774,\n",
       "       0.69429548, 0.69424037, 0.69386563, 0.69318228, 0.69311615,\n",
       "       0.69295083, 0.69273039, 0.69246587, 0.69242179, 0.69232259,\n",
       "       0.66225181, 0.66166766, 0.66142519, 0.6611276 , 0.6607198 ])"
      ]
     },
     "metadata": {},
     "output_type": "display_data"
    },
    {
     "data": {
      "text/plain": [
       "'Particle'"
      ]
     },
     "metadata": {},
     "output_type": "display_data"
    },
    {
     "name": "stdout",
     "output_type": "stream",
     "text": [
      "\n",
      "================================================================================\n",
      "                          Iteration - 84\n",
      "================================================================================\n",
      "\n"
     ]
    },
    {
     "data": {
      "text/plain": [
       "array([[0., 0., 1., ..., 0., 1., 0.],\n",
       "       [0., 1., 0., ..., 0., 1., 1.],\n",
       "       [1., 0., 0., ..., 0., 0., 0.],\n",
       "       ...,\n",
       "       [0., 1., 0., ..., 0., 0., 0.],\n",
       "       [1., 1., 0., ..., 0., 0., 0.],\n",
       "       [1., 0., 1., ..., 1., 0., 0.]])"
      ]
     },
     "metadata": {},
     "output_type": "display_data"
    },
    {
     "data": {
      "text/plain": [
       "array([0.72739722, 0.72631709, 0.72600849, 0.72565579, 0.72409071,\n",
       "       0.69467021, 0.69460408, 0.69456   , 0.69428445, 0.69416322,\n",
       "       0.69396482, 0.69386563, 0.69363417, 0.69351293, 0.69334761,\n",
       "       0.69245485, 0.66242816, 0.6623951 , 0.66124884, 0.66000339])"
      ]
     },
     "metadata": {},
     "output_type": "display_data"
    },
    {
     "data": {
      "text/plain": [
       "'Particle'"
      ]
     },
     "metadata": {},
     "output_type": "display_data"
    },
    {
     "name": "stdout",
     "output_type": "stream",
     "text": [
      "\n",
      "================================================================================\n",
      "                          Iteration - 85\n",
      "================================================================================\n",
      "\n"
     ]
    },
    {
     "data": {
      "text/plain": [
       "array([[1., 0., 1., ..., 1., 0., 0.],\n",
       "       [1., 1., 0., ..., 0., 0., 0.],\n",
       "       [1., 0., 0., ..., 1., 0., 1.],\n",
       "       ...,\n",
       "       [1., 0., 1., ..., 1., 0., 0.],\n",
       "       [1., 0., 0., ..., 0., 0., 0.],\n",
       "       [1., 1., 1., ..., 0., 0., 0.]])"
      ]
     },
     "metadata": {},
     "output_type": "display_data"
    },
    {
     "data": {
      "text/plain": [
       "array([0.75681772, 0.75669648, 0.72749642, 0.72685716, 0.72643833,\n",
       "       0.72620688, 0.7261187 , 0.72584316, 0.72556762, 0.69443876,\n",
       "       0.69440569, 0.69351293, 0.69343578, 0.69340272, 0.69260915,\n",
       "       0.69244383, 0.69235565, 0.66187708, 0.66137008, 0.63005385])"
      ]
     },
     "metadata": {},
     "output_type": "display_data"
    },
    {
     "data": {
      "text/plain": [
       "'Particle'"
      ]
     },
     "metadata": {},
     "output_type": "display_data"
    },
    {
     "name": "stdout",
     "output_type": "stream",
     "text": [
      "\n",
      "================================================================================\n",
      "                          Iteration - 86\n",
      "================================================================================\n",
      "\n"
     ]
    },
    {
     "data": {
      "text/plain": [
       "array([[0., 0., 0., ..., 0., 1., 0.],\n",
       "       [0., 0., 0., ..., 1., 0., 1.],\n",
       "       [1., 1., 1., ..., 0., 0., 1.],\n",
       "       ...,\n",
       "       [0., 1., 0., ..., 0., 0., 0.],\n",
       "       [0., 1., 0., ..., 1., 0., 0.],\n",
       "       [1., 0., 1., ..., 0., 1., 1.]])"
      ]
     },
     "metadata": {},
     "output_type": "display_data"
    },
    {
     "data": {
      "text/plain": [
       "array([0.72639425, 0.72585418, 0.72543536, 0.69450489, 0.69417424,\n",
       "       0.69390972, 0.69374439, 0.693546  , 0.69279652, 0.6927855 ,\n",
       "       0.69255405, 0.69249894, 0.66217466, 0.66198729, 0.66191014,\n",
       "       0.6612268 , 0.66089614, 0.66080797, 0.63099069, 0.6302302 ])"
      ]
     },
     "metadata": {},
     "output_type": "display_data"
    },
    {
     "data": {
      "text/plain": [
       "'Particle'"
      ]
     },
     "metadata": {},
     "output_type": "display_data"
    },
    {
     "name": "stdout",
     "output_type": "stream",
     "text": [
      "\n",
      "================================================================================\n",
      "                          Iteration - 87\n",
      "================================================================================\n",
      "\n"
     ]
    },
    {
     "data": {
      "text/plain": [
       "array([[0., 1., 0., ..., 1., 0., 0.],\n",
       "       [0., 1., 1., ..., 0., 1., 1.],\n",
       "       [0., 0., 0., ..., 1., 1., 1.],\n",
       "       ...,\n",
       "       [0., 1., 1., ..., 1., 0., 0.],\n",
       "       [0., 0., 0., ..., 0., 1., 1.],\n",
       "       [0., 1., 1., ..., 1., 1., 1.]])"
      ]
     },
     "metadata": {},
     "output_type": "display_data"
    },
    {
     "data": {
      "text/plain": [
       "array([0.75700509, 0.72691227, 0.72651549, 0.72622892, 0.72457566,\n",
       "       0.72398049, 0.6943065 , 0.69414117, 0.69381052, 0.69368928,\n",
       "       0.69336965, 0.69328148, 0.69301696, 0.69256507, 0.66248327,\n",
       "       0.66186605, 0.66111658, 0.66051038, 0.62973422, 0.62784951])"
      ]
     },
     "metadata": {},
     "output_type": "display_data"
    },
    {
     "data": {
      "text/plain": [
       "'Particle'"
      ]
     },
     "metadata": {},
     "output_type": "display_data"
    },
    {
     "name": "stdout",
     "output_type": "stream",
     "text": [
      "\n",
      "================================================================================\n",
      "                          Iteration - 88\n",
      "================================================================================\n",
      "\n"
     ]
    },
    {
     "data": {
      "text/plain": [
       "array([[1., 0., 1., ..., 0., 0., 0.],\n",
       "       [0., 1., 0., ..., 0., 1., 1.],\n",
       "       [0., 1., 0., ..., 1., 1., 1.],\n",
       "       ...,\n",
       "       [1., 1., 1., ..., 1., 1., 1.],\n",
       "       [0., 0., 1., ..., 1., 1., 0.],\n",
       "       [0., 0., 0., ..., 1., 0., 1.]])"
      ]
     },
     "metadata": {},
     "output_type": "display_data"
    },
    {
     "data": {
      "text/plain": [
       "array([0.72626199, 0.72623994, 0.7262179 , 0.72590929, 0.72578805,\n",
       "       0.72533616, 0.72468588, 0.69437263, 0.69416322, 0.69385461,\n",
       "       0.6937003 , 0.69319331, 0.69154005, 0.66200934, 0.66132599,\n",
       "       0.66125986, 0.66116067, 0.6607198 , 0.62942561, 0.62897372])"
      ]
     },
     "metadata": {},
     "output_type": "display_data"
    },
    {
     "data": {
      "text/plain": [
       "'Particle'"
      ]
     },
     "metadata": {},
     "output_type": "display_data"
    },
    {
     "name": "stdout",
     "output_type": "stream",
     "text": [
      "\n",
      "================================================================================\n",
      "                          Iteration - 89\n",
      "================================================================================\n",
      "\n"
     ]
    },
    {
     "data": {
      "text/plain": [
       "array([[0., 0., 0., ..., 0., 0., 0.],\n",
       "       [1., 1., 0., ..., 1., 1., 0.],\n",
       "       [1., 1., 1., ..., 0., 1., 0.],\n",
       "       ...,\n",
       "       [0., 0., 0., ..., 0., 1., 0.],\n",
       "       [1., 1., 1., ..., 0., 1., 0.],\n",
       "       [0., 0., 1., ..., 0., 0., 1.]])"
      ]
     },
     "metadata": {},
     "output_type": "display_data"
    },
    {
     "data": {
      "text/plain": [
       "array([0.72692329, 0.72638322, 0.72598644, 0.72453158, 0.69378848,\n",
       "       0.69375541, 0.69372235, 0.69341374, 0.69322637, 0.69311615,\n",
       "       0.69287368, 0.69156209, 0.66350829, 0.66199832, 0.66183299,\n",
       "       0.66159051, 0.66088512, 0.66009156, 0.62903985, 0.62798177])"
      ]
     },
     "metadata": {},
     "output_type": "display_data"
    },
    {
     "data": {
      "text/plain": [
       "'Particle'"
      ]
     },
     "metadata": {},
     "output_type": "display_data"
    },
    {
     "name": "stdout",
     "output_type": "stream",
     "text": [
      "\n",
      "================================================================================\n",
      "                          Iteration - 90\n",
      "================================================================================\n",
      "\n"
     ]
    },
    {
     "data": {
      "text/plain": [
       "array([[0., 0., 0., ..., 0., 1., 1.],\n",
       "       [0., 0., 0., ..., 1., 1., 0.],\n",
       "       [1., 1., 1., ..., 1., 1., 1.],\n",
       "       ...,\n",
       "       [0., 1., 0., ..., 1., 0., 0.],\n",
       "       [0., 0., 1., ..., 0., 0., 0.],\n",
       "       [0., 0., 1., ..., 0., 0., 1.]])"
      ]
     },
     "metadata": {},
     "output_type": "display_data"
    },
    {
     "data": {
      "text/plain": [
       "array([0.75707122, 0.72639425, 0.72616279, 0.7261187 , 0.72610768,\n",
       "       0.69462613, 0.69454898, 0.69450489, 0.69426241, 0.6936452 ,\n",
       "       0.69361213, 0.69346885, 0.69309411, 0.69306104, 0.69301696,\n",
       "       0.69300594, 0.69246587, 0.6918707 , 0.66135906, 0.62910598])"
      ]
     },
     "metadata": {},
     "output_type": "display_data"
    },
    {
     "data": {
      "text/plain": [
       "'Particle'"
      ]
     },
     "metadata": {},
     "output_type": "display_data"
    },
    {
     "name": "stdout",
     "output_type": "stream",
     "text": [
      "\n",
      "================================================================================\n",
      "                          Iteration - 91\n",
      "================================================================================\n",
      "\n"
     ]
    },
    {
     "data": {
      "text/plain": [
       "array([[0., 1., 0., ..., 1., 0., 1.],\n",
       "       [1., 0., 1., ..., 1., 0., 0.],\n",
       "       [0., 0., 1., ..., 0., 0., 0.],\n",
       "       ...,\n",
       "       [0., 0., 0., ..., 1., 0., 1.],\n",
       "       [1., 1., 1., ..., 1., 1., 0.],\n",
       "       [0., 1., 0., ..., 0., 1., 0.]])"
      ]
     },
     "metadata": {},
     "output_type": "display_data"
    },
    {
     "data": {
      "text/plain": [
       "array([0.72670285, 0.72642731, 0.7258652 , 0.72527003, 0.6953205 ,\n",
       "       0.69511108, 0.69435058, 0.69386563, 0.69371133, 0.69359009,\n",
       "       0.69345783, 0.69341374, 0.69324841, 0.6921242 , 0.6918707 ,\n",
       "       0.69165027, 0.6622959 , 0.66154643, 0.66116067, 0.65991521])"
      ]
     },
     "metadata": {},
     "output_type": "display_data"
    },
    {
     "data": {
      "text/plain": [
       "'Particle'"
      ]
     },
     "metadata": {},
     "output_type": "display_data"
    },
    {
     "name": "stdout",
     "output_type": "stream",
     "text": [
      "\n",
      "================================================================================\n",
      "                          Iteration - 92\n",
      "================================================================================\n",
      "\n"
     ]
    },
    {
     "data": {
      "text/plain": [
       "array([[0., 0., 1., ..., 0., 0., 1.],\n",
       "       [0., 1., 1., ..., 0., 0., 0.],\n",
       "       [1., 0., 1., ..., 1., 0., 0.],\n",
       "       ...,\n",
       "       [0., 0., 0., ..., 0., 1., 0.],\n",
       "       [1., 0., 0., ..., 0., 1., 0.],\n",
       "       [0., 1., 1., ..., 0., 0., 1.]])"
      ]
     },
     "metadata": {},
     "output_type": "display_data"
    },
    {
     "data": {
      "text/plain": [
       "array([0.7267249 , 0.72622892, 0.72607462, 0.72568886, 0.7254574 ,\n",
       "       0.72484019, 0.72456464, 0.72443238, 0.69437263, 0.69433956,\n",
       "       0.69409709, 0.69373337, 0.69359009, 0.69310513, 0.69260915,\n",
       "       0.692025  , 0.69180457, 0.66171175, 0.62889657, 0.62746375])"
      ]
     },
     "metadata": {},
     "output_type": "display_data"
    },
    {
     "data": {
      "text/plain": [
       "'Particle'"
      ]
     },
     "metadata": {},
     "output_type": "display_data"
    },
    {
     "name": "stdout",
     "output_type": "stream",
     "text": [
      "\n",
      "================================================================================\n",
      "                          Iteration - 93\n",
      "================================================================================\n",
      "\n"
     ]
    },
    {
     "data": {
      "text/plain": [
       "array([[1., 1., 0., ..., 0., 0., 0.],\n",
       "       [0., 1., 1., ..., 0., 0., 1.],\n",
       "       [1., 0., 0., ..., 0., 0., 0.],\n",
       "       ...,\n",
       "       [1., 1., 0., ..., 0., 0., 1.],\n",
       "       [0., 1., 1., ..., 0., 0., 0.],\n",
       "       [1., 0., 0., ..., 0., 1., 0.]])"
      ]
     },
     "metadata": {},
     "output_type": "display_data"
    },
    {
     "data": {
      "text/plain": [
       "array([0.75851506, 0.72603053, 0.72577703, 0.72547944, 0.72512675,\n",
       "       0.72459771, 0.72400253, 0.69427343, 0.69408606, 0.69403096,\n",
       "       0.69397585, 0.69376643, 0.69375541, 0.69343578, 0.69338067,\n",
       "       0.69320433, 0.69265324, 0.66108351, 0.66103943, 0.66041119])"
      ]
     },
     "metadata": {},
     "output_type": "display_data"
    },
    {
     "data": {
      "text/plain": [
       "'Particle'"
      ]
     },
     "metadata": {},
     "output_type": "display_data"
    },
    {
     "name": "stdout",
     "output_type": "stream",
     "text": [
      "\n",
      "================================================================================\n",
      "                          Iteration - 94\n",
      "================================================================================\n",
      "\n"
     ]
    },
    {
     "data": {
      "text/plain": [
       "array([[1., 1., 0., ..., 0., 0., 1.],\n",
       "       [1., 0., 0., ..., 0., 1., 0.],\n",
       "       [0., 1., 0., ..., 0., 1., 0.],\n",
       "       ...,\n",
       "       [0., 1., 0., ..., 1., 0., 0.],\n",
       "       [1., 0., 1., ..., 0., 0., 1.],\n",
       "       [0., 1., 1., ..., 0., 1., 0.]])"
      ]
     },
     "metadata": {},
     "output_type": "display_data"
    },
    {
     "data": {
      "text/plain": [
       "array([0.72641629, 0.6943065 , 0.69397585, 0.69383256, 0.69368928,\n",
       "       0.69363417, 0.69350191, 0.6934468 , 0.69310513, 0.6916172 ,\n",
       "       0.66286903, 0.66209751, 0.66181095, 0.66124884, 0.66106147,\n",
       "       0.66068673, 0.66035608, 0.62966809, 0.62854387, 0.62803688])"
      ]
     },
     "metadata": {},
     "output_type": "display_data"
    },
    {
     "data": {
      "text/plain": [
       "'Particle'"
      ]
     },
     "metadata": {},
     "output_type": "display_data"
    },
    {
     "name": "stdout",
     "output_type": "stream",
     "text": [
      "\n",
      "================================================================================\n",
      "                          Iteration - 95\n",
      "================================================================================\n",
      "\n"
     ]
    },
    {
     "data": {
      "text/plain": [
       "array([[0., 0., 0., ..., 1., 1., 1.],\n",
       "       [1., 1., 0., ..., 1., 0., 1.],\n",
       "       [0., 1., 0., ..., 0., 1., 0.],\n",
       "       ...,\n",
       "       [0., 0., 1., ..., 0., 1., 1.],\n",
       "       [0., 1., 1., ..., 0., 0., 0.],\n",
       "       [0., 0., 0., ..., 1., 1., 0.]])"
      ]
     },
     "metadata": {},
     "output_type": "display_data"
    },
    {
     "data": {
      "text/plain": [
       "array([0.75798602, 0.72671388, 0.72538025, 0.72533616, 0.72489529,\n",
       "       0.72488427, 0.69502291, 0.69438365, 0.69353498, 0.6931382 ,\n",
       "       0.693039  , 0.69287368, 0.66249429, 0.66080797, 0.66053243,\n",
       "       0.66049936, 0.66028995, 0.62960196, 0.6289627 , 0.62813607])"
      ]
     },
     "metadata": {},
     "output_type": "display_data"
    },
    {
     "data": {
      "text/plain": [
       "'Particle'"
      ]
     },
     "metadata": {},
     "output_type": "display_data"
    },
    {
     "name": "stdout",
     "output_type": "stream",
     "text": [
      "\n",
      "================================================================================\n",
      "                          Iteration - 96\n",
      "================================================================================\n",
      "\n"
     ]
    },
    {
     "data": {
      "text/plain": [
       "array([[0., 1., 0., ..., 0., 0., 0.],\n",
       "       [0., 1., 1., ..., 0., 1., 0.],\n",
       "       [0., 1., 1., ..., 0., 0., 0.],\n",
       "       ...,\n",
       "       [1., 0., 1., ..., 0., 1., 0.],\n",
       "       [0., 1., 1., ..., 1., 1., 0.],\n",
       "       [0., 0., 1., ..., 0., 1., 0.]])"
      ]
     },
     "metadata": {},
     "output_type": "display_data"
    },
    {
     "data": {
      "text/plain": [
       "array([0.7259644 , 0.72576601, 0.72464179, 0.72435523, 0.69490167,\n",
       "       0.69450489, 0.69428445, 0.6939538 , 0.69385461, 0.6936452 ,\n",
       "       0.69341374, 0.69305002, 0.69262018, 0.69223442, 0.66194321,\n",
       "       0.66123782, 0.65999236, 0.63067106, 0.62966809, 0.62837855])"
      ]
     },
     "metadata": {},
     "output_type": "display_data"
    },
    {
     "data": {
      "text/plain": [
       "'Particle'"
      ]
     },
     "metadata": {},
     "output_type": "display_data"
    },
    {
     "name": "stdout",
     "output_type": "stream",
     "text": [
      "\n",
      "================================================================================\n",
      "                          Iteration - 97\n",
      "================================================================================\n",
      "\n"
     ]
    },
    {
     "data": {
      "text/plain": [
       "array([[1., 1., 0., ..., 0., 0., 0.],\n",
       "       [0., 0., 0., ..., 0., 1., 0.],\n",
       "       [1., 0., 0., ..., 0., 0., 1.],\n",
       "       ...,\n",
       "       [1., 0., 1., ..., 1., 0., 0.],\n",
       "       [1., 0., 1., ..., 1., 1., 1.],\n",
       "       [0., 1., 1., ..., 0., 0., 0.]])"
      ]
     },
     "metadata": {},
     "output_type": "display_data"
    },
    {
     "data": {
      "text/plain": [
       "array([0.75732472, 0.7268792 , 0.72578805, 0.69431752, 0.6939538 ,\n",
       "       0.69382154, 0.69350191, 0.69345783, 0.69335863, 0.69335863,\n",
       "       0.69331454, 0.69306104, 0.69262018, 0.69252098, 0.66189912,\n",
       "       0.6613811 , 0.66026791, 0.63054983, 0.6303845 , 0.62885248])"
      ]
     },
     "metadata": {},
     "output_type": "display_data"
    },
    {
     "data": {
      "text/plain": [
       "'Particle'"
      ]
     },
     "metadata": {},
     "output_type": "display_data"
    },
    {
     "name": "stdout",
     "output_type": "stream",
     "text": [
      "\n",
      "================================================================================\n",
      "                          Iteration - 98\n",
      "================================================================================\n",
      "\n"
     ]
    },
    {
     "data": {
      "text/plain": [
       "array([[1., 1., 1., ..., 1., 0., 1.],\n",
       "       [0., 0., 0., ..., 0., 1., 0.],\n",
       "       [1., 1., 1., ..., 0., 1., 0.],\n",
       "       ...,\n",
       "       [0., 1., 1., ..., 0., 1., 0.],\n",
       "       [0., 1., 0., ..., 0., 1., 1.],\n",
       "       [0., 0., 1., ..., 0., 0., 1.]])"
      ]
     },
     "metadata": {},
     "output_type": "display_data"
    },
    {
     "data": {
      "text/plain": [
       "array([0.72562273, 0.72523697, 0.72509368, 0.72463077, 0.69451591,\n",
       "       0.69362315, 0.69328148, 0.69321535, 0.69295083, 0.69248792,\n",
       "       0.69245485, 0.66231794, 0.66230692, 0.66206445, 0.66174482,\n",
       "       0.66173379, 0.6604663 , 0.66043323, 0.65966171, 0.63016407])"
      ]
     },
     "metadata": {},
     "output_type": "display_data"
    },
    {
     "data": {
      "text/plain": [
       "'Particle'"
      ]
     },
     "metadata": {},
     "output_type": "display_data"
    },
    {
     "name": "stdout",
     "output_type": "stream",
     "text": [
      "\n",
      "================================================================================\n",
      "                          Iteration - 99\n",
      "================================================================================\n",
      "\n"
     ]
    },
    {
     "data": {
      "text/plain": [
       "array([[0., 1., 0., ..., 0., 0., 1.],\n",
       "       [0., 1., 1., ..., 1., 1., 0.],\n",
       "       [1., 1., 1., ..., 0., 1., 0.],\n",
       "       ...,\n",
       "       [0., 1., 0., ..., 0., 0., 1.],\n",
       "       [0., 0., 0., ..., 0., 1., 0.],\n",
       "       [0., 0., 0., ..., 0., 1., 0.]])"
      ]
     },
     "metadata": {},
     "output_type": "display_data"
    },
    {
     "data": {
      "text/plain": [
       "array([0.72643833, 0.72633914, 0.72615177, 0.72589827, 0.72562273,\n",
       "       0.72491734, 0.69474737, 0.694053  , 0.69371133, 0.6934468 ,\n",
       "       0.6933917 , 0.69254302, 0.69209113, 0.66242816, 0.66226284,\n",
       "       0.66086308, 0.66079695, 0.66074184, 0.66049936, 0.66024586])"
      ]
     },
     "metadata": {},
     "output_type": "display_data"
    },
    {
     "data": {
      "text/plain": [
       "'Particle'"
      ]
     },
     "metadata": {},
     "output_type": "display_data"
    },
    {
     "name": "stdout",
     "output_type": "stream",
     "text": [
      "\n",
      "================================================================================\n",
      "                          Iteration - 100\n",
      "================================================================================\n",
      "\n"
     ]
    },
    {
     "data": {
      "text/plain": [
       "array([[0., 0., 0., ..., 0., 1., 0.],\n",
       "       [0., 1., 1., ..., 0., 0., 1.],\n",
       "       [0., 0., 1., ..., 0., 0., 0.],\n",
       "       ...,\n",
       "       [0., 0., 0., ..., 0., 0., 0.],\n",
       "       [0., 0., 1., ..., 1., 0., 1.],\n",
       "       [0., 0., 0., ..., 0., 0., 0.]])"
      ]
     },
     "metadata": {},
     "output_type": "display_data"
    },
    {
     "data": {
      "text/plain": [
       "array([0.7258652 , 0.7254574 , 0.72541331, 0.72517084, 0.72459771,\n",
       "       0.72443238, 0.69443876, 0.69440569, 0.69416322, 0.69353498,\n",
       "       0.69350191, 0.6934468 , 0.69342476, 0.69314922, 0.69305002,\n",
       "       0.69276346, 0.69217931, 0.66200934, 0.66014667, 0.62902883])"
      ]
     },
     "metadata": {},
     "output_type": "display_data"
    },
    {
     "data": {
      "text/plain": [
       "'Particle'"
      ]
     },
     "metadata": {},
     "output_type": "display_data"
    },
    {
     "name": "stdout",
     "output_type": "stream",
     "text": [
      "\n",
      "================================================================================\n",
      "                                    Final Result                                  \n",
      "================================================================================\n",
      "\n",
      "Leader Particle Dimension : 4438\n",
      "Leader Particle Fitness : 0.7903713529939695\n",
      "Leader Particle Classification Accuracy : 0.8214285714285714\n",
      "\n",
      "================================================================================\n",
      "\n"
     ]
    },
    {
     "data": {
      "image/png": "[encoded data removed]",
      "text/plain": [
       "<Figure size 432x288 with 1 Axes>"
      ]
     },
     "metadata": {
      "needs_background": "light"
     },
     "output_type": "display_data"
    }
   ],
   "source": [
    "num_agents = 20; max_iter = 100;\n",
    "solution = PSO(num_agents, max_iter, weight_acc=0.8, train_data = X_train, train_label = y_train.values.ravel())"
   ]
  },
  {
   "cell_type": "code",
   "execution_count": null,
   "metadata": {},
   "outputs": [],
   "source": []
  }
 ],
 "metadata": {
  "interpreter": {
   "hash": "15f7ea1ae933a3bca0210cb7572c0952f08b91c912628f3b83103bd71cce445f"
  },
  "kernelspec": {
   "display_name": "Python 3.9.7 ('base')",
   "language": "python",
   "name": "python3"
  },
  "language_info": {
   "codemirror_mode": {
    "name": "ipython",
    "version": 3
   },
   "file_extension": ".py",
   "mimetype": "text/x-python",
   "name": "python",
   "nbconvert_exporter": "python",
   "pygments_lexer": "ipython3",
   "version": "3.9.7"
  },
  "orig_nbformat": 4
 },
 "nbformat": 4,
 "nbformat_minor": 2
}
