{
 "cells": [
  {
   "cell_type": "code",
   "execution_count": 4,
   "metadata": {},
   "outputs": [],
   "source": [
    "#Import Library that will be used\n",
    "import pandas as pd\n",
    "import joblib\n",
    "from sklearn.svm import SVC\n",
    "from sklearn.model_selection import cross_val_score"
   ]
  },
  {
   "cell_type": "code",
   "execution_count": 3,
   "metadata": {},
   "outputs": [],
   "source": [
    "X_train = pd.read_csv(\"dataset-after-preparation/X_train.csv\")\n",
    "y_train = pd.read_csv(\"dataset-after-preparation/y_train.csv\")\n",
    "sel_feat = joblib.load(\"sel_feat.pkl\")\n",
    "X_train = X_train[sel_feat]"
   ]
  },
  {
   "cell_type": "code",
   "execution_count": null,
   "metadata": {},
   "outputs": [],
   "source": [
    "#base model (untuned model)\n",
    "model = SVC()"
   ]
  }
 ],
 "metadata": {
  "interpreter": {
   "hash": "15f7ea1ae933a3bca0210cb7572c0952f08b91c912628f3b83103bd71cce445f"
  },
  "kernelspec": {
   "display_name": "Python 3.9.7 ('base')",
   "language": "python",
   "name": "python3"
  },
  "language_info": {
   "codemirror_mode": {
    "name": "ipython",
    "version": 3
   },
   "file_extension": ".py",
   "mimetype": "text/x-python",
   "name": "python",
   "nbconvert_exporter": "python",
   "pygments_lexer": "ipython3",
   "version": "3.9.7"
  },
  "orig_nbformat": 4
 },
 "nbformat": 4,
 "nbformat_minor": 2
}
