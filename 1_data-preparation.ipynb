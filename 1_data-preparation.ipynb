{
 "cells": [
  {
   "cell_type": "markdown",
   "metadata": {},
   "source": [
    "### Importing the library that will be used in this Data Preparation"
   ]
  },
  {
   "cell_type": "code",
   "execution_count": 1,
   "metadata": {},
   "outputs": [],
   "source": [
    "#importing the library that will be used\n",
    "import pandas as pd\n",
    "import numpy as np\n",
    "import re"
   ]
  },
  {
   "cell_type": "markdown",
   "metadata": {},
   "source": [
    "IMPORT THE DATASET"
   ]
  },
  {
   "cell_type": "code",
   "execution_count": 2,
   "metadata": {},
   "outputs": [],
   "source": [
    "dataset = pd.read_csv(\"GSE4115_data_set.csv\")"
   ]
  },
  {
   "cell_type": "markdown",
   "metadata": {},
   "source": [
    "## Cleaning the data (Remove suspect sample, endcode the target variable, etc)"
   ]
  },
  {
   "cell_type": "code",
   "execution_count": 3,
   "metadata": {},
   "outputs": [],
   "source": [
    "#rename Unnamed colomn from 'Unnamed: 0' into 'sample number'\n",
    "dataset.rename(columns= {'Unnamed: 0' : 'sample_number'}, inplace=True) "
   ]
  },
  {
   "cell_type": "code",
   "execution_count": 4,
   "metadata": {},
   "outputs": [
    {
     "name": "stderr",
     "output_type": "stream",
     "text": [
      "C:\\Users\\anasb\\AppData\\Local\\Temp\\ipykernel_20640\\2445075083.py:5: FutureWarning: The default value of regex will change from True to False in a future version.\n",
      "  dataset[\"Type\"] = dataset[\"Type\"].str.replace(r'[0-9]', '')\n"
     ]
    }
   ],
   "source": [
    "# remove sample words\n",
    "dataset[\"Type\"] = dataset[\"Type\"].str.replace(r'Sample', '')\n",
    "\n",
    "# remove sample number\n",
    "dataset[\"Type\"] = dataset[\"Type\"].str.replace(r'[0-9]', '')\n",
    "\n",
    "# remove space between target variable\n",
    "dataset[\"Type\"] = dataset[\"Type\"].str.replace(r' ', '')\n",
    "\n",
    "#remove suspect sample\n",
    "dataset = dataset.drop(dataset.index[dataset[\"Type\"] == 'Smokerwithsuspectlungcancer'])"
   ]
  },
  {
   "cell_type": "code",
   "execution_count": 5,
   "metadata": {},
   "outputs": [],
   "source": [
    "#Encode The target variable\n",
    "dataset['Type'] = dataset['Type'].astype('category')\n",
    "dataset['Type'] = dataset['Type'].cat.codes"
   ]
  },
  {
   "cell_type": "code",
   "execution_count": 6,
   "metadata": {},
   "outputs": [
    {
     "data": {
      "text/html": [
       "<div>\n",
       "<style scoped>\n",
       "    .dataframe tbody tr th:only-of-type {\n",
       "        vertical-align: middle;\n",
       "    }\n",
       "\n",
       "    .dataframe tbody tr th {\n",
       "        vertical-align: top;\n",
       "    }\n",
       "\n",
       "    .dataframe thead th {\n",
       "        text-align: right;\n",
       "    }\n",
       "</style>\n",
       "<table border=\"1\" class=\"dataframe\">\n",
       "  <thead>\n",
       "    <tr style=\"text-align: right;\">\n",
       "      <th></th>\n",
       "      <th>sample_number</th>\n",
       "      <th>211414_at</th>\n",
       "      <th>220619_at</th>\n",
       "      <th>214008_at</th>\n",
       "      <th>204324_s_at</th>\n",
       "      <th>205279_s_at</th>\n",
       "      <th>205386_s_at</th>\n",
       "      <th>214761_at</th>\n",
       "      <th>211555_s_at</th>\n",
       "      <th>201789_at</th>\n",
       "      <th>...</th>\n",
       "      <th>210017_at</th>\n",
       "      <th>205409_at</th>\n",
       "      <th>213797_at</th>\n",
       "      <th>212576_at</th>\n",
       "      <th>34868_at</th>\n",
       "      <th>201818_at</th>\n",
       "      <th>219547_at</th>\n",
       "      <th>214218_s_at</th>\n",
       "      <th>215037_s_at</th>\n",
       "      <th>Type</th>\n",
       "    </tr>\n",
       "  </thead>\n",
       "  <tbody>\n",
       "    <tr>\n",
       "      <th>0</th>\n",
       "      <td>GSM93997</td>\n",
       "      <td>1.760051</td>\n",
       "      <td>1.592658</td>\n",
       "      <td>1.847297</td>\n",
       "      <td>2.004386</td>\n",
       "      <td>2.227531</td>\n",
       "      <td>1.702238</td>\n",
       "      <td>2.155039</td>\n",
       "      <td>1.836713</td>\n",
       "      <td>2.024259</td>\n",
       "      <td>...</td>\n",
       "      <td>1.682065</td>\n",
       "      <td>2.364193</td>\n",
       "      <td>2.157403</td>\n",
       "      <td>2.852263</td>\n",
       "      <td>2.488573</td>\n",
       "      <td>2.484822</td>\n",
       "      <td>2.789126</td>\n",
       "      <td>1.665079</td>\n",
       "      <td>2.133257</td>\n",
       "      <td>0</td>\n",
       "    </tr>\n",
       "    <tr>\n",
       "      <th>1</th>\n",
       "      <td>GSM94019</td>\n",
       "      <td>1.795014</td>\n",
       "      <td>1.657724</td>\n",
       "      <td>1.835889</td>\n",
       "      <td>2.080957</td>\n",
       "      <td>2.233859</td>\n",
       "      <td>1.580361</td>\n",
       "      <td>2.122718</td>\n",
       "      <td>1.851865</td>\n",
       "      <td>2.022459</td>\n",
       "      <td>...</td>\n",
       "      <td>1.656675</td>\n",
       "      <td>2.461219</td>\n",
       "      <td>2.134476</td>\n",
       "      <td>2.846738</td>\n",
       "      <td>2.530154</td>\n",
       "      <td>2.732370</td>\n",
       "      <td>2.614153</td>\n",
       "      <td>1.619105</td>\n",
       "      <td>2.324705</td>\n",
       "      <td>1</td>\n",
       "    </tr>\n",
       "    <tr>\n",
       "      <th>2</th>\n",
       "      <td>GSM94020</td>\n",
       "      <td>1.825061</td>\n",
       "      <td>1.626483</td>\n",
       "      <td>1.858130</td>\n",
       "      <td>2.170610</td>\n",
       "      <td>2.248432</td>\n",
       "      <td>1.715575</td>\n",
       "      <td>2.168324</td>\n",
       "      <td>2.090098</td>\n",
       "      <td>2.216724</td>\n",
       "      <td>...</td>\n",
       "      <td>1.654779</td>\n",
       "      <td>2.539762</td>\n",
       "      <td>2.201562</td>\n",
       "      <td>2.959224</td>\n",
       "      <td>2.568422</td>\n",
       "      <td>2.592492</td>\n",
       "      <td>2.538111</td>\n",
       "      <td>1.689167</td>\n",
       "      <td>2.385822</td>\n",
       "      <td>1</td>\n",
       "    </tr>\n",
       "    <tr>\n",
       "      <th>3</th>\n",
       "      <td>GSM94021</td>\n",
       "      <td>1.773217</td>\n",
       "      <td>1.589668</td>\n",
       "      <td>1.837949</td>\n",
       "      <td>1.945553</td>\n",
       "      <td>2.215105</td>\n",
       "      <td>1.599106</td>\n",
       "      <td>2.111247</td>\n",
       "      <td>1.841720</td>\n",
       "      <td>2.006722</td>\n",
       "      <td>...</td>\n",
       "      <td>1.619667</td>\n",
       "      <td>2.522812</td>\n",
       "      <td>2.403671</td>\n",
       "      <td>2.747622</td>\n",
       "      <td>2.430216</td>\n",
       "      <td>2.591979</td>\n",
       "      <td>2.625857</td>\n",
       "      <td>1.654162</td>\n",
       "      <td>2.592473</td>\n",
       "      <td>1</td>\n",
       "    </tr>\n",
       "    <tr>\n",
       "      <th>4</th>\n",
       "      <td>GSM94022</td>\n",
       "      <td>1.691989</td>\n",
       "      <td>1.735922</td>\n",
       "      <td>1.780269</td>\n",
       "      <td>2.026950</td>\n",
       "      <td>2.166022</td>\n",
       "      <td>1.508896</td>\n",
       "      <td>2.055945</td>\n",
       "      <td>1.996917</td>\n",
       "      <td>2.030167</td>\n",
       "      <td>...</td>\n",
       "      <td>1.656882</td>\n",
       "      <td>2.542456</td>\n",
       "      <td>2.125123</td>\n",
       "      <td>2.773777</td>\n",
       "      <td>2.480444</td>\n",
       "      <td>2.638087</td>\n",
       "      <td>2.621172</td>\n",
       "      <td>1.677003</td>\n",
       "      <td>2.540970</td>\n",
       "      <td>1</td>\n",
       "    </tr>\n",
       "  </tbody>\n",
       "</table>\n",
       "<p>5 rows × 22217 columns</p>\n",
       "</div>"
      ],
      "text/plain": [
       "  sample_number  211414_at  220619_at  214008_at  204324_s_at  205279_s_at  \\\n",
       "0      GSM93997   1.760051   1.592658   1.847297     2.004386     2.227531   \n",
       "1      GSM94019   1.795014   1.657724   1.835889     2.080957     2.233859   \n",
       "2      GSM94020   1.825061   1.626483   1.858130     2.170610     2.248432   \n",
       "3      GSM94021   1.773217   1.589668   1.837949     1.945553     2.215105   \n",
       "4      GSM94022   1.691989   1.735922   1.780269     2.026950     2.166022   \n",
       "\n",
       "   205386_s_at  214761_at  211555_s_at  201789_at  ...  210017_at  205409_at  \\\n",
       "0     1.702238   2.155039     1.836713   2.024259  ...   1.682065   2.364193   \n",
       "1     1.580361   2.122718     1.851865   2.022459  ...   1.656675   2.461219   \n",
       "2     1.715575   2.168324     2.090098   2.216724  ...   1.654779   2.539762   \n",
       "3     1.599106   2.111247     1.841720   2.006722  ...   1.619667   2.522812   \n",
       "4     1.508896   2.055945     1.996917   2.030167  ...   1.656882   2.542456   \n",
       "\n",
       "   213797_at  212576_at  34868_at  201818_at  219547_at  214218_s_at  \\\n",
       "0   2.157403   2.852263  2.488573   2.484822   2.789126     1.665079   \n",
       "1   2.134476   2.846738  2.530154   2.732370   2.614153     1.619105   \n",
       "2   2.201562   2.959224  2.568422   2.592492   2.538111     1.689167   \n",
       "3   2.403671   2.747622  2.430216   2.591979   2.625857     1.654162   \n",
       "4   2.125123   2.773777  2.480444   2.638087   2.621172     1.677003   \n",
       "\n",
       "   215037_s_at  Type  \n",
       "0     2.133257     0  \n",
       "1     2.324705     1  \n",
       "2     2.385822     1  \n",
       "3     2.592473     1  \n",
       "4     2.540970     1  \n",
       "\n",
       "[5 rows x 22217 columns]"
      ]
     },
     "execution_count": 6,
     "metadata": {},
     "output_type": "execute_result"
    }
   ],
   "source": [
    "dataset.head(5)"
   ]
  },
  {
   "cell_type": "code",
   "execution_count": 7,
   "metadata": {},
   "outputs": [
    {
     "name": "stderr",
     "output_type": "stream",
     "text": [
      "C:\\Users\\anasb\\AppData\\Local\\Temp\\ipykernel_20640\\439375982.py:1: FutureWarning: In a future version of pandas all arguments of DataFrame.drop except for the argument 'labels' will be keyword-only.\n",
      "  X = dataset.drop(\"Type\",1)\n"
     ]
    }
   ],
   "source": [
    "X = dataset.drop(\"Type\",1)\n",
    "y = dataset[\"Type\"]"
   ]
  },
  {
   "cell_type": "code",
   "execution_count": 8,
   "metadata": {},
   "outputs": [
    {
     "data": {
      "text/html": [
       "<div>\n",
       "<style scoped>\n",
       "    .dataframe tbody tr th:only-of-type {\n",
       "        vertical-align: middle;\n",
       "    }\n",
       "\n",
       "    .dataframe tbody tr th {\n",
       "        vertical-align: top;\n",
       "    }\n",
       "\n",
       "    .dataframe thead th {\n",
       "        text-align: right;\n",
       "    }\n",
       "</style>\n",
       "<table border=\"1\" class=\"dataframe\">\n",
       "  <thead>\n",
       "    <tr style=\"text-align: right;\">\n",
       "      <th></th>\n",
       "      <th>sample_number</th>\n",
       "      <th>211414_at</th>\n",
       "      <th>220619_at</th>\n",
       "      <th>214008_at</th>\n",
       "      <th>204324_s_at</th>\n",
       "      <th>205279_s_at</th>\n",
       "      <th>205386_s_at</th>\n",
       "      <th>214761_at</th>\n",
       "      <th>211555_s_at</th>\n",
       "      <th>201789_at</th>\n",
       "      <th>...</th>\n",
       "      <th>200685_at</th>\n",
       "      <th>210017_at</th>\n",
       "      <th>205409_at</th>\n",
       "      <th>213797_at</th>\n",
       "      <th>212576_at</th>\n",
       "      <th>34868_at</th>\n",
       "      <th>201818_at</th>\n",
       "      <th>219547_at</th>\n",
       "      <th>214218_s_at</th>\n",
       "      <th>215037_s_at</th>\n",
       "    </tr>\n",
       "  </thead>\n",
       "  <tbody>\n",
       "    <tr>\n",
       "      <th>0</th>\n",
       "      <td>GSM93997</td>\n",
       "      <td>1.760051</td>\n",
       "      <td>1.592658</td>\n",
       "      <td>1.847297</td>\n",
       "      <td>2.004386</td>\n",
       "      <td>2.227531</td>\n",
       "      <td>1.702238</td>\n",
       "      <td>2.155039</td>\n",
       "      <td>1.836713</td>\n",
       "      <td>2.024259</td>\n",
       "      <td>...</td>\n",
       "      <td>2.047203</td>\n",
       "      <td>1.682065</td>\n",
       "      <td>2.364193</td>\n",
       "      <td>2.157403</td>\n",
       "      <td>2.852263</td>\n",
       "      <td>2.488573</td>\n",
       "      <td>2.484822</td>\n",
       "      <td>2.789126</td>\n",
       "      <td>1.665079</td>\n",
       "      <td>2.133257</td>\n",
       "    </tr>\n",
       "    <tr>\n",
       "      <th>1</th>\n",
       "      <td>GSM94019</td>\n",
       "      <td>1.795014</td>\n",
       "      <td>1.657724</td>\n",
       "      <td>1.835889</td>\n",
       "      <td>2.080957</td>\n",
       "      <td>2.233859</td>\n",
       "      <td>1.580361</td>\n",
       "      <td>2.122718</td>\n",
       "      <td>1.851865</td>\n",
       "      <td>2.022459</td>\n",
       "      <td>...</td>\n",
       "      <td>1.740169</td>\n",
       "      <td>1.656675</td>\n",
       "      <td>2.461219</td>\n",
       "      <td>2.134476</td>\n",
       "      <td>2.846738</td>\n",
       "      <td>2.530154</td>\n",
       "      <td>2.732370</td>\n",
       "      <td>2.614153</td>\n",
       "      <td>1.619105</td>\n",
       "      <td>2.324705</td>\n",
       "    </tr>\n",
       "    <tr>\n",
       "      <th>2</th>\n",
       "      <td>GSM94020</td>\n",
       "      <td>1.825061</td>\n",
       "      <td>1.626483</td>\n",
       "      <td>1.858130</td>\n",
       "      <td>2.170610</td>\n",
       "      <td>2.248432</td>\n",
       "      <td>1.715575</td>\n",
       "      <td>2.168324</td>\n",
       "      <td>2.090098</td>\n",
       "      <td>2.216724</td>\n",
       "      <td>...</td>\n",
       "      <td>1.742136</td>\n",
       "      <td>1.654779</td>\n",
       "      <td>2.539762</td>\n",
       "      <td>2.201562</td>\n",
       "      <td>2.959224</td>\n",
       "      <td>2.568422</td>\n",
       "      <td>2.592492</td>\n",
       "      <td>2.538111</td>\n",
       "      <td>1.689167</td>\n",
       "      <td>2.385822</td>\n",
       "    </tr>\n",
       "    <tr>\n",
       "      <th>3</th>\n",
       "      <td>GSM94021</td>\n",
       "      <td>1.773217</td>\n",
       "      <td>1.589668</td>\n",
       "      <td>1.837949</td>\n",
       "      <td>1.945553</td>\n",
       "      <td>2.215105</td>\n",
       "      <td>1.599106</td>\n",
       "      <td>2.111247</td>\n",
       "      <td>1.841720</td>\n",
       "      <td>2.006722</td>\n",
       "      <td>...</td>\n",
       "      <td>1.814710</td>\n",
       "      <td>1.619667</td>\n",
       "      <td>2.522812</td>\n",
       "      <td>2.403671</td>\n",
       "      <td>2.747622</td>\n",
       "      <td>2.430216</td>\n",
       "      <td>2.591979</td>\n",
       "      <td>2.625857</td>\n",
       "      <td>1.654162</td>\n",
       "      <td>2.592473</td>\n",
       "    </tr>\n",
       "    <tr>\n",
       "      <th>4</th>\n",
       "      <td>GSM94022</td>\n",
       "      <td>1.691989</td>\n",
       "      <td>1.735922</td>\n",
       "      <td>1.780269</td>\n",
       "      <td>2.026950</td>\n",
       "      <td>2.166022</td>\n",
       "      <td>1.508896</td>\n",
       "      <td>2.055945</td>\n",
       "      <td>1.996917</td>\n",
       "      <td>2.030167</td>\n",
       "      <td>...</td>\n",
       "      <td>1.696045</td>\n",
       "      <td>1.656882</td>\n",
       "      <td>2.542456</td>\n",
       "      <td>2.125123</td>\n",
       "      <td>2.773777</td>\n",
       "      <td>2.480444</td>\n",
       "      <td>2.638087</td>\n",
       "      <td>2.621172</td>\n",
       "      <td>1.677003</td>\n",
       "      <td>2.540970</td>\n",
       "    </tr>\n",
       "  </tbody>\n",
       "</table>\n",
       "<p>5 rows × 22216 columns</p>\n",
       "</div>"
      ],
      "text/plain": [
       "  sample_number  211414_at  220619_at  214008_at  204324_s_at  205279_s_at  \\\n",
       "0      GSM93997   1.760051   1.592658   1.847297     2.004386     2.227531   \n",
       "1      GSM94019   1.795014   1.657724   1.835889     2.080957     2.233859   \n",
       "2      GSM94020   1.825061   1.626483   1.858130     2.170610     2.248432   \n",
       "3      GSM94021   1.773217   1.589668   1.837949     1.945553     2.215105   \n",
       "4      GSM94022   1.691989   1.735922   1.780269     2.026950     2.166022   \n",
       "\n",
       "   205386_s_at  214761_at  211555_s_at  201789_at  ...  200685_at  210017_at  \\\n",
       "0     1.702238   2.155039     1.836713   2.024259  ...   2.047203   1.682065   \n",
       "1     1.580361   2.122718     1.851865   2.022459  ...   1.740169   1.656675   \n",
       "2     1.715575   2.168324     2.090098   2.216724  ...   1.742136   1.654779   \n",
       "3     1.599106   2.111247     1.841720   2.006722  ...   1.814710   1.619667   \n",
       "4     1.508896   2.055945     1.996917   2.030167  ...   1.696045   1.656882   \n",
       "\n",
       "   205409_at  213797_at  212576_at  34868_at  201818_at  219547_at  \\\n",
       "0   2.364193   2.157403   2.852263  2.488573   2.484822   2.789126   \n",
       "1   2.461219   2.134476   2.846738  2.530154   2.732370   2.614153   \n",
       "2   2.539762   2.201562   2.959224  2.568422   2.592492   2.538111   \n",
       "3   2.522812   2.403671   2.747622  2.430216   2.591979   2.625857   \n",
       "4   2.542456   2.125123   2.773777  2.480444   2.638087   2.621172   \n",
       "\n",
       "   214218_s_at  215037_s_at  \n",
       "0     1.665079     2.133257  \n",
       "1     1.619105     2.324705  \n",
       "2     1.689167     2.385822  \n",
       "3     1.654162     2.592473  \n",
       "4     1.677003     2.540970  \n",
       "\n",
       "[5 rows x 22216 columns]"
      ]
     },
     "execution_count": 8,
     "metadata": {},
     "output_type": "execute_result"
    }
   ],
   "source": [
    "X.head(5)"
   ]
  },
  {
   "cell_type": "code",
   "execution_count": 9,
   "metadata": {},
   "outputs": [
    {
     "data": {
      "text/plain": [
       "0    0\n",
       "1    1\n",
       "2    1\n",
       "3    1\n",
       "4    1\n",
       "Name: Type, dtype: int8"
      ]
     },
     "execution_count": 9,
     "metadata": {},
     "output_type": "execute_result"
    }
   ],
   "source": [
    "y.head(5)"
   ]
  },
  {
   "cell_type": "code",
   "execution_count": 10,
   "metadata": {},
   "outputs": [
    {
     "data": {
      "text/html": [
       "<div>\n",
       "<style scoped>\n",
       "    .dataframe tbody tr th:only-of-type {\n",
       "        vertical-align: middle;\n",
       "    }\n",
       "\n",
       "    .dataframe tbody tr th {\n",
       "        vertical-align: top;\n",
       "    }\n",
       "\n",
       "    .dataframe thead th {\n",
       "        text-align: right;\n",
       "    }\n",
       "</style>\n",
       "<table border=\"1\" class=\"dataframe\">\n",
       "  <thead>\n",
       "    <tr style=\"text-align: right;\">\n",
       "      <th></th>\n",
       "      <th>220619_at</th>\n",
       "      <th>214008_at</th>\n",
       "      <th>204324_s_at</th>\n",
       "      <th>205279_s_at</th>\n",
       "      <th>205386_s_at</th>\n",
       "      <th>214761_at</th>\n",
       "      <th>211555_s_at</th>\n",
       "      <th>201789_at</th>\n",
       "      <th>206931_at</th>\n",
       "      <th>216632_at</th>\n",
       "      <th>...</th>\n",
       "      <th>200685_at</th>\n",
       "      <th>210017_at</th>\n",
       "      <th>205409_at</th>\n",
       "      <th>213797_at</th>\n",
       "      <th>212576_at</th>\n",
       "      <th>34868_at</th>\n",
       "      <th>201818_at</th>\n",
       "      <th>219547_at</th>\n",
       "      <th>214218_s_at</th>\n",
       "      <th>215037_s_at</th>\n",
       "    </tr>\n",
       "  </thead>\n",
       "  <tbody>\n",
       "    <tr>\n",
       "      <th>0</th>\n",
       "      <td>1.592658</td>\n",
       "      <td>1.847297</td>\n",
       "      <td>2.004386</td>\n",
       "      <td>2.227531</td>\n",
       "      <td>1.702238</td>\n",
       "      <td>2.155039</td>\n",
       "      <td>1.836713</td>\n",
       "      <td>2.024259</td>\n",
       "      <td>1.852110</td>\n",
       "      <td>1.783695</td>\n",
       "      <td>...</td>\n",
       "      <td>2.047203</td>\n",
       "      <td>1.682065</td>\n",
       "      <td>2.364193</td>\n",
       "      <td>2.157403</td>\n",
       "      <td>2.852263</td>\n",
       "      <td>2.488573</td>\n",
       "      <td>2.484822</td>\n",
       "      <td>2.789126</td>\n",
       "      <td>1.665079</td>\n",
       "      <td>2.133257</td>\n",
       "    </tr>\n",
       "    <tr>\n",
       "      <th>1</th>\n",
       "      <td>1.657724</td>\n",
       "      <td>1.835889</td>\n",
       "      <td>2.080957</td>\n",
       "      <td>2.233859</td>\n",
       "      <td>1.580361</td>\n",
       "      <td>2.122718</td>\n",
       "      <td>1.851865</td>\n",
       "      <td>2.022459</td>\n",
       "      <td>1.784609</td>\n",
       "      <td>1.814730</td>\n",
       "      <td>...</td>\n",
       "      <td>1.740169</td>\n",
       "      <td>1.656675</td>\n",
       "      <td>2.461219</td>\n",
       "      <td>2.134476</td>\n",
       "      <td>2.846738</td>\n",
       "      <td>2.530154</td>\n",
       "      <td>2.732370</td>\n",
       "      <td>2.614153</td>\n",
       "      <td>1.619105</td>\n",
       "      <td>2.324705</td>\n",
       "    </tr>\n",
       "    <tr>\n",
       "      <th>2</th>\n",
       "      <td>1.626483</td>\n",
       "      <td>1.858130</td>\n",
       "      <td>2.170610</td>\n",
       "      <td>2.248432</td>\n",
       "      <td>1.715575</td>\n",
       "      <td>2.168324</td>\n",
       "      <td>2.090098</td>\n",
       "      <td>2.216724</td>\n",
       "      <td>2.065969</td>\n",
       "      <td>1.767775</td>\n",
       "      <td>...</td>\n",
       "      <td>1.742136</td>\n",
       "      <td>1.654779</td>\n",
       "      <td>2.539762</td>\n",
       "      <td>2.201562</td>\n",
       "      <td>2.959224</td>\n",
       "      <td>2.568422</td>\n",
       "      <td>2.592492</td>\n",
       "      <td>2.538111</td>\n",
       "      <td>1.689167</td>\n",
       "      <td>2.385822</td>\n",
       "    </tr>\n",
       "    <tr>\n",
       "      <th>3</th>\n",
       "      <td>1.589668</td>\n",
       "      <td>1.837949</td>\n",
       "      <td>1.945553</td>\n",
       "      <td>2.215105</td>\n",
       "      <td>1.599106</td>\n",
       "      <td>2.111247</td>\n",
       "      <td>1.841720</td>\n",
       "      <td>2.006722</td>\n",
       "      <td>1.769430</td>\n",
       "      <td>1.764662</td>\n",
       "      <td>...</td>\n",
       "      <td>1.814710</td>\n",
       "      <td>1.619667</td>\n",
       "      <td>2.522812</td>\n",
       "      <td>2.403671</td>\n",
       "      <td>2.747622</td>\n",
       "      <td>2.430216</td>\n",
       "      <td>2.591979</td>\n",
       "      <td>2.625857</td>\n",
       "      <td>1.654162</td>\n",
       "      <td>2.592473</td>\n",
       "    </tr>\n",
       "    <tr>\n",
       "      <th>4</th>\n",
       "      <td>1.735922</td>\n",
       "      <td>1.780269</td>\n",
       "      <td>2.026950</td>\n",
       "      <td>2.166022</td>\n",
       "      <td>1.508896</td>\n",
       "      <td>2.055945</td>\n",
       "      <td>1.996917</td>\n",
       "      <td>2.030167</td>\n",
       "      <td>1.717770</td>\n",
       "      <td>1.794888</td>\n",
       "      <td>...</td>\n",
       "      <td>1.696045</td>\n",
       "      <td>1.656882</td>\n",
       "      <td>2.542456</td>\n",
       "      <td>2.125123</td>\n",
       "      <td>2.773777</td>\n",
       "      <td>2.480444</td>\n",
       "      <td>2.638087</td>\n",
       "      <td>2.621172</td>\n",
       "      <td>1.677003</td>\n",
       "      <td>2.540970</td>\n",
       "    </tr>\n",
       "  </tbody>\n",
       "</table>\n",
       "<p>5 rows × 22214 columns</p>\n",
       "</div>"
      ],
      "text/plain": [
       "   220619_at  214008_at  204324_s_at  205279_s_at  205386_s_at  214761_at  \\\n",
       "0   1.592658   1.847297     2.004386     2.227531     1.702238   2.155039   \n",
       "1   1.657724   1.835889     2.080957     2.233859     1.580361   2.122718   \n",
       "2   1.626483   1.858130     2.170610     2.248432     1.715575   2.168324   \n",
       "3   1.589668   1.837949     1.945553     2.215105     1.599106   2.111247   \n",
       "4   1.735922   1.780269     2.026950     2.166022     1.508896   2.055945   \n",
       "\n",
       "   211555_s_at  201789_at  206931_at  216632_at  ...  200685_at  210017_at  \\\n",
       "0     1.836713   2.024259   1.852110   1.783695  ...   2.047203   1.682065   \n",
       "1     1.851865   2.022459   1.784609   1.814730  ...   1.740169   1.656675   \n",
       "2     2.090098   2.216724   2.065969   1.767775  ...   1.742136   1.654779   \n",
       "3     1.841720   2.006722   1.769430   1.764662  ...   1.814710   1.619667   \n",
       "4     1.996917   2.030167   1.717770   1.794888  ...   1.696045   1.656882   \n",
       "\n",
       "   205409_at  213797_at  212576_at  34868_at  201818_at  219547_at  \\\n",
       "0   2.364193   2.157403   2.852263  2.488573   2.484822   2.789126   \n",
       "1   2.461219   2.134476   2.846738  2.530154   2.732370   2.614153   \n",
       "2   2.539762   2.201562   2.959224  2.568422   2.592492   2.538111   \n",
       "3   2.522812   2.403671   2.747622  2.430216   2.591979   2.625857   \n",
       "4   2.542456   2.125123   2.773777  2.480444   2.638087   2.621172   \n",
       "\n",
       "   214218_s_at  215037_s_at  \n",
       "0     1.665079     2.133257  \n",
       "1     1.619105     2.324705  \n",
       "2     1.689167     2.385822  \n",
       "3     1.654162     2.592473  \n",
       "4     1.677003     2.540970  \n",
       "\n",
       "[5 rows x 22214 columns]"
      ]
     },
     "execution_count": 10,
     "metadata": {},
     "output_type": "execute_result"
    }
   ],
   "source": [
    "# Remove the sample number and the index, then show the data\n",
    "X = X.iloc[:,2:]\n",
    "X.head(5)"
   ]
  },
  {
   "cell_type": "code",
   "execution_count": 11,
   "metadata": {},
   "outputs": [
    {
     "data": {
      "text/plain": [
       "0    0\n",
       "1    1\n",
       "2    1\n",
       "3    1\n",
       "4    1\n",
       "Name: Type, dtype: int8"
      ]
     },
     "execution_count": 11,
     "metadata": {},
     "output_type": "execute_result"
    }
   ],
   "source": [
    "#Seeing the target variable\n",
    "y.head(5)"
   ]
  },
  {
   "cell_type": "markdown",
   "metadata": {},
   "source": [
    "## Split into feature and target variable then Variance Tresholding for feature selection "
   ]
  },
  {
   "cell_type": "code",
   "execution_count": 12,
   "metadata": {},
   "outputs": [],
   "source": [
    "from sklearn.feature_selection import VarianceThreshold\n",
    "from sklearn.model_selection import train_test_split"
   ]
  },
  {
   "cell_type": "code",
   "execution_count": 13,
   "metadata": {},
   "outputs": [
    {
     "data": {
      "text/plain": [
       "((93, 22214), (94, 22214), (93,), (93,))"
      ]
     },
     "execution_count": 13,
     "metadata": {},
     "output_type": "execute_result"
    }
   ],
   "source": [
    "# Split dataset into X_train, X_test, y_train, y_test with train test split\n",
    "X_train, X_test, y_train, y_test = train_test_split(X, y, test_size=0.5, random_state=42)\n",
    "X_train.shape, X_test.shape, y_train.shape, y_train.shape"
   ]
  },
  {
   "cell_type": "code",
   "execution_count": 14,
   "metadata": {},
   "outputs": [
    {
     "data": {
      "text/plain": [
       "22214"
      ]
     },
     "execution_count": 14,
     "metadata": {},
     "output_type": "execute_result"
    }
   ],
   "source": [
    "feat_name = X_train.columns.values.tolist()\n",
    "len(feat_name)"
   ]
  },
  {
   "cell_type": "code",
   "execution_count": 15,
   "metadata": {},
   "outputs": [
    {
     "data": {
      "text/plain": [
       "array([[1.85438271, 1.86816324, 1.97079918, ..., 2.19175908, 1.64769626,\n",
       "        2.3253015 ],\n",
       "       [2.09479648, 2.15467685, 2.29358531, ..., 2.19130744, 1.84174412,\n",
       "        2.37625426],\n",
       "       [1.88087826, 1.88081089, 2.10385848, ..., 2.22699613, 1.67572968,\n",
       "        2.32638231],\n",
       "       ...,\n",
       "       [1.89147091, 1.90627453, 2.13095689, ..., 2.13852256, 1.68988417,\n",
       "        2.38574439],\n",
       "       [1.87098921, 1.81963263, 2.03789243, ..., 2.2270254 , 1.77697229,\n",
       "        2.36336342],\n",
       "       [1.82670467, 1.91197492, 2.09464652, ..., 2.24514666, 1.52952513,\n",
       "        2.30869958]])"
      ]
     },
     "execution_count": 15,
     "metadata": {},
     "output_type": "execute_result"
    }
   ],
   "source": [
    "selector = VarianceThreshold(threshold=0.008)\n",
    "selector.fit_transform(X_train)"
   ]
  },
  {
   "cell_type": "code",
   "execution_count": 16,
   "metadata": {},
   "outputs": [],
   "source": [
    "supp = selector.get_support()"
   ]
  },
  {
   "cell_type": "code",
   "execution_count": 17,
   "metadata": {},
   "outputs": [],
   "source": [
    "sel_feat = []\n",
    "for i in range(len(supp)):\n",
    "    if supp[i] == True:\n",
    "        sel_feat.append(feat_name[i])"
   ]
  },
  {
   "cell_type": "code",
   "execution_count": 18,
   "metadata": {},
   "outputs": [
    {
     "data": {
      "text/plain": [
       "9073"
      ]
     },
     "execution_count": 18,
     "metadata": {},
     "output_type": "execute_result"
    }
   ],
   "source": [
    "len(sel_feat)"
   ]
  },
  {
   "cell_type": "code",
   "execution_count": 19,
   "metadata": {},
   "outputs": [],
   "source": [
    "#Export the dataset\n",
    "X_train.to_csv(r'dataset-after-preparation\\X_train.csv', index=False)\n",
    "y_train.to_csv(r'dataset-after-preparation\\y_train.csv', index=False)\n",
    "X_test.to_csv(r'dataset-after-preparation\\X_test.csv', index=False)\n",
    "y_test.to_csv(r'dataset-after-preparation\\y_test.csv', index=False)"
   ]
  }
 ],
 "metadata": {
  "interpreter": {
   "hash": "15f7ea1ae933a3bca0210cb7572c0952f08b91c912628f3b83103bd71cce445f"
  },
  "kernelspec": {
   "display_name": "Python 3.9.7 ('base')",
   "language": "python",
   "name": "python3"
  },
  "language_info": {
   "codemirror_mode": {
    "name": "ipython",
    "version": 3
   },
   "file_extension": ".py",
   "mimetype": "text/x-python",
   "name": "python",
   "nbconvert_exporter": "python",
   "pygments_lexer": "ipython3",
   "version": "3.9.7"
  },
  "orig_nbformat": 4
 },
 "nbformat": 4,
 "nbformat_minor": 2
}
