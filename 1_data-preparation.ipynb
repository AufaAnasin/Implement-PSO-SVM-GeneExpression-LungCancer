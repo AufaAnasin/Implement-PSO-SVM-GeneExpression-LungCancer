{
 "cells": [
  {
   "cell_type": "markdown",
   "metadata": {},
   "source": [
    "### Importing the library that will be used in this Data Preparation"
   ]
  },
  {
   "cell_type": "code",
   "execution_count": 1,
   "metadata": {},
   "outputs": [],
   "source": [
    "#importing the library that will be used\n",
    "import pandas as pd\n",
    "import numpy as np\n",
    "import re"
   ]
  },
  {
   "cell_type": "markdown",
   "metadata": {},
   "source": [
    "IMPORT THE DATASET"
   ]
  },
  {
   "cell_type": "code",
   "execution_count": 2,
   "metadata": {},
   "outputs": [],
   "source": [
    "dataset = pd.read_csv(\"GSE4115_data_set.csv\")"
   ]
  },
  {
   "cell_type": "markdown",
   "metadata": {},
   "source": [
    "## Cleaning the data (Remove suspect sample, endcode the target variable, etc)"
   ]
  },
  {
   "cell_type": "code",
   "execution_count": 3,
   "metadata": {},
   "outputs": [],
   "source": [
    "#rename Unnamed colomn from 'Unnamed: 0' into 'sample number'\n",
    "dataset.rename(columns= {'Unnamed: 0' : 'sample_number'}, inplace=True) "
   ]
  },
  {
   "cell_type": "code",
   "execution_count": 4,
   "metadata": {},
   "outputs": [
    {
     "name": "stderr",
     "output_type": "stream",
     "text": [
      "C:\\Users\\anasb\\AppData\\Local\\Temp\\ipykernel_11228\\2445075083.py:5: FutureWarning: The default value of regex will change from True to False in a future version.\n",
      "  dataset[\"Type\"] = dataset[\"Type\"].str.replace(r'[0-9]', '')\n"
     ]
    }
   ],
   "source": [
    "# remove sample words\n",
    "dataset[\"Type\"] = dataset[\"Type\"].str.replace(r'Sample', '')\n",
    "\n",
    "# remove sample number\n",
    "dataset[\"Type\"] = dataset[\"Type\"].str.replace(r'[0-9]', '')\n",
    "\n",
    "# remove space between target variable\n",
    "dataset[\"Type\"] = dataset[\"Type\"].str.replace(r' ', '')\n",
    "\n",
    "#remove suspect sample\n",
    "dataset = dataset.drop(dataset.index[dataset[\"Type\"] == 'Smokerwithsuspectlungcancer'])"
   ]
  },
  {
   "cell_type": "code",
   "execution_count": 5,
   "metadata": {},
   "outputs": [],
   "source": [
    "#Encode The target variable\n",
    "dataset['Type'] = dataset['Type'].astype('category')\n",
    "dataset['Type'] = dataset['Type'].cat.codes"
   ]
  },
  {
   "cell_type": "code",
   "execution_count": 6,
   "metadata": {},
   "outputs": [
    {
     "data": {
      "text/html": [
       "<div>\n",
       "<style scoped>\n",
       "    .dataframe tbody tr th:only-of-type {\n",
       "        vertical-align: middle;\n",
       "    }\n",
       "\n",
       "    .dataframe tbody tr th {\n",
       "        vertical-align: top;\n",
       "    }\n",
       "\n",
       "    .dataframe thead th {\n",
       "        text-align: right;\n",
       "    }\n",
       "</style>\n",
       "<table border=\"1\" class=\"dataframe\">\n",
       "  <thead>\n",
       "    <tr style=\"text-align: right;\">\n",
       "      <th></th>\n",
       "      <th>sample_number</th>\n",
       "      <th>211414_at</th>\n",
       "      <th>220619_at</th>\n",
       "      <th>214008_at</th>\n",
       "      <th>204324_s_at</th>\n",
       "      <th>205279_s_at</th>\n",
       "      <th>205386_s_at</th>\n",
       "      <th>214761_at</th>\n",
       "      <th>211555_s_at</th>\n",
       "      <th>201789_at</th>\n",
       "      <th>...</th>\n",
       "      <th>210017_at</th>\n",
       "      <th>205409_at</th>\n",
       "      <th>213797_at</th>\n",
       "      <th>212576_at</th>\n",
       "      <th>34868_at</th>\n",
       "      <th>201818_at</th>\n",
       "      <th>219547_at</th>\n",
       "      <th>214218_s_at</th>\n",
       "      <th>215037_s_at</th>\n",
       "      <th>Type</th>\n",
       "    </tr>\n",
       "  </thead>\n",
       "  <tbody>\n",
       "    <tr>\n",
       "      <th>0</th>\n",
       "      <td>GSM93997</td>\n",
       "      <td>1.760051</td>\n",
       "      <td>1.592658</td>\n",
       "      <td>1.847297</td>\n",
       "      <td>2.004386</td>\n",
       "      <td>2.227531</td>\n",
       "      <td>1.702238</td>\n",
       "      <td>2.155039</td>\n",
       "      <td>1.836713</td>\n",
       "      <td>2.024259</td>\n",
       "      <td>...</td>\n",
       "      <td>1.682065</td>\n",
       "      <td>2.364193</td>\n",
       "      <td>2.157403</td>\n",
       "      <td>2.852263</td>\n",
       "      <td>2.488573</td>\n",
       "      <td>2.484822</td>\n",
       "      <td>2.789126</td>\n",
       "      <td>1.665079</td>\n",
       "      <td>2.133257</td>\n",
       "      <td>0</td>\n",
       "    </tr>\n",
       "    <tr>\n",
       "      <th>1</th>\n",
       "      <td>GSM94019</td>\n",
       "      <td>1.795014</td>\n",
       "      <td>1.657724</td>\n",
       "      <td>1.835889</td>\n",
       "      <td>2.080957</td>\n",
       "      <td>2.233859</td>\n",
       "      <td>1.580361</td>\n",
       "      <td>2.122718</td>\n",
       "      <td>1.851865</td>\n",
       "      <td>2.022459</td>\n",
       "      <td>...</td>\n",
       "      <td>1.656675</td>\n",
       "      <td>2.461219</td>\n",
       "      <td>2.134476</td>\n",
       "      <td>2.846738</td>\n",
       "      <td>2.530154</td>\n",
       "      <td>2.732370</td>\n",
       "      <td>2.614153</td>\n",
       "      <td>1.619105</td>\n",
       "      <td>2.324705</td>\n",
       "      <td>1</td>\n",
       "    </tr>\n",
       "    <tr>\n",
       "      <th>2</th>\n",
       "      <td>GSM94020</td>\n",
       "      <td>1.825061</td>\n",
       "      <td>1.626483</td>\n",
       "      <td>1.858130</td>\n",
       "      <td>2.170610</td>\n",
       "      <td>2.248432</td>\n",
       "      <td>1.715575</td>\n",
       "      <td>2.168324</td>\n",
       "      <td>2.090098</td>\n",
       "      <td>2.216724</td>\n",
       "      <td>...</td>\n",
       "      <td>1.654779</td>\n",
       "      <td>2.539762</td>\n",
       "      <td>2.201562</td>\n",
       "      <td>2.959224</td>\n",
       "      <td>2.568422</td>\n",
       "      <td>2.592492</td>\n",
       "      <td>2.538111</td>\n",
       "      <td>1.689167</td>\n",
       "      <td>2.385822</td>\n",
       "      <td>1</td>\n",
       "    </tr>\n",
       "    <tr>\n",
       "      <th>3</th>\n",
       "      <td>GSM94021</td>\n",
       "      <td>1.773217</td>\n",
       "      <td>1.589668</td>\n",
       "      <td>1.837949</td>\n",
       "      <td>1.945553</td>\n",
       "      <td>2.215105</td>\n",
       "      <td>1.599106</td>\n",
       "      <td>2.111247</td>\n",
       "      <td>1.841720</td>\n",
       "      <td>2.006722</td>\n",
       "      <td>...</td>\n",
       "      <td>1.619667</td>\n",
       "      <td>2.522812</td>\n",
       "      <td>2.403671</td>\n",
       "      <td>2.747622</td>\n",
       "      <td>2.430216</td>\n",
       "      <td>2.591979</td>\n",
       "      <td>2.625857</td>\n",
       "      <td>1.654162</td>\n",
       "      <td>2.592473</td>\n",
       "      <td>1</td>\n",
       "    </tr>\n",
       "    <tr>\n",
       "      <th>4</th>\n",
       "      <td>GSM94022</td>\n",
       "      <td>1.691989</td>\n",
       "      <td>1.735922</td>\n",
       "      <td>1.780269</td>\n",
       "      <td>2.026950</td>\n",
       "      <td>2.166022</td>\n",
       "      <td>1.508896</td>\n",
       "      <td>2.055945</td>\n",
       "      <td>1.996917</td>\n",
       "      <td>2.030167</td>\n",
       "      <td>...</td>\n",
       "      <td>1.656882</td>\n",
       "      <td>2.542456</td>\n",
       "      <td>2.125123</td>\n",
       "      <td>2.773777</td>\n",
       "      <td>2.480444</td>\n",
       "      <td>2.638087</td>\n",
       "      <td>2.621172</td>\n",
       "      <td>1.677003</td>\n",
       "      <td>2.540970</td>\n",
       "      <td>1</td>\n",
       "    </tr>\n",
       "  </tbody>\n",
       "</table>\n",
       "<p>5 rows × 22217 columns</p>\n",
       "</div>"
      ],
      "text/plain": [
       "  sample_number  211414_at  220619_at  214008_at  204324_s_at  205279_s_at  \\\n",
       "0      GSM93997   1.760051   1.592658   1.847297     2.004386     2.227531   \n",
       "1      GSM94019   1.795014   1.657724   1.835889     2.080957     2.233859   \n",
       "2      GSM94020   1.825061   1.626483   1.858130     2.170610     2.248432   \n",
       "3      GSM94021   1.773217   1.589668   1.837949     1.945553     2.215105   \n",
       "4      GSM94022   1.691989   1.735922   1.780269     2.026950     2.166022   \n",
       "\n",
       "   205386_s_at  214761_at  211555_s_at  201789_at  ...  210017_at  205409_at  \\\n",
       "0     1.702238   2.155039     1.836713   2.024259  ...   1.682065   2.364193   \n",
       "1     1.580361   2.122718     1.851865   2.022459  ...   1.656675   2.461219   \n",
       "2     1.715575   2.168324     2.090098   2.216724  ...   1.654779   2.539762   \n",
       "3     1.599106   2.111247     1.841720   2.006722  ...   1.619667   2.522812   \n",
       "4     1.508896   2.055945     1.996917   2.030167  ...   1.656882   2.542456   \n",
       "\n",
       "   213797_at  212576_at  34868_at  201818_at  219547_at  214218_s_at  \\\n",
       "0   2.157403   2.852263  2.488573   2.484822   2.789126     1.665079   \n",
       "1   2.134476   2.846738  2.530154   2.732370   2.614153     1.619105   \n",
       "2   2.201562   2.959224  2.568422   2.592492   2.538111     1.689167   \n",
       "3   2.403671   2.747622  2.430216   2.591979   2.625857     1.654162   \n",
       "4   2.125123   2.773777  2.480444   2.638087   2.621172     1.677003   \n",
       "\n",
       "   215037_s_at  Type  \n",
       "0     2.133257     0  \n",
       "1     2.324705     1  \n",
       "2     2.385822     1  \n",
       "3     2.592473     1  \n",
       "4     2.540970     1  \n",
       "\n",
       "[5 rows x 22217 columns]"
      ]
     },
     "execution_count": 6,
     "metadata": {},
     "output_type": "execute_result"
    }
   ],
   "source": [
    "dataset.head(5)"
   ]
  },
  {
   "cell_type": "markdown",
   "metadata": {},
   "source": [
    "## Split into feature and target variable"
   ]
  },
  {
   "cell_type": "code",
   "execution_count": 7,
   "metadata": {},
   "outputs": [
    {
     "name": "stderr",
     "output_type": "stream",
     "text": [
      "C:\\Users\\anasb\\AppData\\Local\\Temp\\ipykernel_11228\\280936668.py:2: FutureWarning: In a future version of pandas all arguments of DataFrame.drop except for the argument 'labels' will be keyword-only.\n",
      "  X = dataset.drop(\"Type\",1)\n"
     ]
    }
   ],
   "source": [
    "X = dataset.drop(\"Type\",1)\n",
    "y = dataset[\"Type\"]"
   ]
  },
  {
   "cell_type": "code",
   "execution_count": 8,
   "metadata": {},
   "outputs": [],
   "source": [
    "#split dataset into X_train, X_test, y_train, y_test with train test split\n",
    "from sklearn.model_selection import train_test_split\n",
    "X_train, X_test, y_train, y_test = train_test_split(X, y, test_size=0.5, random_state=42)"
   ]
  },
  {
   "cell_type": "code",
   "execution_count": 9,
   "metadata": {},
   "outputs": [],
   "source": [
    "#merge the X and y train dataset so it can be easily to preprocessing\n",
    "train_csv = pd.concat([X_train, y_train], axis=1, join=\"inner\")\n",
    "test_csv = pd.concat([X_test, y_test], axis=1, join=\"inner\")"
   ]
  },
  {
   "cell_type": "code",
   "execution_count": 11,
   "metadata": {},
   "outputs": [],
   "source": [
    "#Export the dataset\n",
    "X_train.to_csv(r'dataset-after-preparation\\X_train.csv', index=False)\n",
    "y_train.to_csv(r'dataset-after-preparation\\y_train.csv', index=False)\n",
    "X_test.to_csv(r'dataset-after-preparation\\X_test.csv', index=False)\n",
    "y_test.to_csv(r'dataset-after-preparation\\y_test.csv', index=False)"
   ]
  }
 ],
 "metadata": {
  "interpreter": {
   "hash": "8aa36df23babdad97e5a68de20b57fd862eeee2c5b7f569d031763a57bf5f36d"
  },
  "kernelspec": {
   "display_name": "Python 3.8.8 ('base')",
   "language": "python",
   "name": "python3"
  },
  "language_info": {
   "codemirror_mode": {
    "name": "ipython",
    "version": 3
   },
   "file_extension": ".py",
   "mimetype": "text/x-python",
   "name": "python",
   "nbconvert_exporter": "python",
   "pygments_lexer": "ipython3",
   "version": "3.9.7"
  },
  "orig_nbformat": 4
 },
 "nbformat": 4,
 "nbformat_minor": 2
}
