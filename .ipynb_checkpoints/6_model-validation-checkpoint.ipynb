{
 "cells": [
  {
   "cell_type": "code",
   "execution_count": 23,
   "id": "a1587c96",
   "metadata": {},
   "outputs": [],
   "source": [
    "import pandas as pd\n",
    "import numpy as np\n",
    "import matplotlib.pyplot as plt\n",
    "import joblib\n",
    "from sklearn.metrics import accuracy_score "
   ]
  },
  {
   "cell_type": "code",
   "execution_count": 8,
   "id": "1974245b",
   "metadata": {},
   "outputs": [],
   "source": [
    "model_looks_linear_HT = joblib.load('params_pkl/model_looks_linear_HT.pkl')\n",
    "model_looks_rbf_HT = joblib.load('params_pkl/model_looks_rbf_ht.pkl')\n",
    "model_looks_poly_HT = joblib.load('params_pkl/model_looks_poly_HT.pkl')"
   ]
  },
  {
   "cell_type": "code",
   "execution_count": 9,
   "id": "69bfbf8b",
   "metadata": {},
   "outputs": [],
   "source": [
    "#input the selected feature by using variance threshold\n",
    "VT_selected_feature_Zoo = joblib.load('VT_selected_feature_Zoo.pkl')\n",
    "pso_linear = joblib.load('PSO-selected-feature/pso-linear.pkl')\n",
    "pso_rbf = joblib.load('PSO-selected-feature/pso-rbf.pkl')\n",
    "pso_poly = joblib.load('PSO-selected-feature/pso-poly.pkl')"
   ]
  },
  {
   "cell_type": "code",
   "execution_count": 10,
   "id": "bf9175b0",
   "metadata": {},
   "outputs": [],
   "source": [
    "X_train = pd.read_csv('https://raw.githubusercontent.com/AufaAnasin/Implement-PSO-SVM-GeneExpression-LungCancer/main/dataset-after-preparation/X_train.csv')\n",
    "X_test = pd.read_csv('https://raw.githubusercontent.com/AufaAnasin/Implement-PSO-SVM-GeneExpression-LungCancer/main/dataset-after-preparation/X_test.csv')\n",
    "y_train = pd.read_csv('https://raw.githubusercontent.com/AufaAnasin/Implement-PSO-SVM-GeneExpression-LungCancer/main/dataset-after-preparation/y_train.csv')\n",
    "y_test = pd.read_csv('https://raw.githubusercontent.com/AufaAnasin/Implement-PSO-SVM-GeneExpression-LungCancer/main/dataset-after-preparation/y_test.csv')\n",
    "X_valid = pd.read_csv('https://raw.githubusercontent.com/AufaAnasin/Implement-PSO-SVM-GeneExpression-LungCancer/main/dataset-after-preparation/X_valid.csv')\n",
    "y_valid = pd.read_csv('https://raw.githubusercontent.com/AufaAnasin/Implement-PSO-SVM-GeneExpression-LungCancer/main/dataset-after-preparation/y_valid.csv')"
   ]
  },
  {
   "cell_type": "code",
   "execution_count": 11,
   "id": "a2dff28d",
   "metadata": {},
   "outputs": [],
   "source": [
    "from sklearn.preprocessing import StandardScaler\n",
    "scaler = StandardScaler()"
   ]
  },
  {
   "cell_type": "code",
   "execution_count": 15,
   "id": "5fde43b0",
   "metadata": {},
   "outputs": [],
   "source": [
    "# fill the dataset with the selected features\n",
    "X_train = X_train[VT_selected_feature_Zoo]\n",
    "X_test = X_test[VT_selected_feature_Zoo]"
   ]
  },
  {
   "cell_type": "code",
   "execution_count": 16,
   "id": "0644ddb1",
   "metadata": {},
   "outputs": [
    {
     "data": {
      "text/plain": [
       "((93, 1028), (94, 1028))"
      ]
     },
     "execution_count": 16,
     "metadata": {},
     "output_type": "execute_result"
    }
   ],
   "source": [
    "X_train.shape, X_test.shape,"
   ]
  },
  {
   "cell_type": "code",
   "execution_count": 18,
   "id": "e8404d45",
   "metadata": {},
   "outputs": [],
   "source": [
    "# Feature Slicing with PSO-SVM\n",
    "X_train_linear = X_train[pso_linear]\n",
    "X_train_rbf = X_train[pso_rbf]\n",
    "X_train_poly = X_train[pso_poly]\n",
    "\n",
    "X_test_linear = X_test[pso_linear]\n",
    "X_test_rbf = X_test[pso_rbf]\n",
    "X_test_poly = X_test[pso_poly]"
   ]
  },
  {
   "cell_type": "code",
   "execution_count": 19,
   "id": "b209be14",
   "metadata": {},
   "outputs": [
    {
     "data": {
      "text/plain": [
       "((93, 511), (93, 492), (93, 489))"
      ]
     },
     "execution_count": 19,
     "metadata": {},
     "output_type": "execute_result"
    }
   ],
   "source": [
    "# See the shape of Train data\n",
    "X_train_linear.shape, X_train_rbf.shape, X_train_poly.shape"
   ]
  },
  {
   "cell_type": "code",
   "execution_count": 20,
   "id": "29597f82",
   "metadata": {},
   "outputs": [
    {
     "data": {
      "text/plain": [
       "((94, 511), (94, 492), (94, 489))"
      ]
     },
     "execution_count": 20,
     "metadata": {},
     "output_type": "execute_result"
    }
   ],
   "source": [
    "X_test_linear.shape, X_test_rbf.shape, X_test_poly.shape"
   ]
  },
  {
   "cell_type": "markdown",
   "id": "e2827e62",
   "metadata": {},
   "source": [
    "### Making the prediction from the each kernel with them best estimator"
   ]
  },
  {
   "cell_type": "code",
   "execution_count": 28,
   "id": "61916ae9",
   "metadata": {},
   "outputs": [
    {
     "name": "stdout",
     "output_type": "stream",
     "text": [
      "Linear model train score: 0.9247311827956989\n",
      "Linear model test score: 0.6914893617021277\n"
     ]
    }
   ],
   "source": [
    "y_pred_train_linear = model_looks_linear_HT.predict(X_train_linear)\n",
    "y_pred_test_linear = model_looks_linear_HT.predict(X_test_linear)\n",
    "### score\n",
    "print(f'Linear model train score: {accuracy_score(y_train, y_pred_train_linear)}')\n",
    "print(f'Linear model test score: {accuracy_score(y_test, y_pred_test_linear)}')"
   ]
  },
  {
   "cell_type": "code",
   "execution_count": 29,
   "id": "422c5892",
   "metadata": {},
   "outputs": [
    {
     "name": "stdout",
     "output_type": "stream",
     "text": [
      "RBF model train score: 0.989247311827957\n",
      "RBF model test score: 0.723404255319149\n"
     ]
    }
   ],
   "source": [
    "y_pred_train_rbf = model_looks_rbf_HT.predict(X_train_rbf)\n",
    "y_pred_test_rbf = model_looks_rbf_HT.predict(X_test_rbf)\n",
    "### score\n",
    "print(f'RBF model train score: {accuracy_score(y_train, y_pred_train_rbf)}')\n",
    "print(f'RBF model test score: {accuracy_score(y_test, y_pred_test_rbf)}')"
   ]
  },
  {
   "cell_type": "code",
   "execution_count": 30,
   "id": "7f5f9609",
   "metadata": {},
   "outputs": [
    {
     "name": "stdout",
     "output_type": "stream",
     "text": [
      "Poly model train score: 0.8924731182795699\n",
      "Poly model test score: 0.6914893617021277\n"
     ]
    }
   ],
   "source": [
    "y_pred_train_poly = model_looks_poly_HT.predict(X_train_poly)\n",
    "y_pred_test_poly = model_looks_poly_HT.predict(X_test_poly)\n",
    "### score\n",
    "print(f'Poly model train score: {accuracy_score(y_train, y_pred_train_poly)}')\n",
    "print(f'Poly model test score: {accuracy_score(y_test, y_pred_test_poly)}')"
   ]
  }
 ],
 "metadata": {
  "kernelspec": {
   "display_name": "Python 3 (ipykernel)",
   "language": "python",
   "name": "python3"
  },
  "language_info": {
   "codemirror_mode": {
    "name": "ipython",
    "version": 3
   },
   "file_extension": ".py",
   "mimetype": "text/x-python",
   "name": "python",
   "nbconvert_exporter": "python",
   "pygments_lexer": "ipython3",
   "version": "3.9.7"
  }
 },
 "nbformat": 4,
 "nbformat_minor": 5
}
