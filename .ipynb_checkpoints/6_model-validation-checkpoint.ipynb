{
 "cells": [
  {
   "cell_type": "code",
   "execution_count": 1,
   "id": "a1587c96",
   "metadata": {},
   "outputs": [],
   "source": [
    "import pandas as pd\n",
    "import numpy as np\n",
    "import matplotlib.pyplot as plt\n",
    "import joblib\n",
    "from sklearn.metrics import accuracy_score "
   ]
  },
  {
   "cell_type": "code",
   "execution_count": 2,
   "id": "1974245b",
   "metadata": {},
   "outputs": [],
   "source": [
    "model_looks_linear_HT = joblib.load('params_pkl/model_looks_linear_HT.pkl')\n",
    "model_looks_rbf_HT = joblib.load('params_pkl/model_looks_rbf_ht.pkl')\n",
    "model_looks_poly_HT = joblib.load('params_pkl/model_looks_poly_HT.pkl')"
   ]
  },
  {
   "cell_type": "code",
   "execution_count": 3,
   "id": "69bfbf8b",
   "metadata": {},
   "outputs": [],
   "source": [
    "#input the selected feature by using variance threshold\n",
    "VT_selected_feature_Zoo = joblib.load('VT_selected_feature_Zoo.pkl')\n",
    "pso_linear = joblib.load('PSO-selected-feature/pso-linear.pkl')\n",
    "pso_rbf = joblib.load('PSO-selected-feature/pso-rbf.pkl')\n",
    "pso_poly = joblib.load('PSO-selected-feature/pso-poly.pkl')"
   ]
  },
  {
   "cell_type": "code",
   "execution_count": 4,
   "id": "bf9175b0",
   "metadata": {},
   "outputs": [],
   "source": [
    "#Input the dataset\n",
    "X_train = pd.read_csv('dataset-after-preparation\\X_train.csv')\n",
    "X_test = pd.read_csv('dataset-after-preparation\\X_test.csv')\n",
    "y_train = pd.read_csv('dataset-after-preparation\\y_train.csv')\n",
    "y_test = pd.read_csv('dataset-after-preparation\\y_test.csv')\n",
    "X_valid = pd.read_csv('dataset-after-preparation\\X_valid.csv')\n",
    "y_valid = pd.read_csv('dataset-after-preparation\\y_valid.csv')"
   ]
  },
  {
   "cell_type": "code",
   "execution_count": 5,
   "id": "5fde43b0",
   "metadata": {},
   "outputs": [],
   "source": [
    "# fill the dataset with the selected features\n",
    "X_train = X_train[VT_selected_feature_Zoo]\n",
    "X_test = X_test[VT_selected_feature_Zoo]"
   ]
  },
  {
   "cell_type": "code",
   "execution_count": 6,
   "id": "0644ddb1",
   "metadata": {},
   "outputs": [
    {
     "data": {
      "text/plain": [
       "((130, 1090), (57, 1090))"
      ]
     },
     "execution_count": 6,
     "metadata": {},
     "output_type": "execute_result"
    }
   ],
   "source": [
    "X_train.shape, X_test.shape,"
   ]
  },
  {
   "cell_type": "code",
   "execution_count": 7,
   "id": "e8404d45",
   "metadata": {},
   "outputs": [],
   "source": [
    "# Feature Slicing with PSO-SVM\n",
    "X_train_linear = X_train[pso_linear]\n",
    "X_train_rbf = X_train[pso_rbf]\n",
    "X_train_poly = X_train[pso_poly]\n",
    "\n",
    "X_test_linear = X_test[pso_linear]\n",
    "X_test_rbf = X_test[pso_rbf]\n",
    "X_test_poly = X_test[pso_poly]"
   ]
  },
  {
   "cell_type": "code",
   "execution_count": 8,
   "id": "b209be14",
   "metadata": {},
   "outputs": [
    {
     "data": {
      "text/plain": [
       "((130, 546), (130, 520), (130, 559))"
      ]
     },
     "execution_count": 8,
     "metadata": {},
     "output_type": "execute_result"
    }
   ],
   "source": [
    "# See the shape of Train data\n",
    "X_train_linear.shape, X_train_rbf.shape, X_train_poly.shape"
   ]
  },
  {
   "cell_type": "code",
   "execution_count": 9,
   "id": "29597f82",
   "metadata": {
    "scrolled": true
   },
   "outputs": [
    {
     "data": {
      "text/plain": [
       "((57, 546), (57, 520), (57, 559))"
      ]
     },
     "execution_count": 9,
     "metadata": {},
     "output_type": "execute_result"
    }
   ],
   "source": [
    "X_test_linear.shape, X_test_rbf.shape, X_test_poly.shape"
   ]
  },
  {
   "cell_type": "markdown",
   "id": "e2827e62",
   "metadata": {},
   "source": [
    "### Making the prediction from the each kernel with them best estimator"
   ]
  },
  {
   "cell_type": "code",
   "execution_count": 10,
   "id": "61916ae9",
   "metadata": {},
   "outputs": [
    {
     "name": "stdout",
     "output_type": "stream",
     "text": [
      "Linear model train score: 0.8615384615384616\n",
      "Linear model test score: 0.8070175438596491\n"
     ]
    }
   ],
   "source": [
    "y_pred_train_linear = model_looks_linear_HT.predict(X_train_linear)\n",
    "y_pred_test_linear = model_looks_linear_HT.predict(X_test_linear)\n",
    "### score\n",
    "print(f'Linear model train score: {accuracy_score(y_train, y_pred_train_linear)}')\n",
    "print(f'Linear model test score: {accuracy_score(y_test, y_pred_test_linear)}')"
   ]
  },
  {
   "cell_type": "code",
   "execution_count": 11,
   "id": "ac18a806",
   "metadata": {
    "scrolled": true
   },
   "outputs": [
    {
     "name": "stdout",
     "output_type": "stream",
     "text": [
      "              precision    recall  f1-score   support\n",
      "\n",
      "        LNR1       0.72      0.82      0.77        22\n",
      "        LNR2       0.88      0.80      0.84        35\n",
      "\n",
      "    accuracy                           0.81        57\n",
      "   macro avg       0.80      0.81      0.80        57\n",
      "weighted avg       0.82      0.81      0.81        57\n",
      "\n"
     ]
    }
   ],
   "source": [
    "# Classification Report for Linear kernel (Ttest set) \n",
    "from sklearn.metrics import classification_report\n",
    "target_names = ['LNR1', 'LNR2']\n",
    "print(classification_report(y_test, y_pred_test_linear, target_names=target_names))"
   ]
  },
  {
   "cell_type": "code",
   "execution_count": 12,
   "id": "78a587e1",
   "metadata": {},
   "outputs": [
    {
     "name": "stdout",
     "output_type": "stream",
     "text": [
      "TN_linear_test:  28\n",
      "FN_linear_test:  4\n",
      "TP_linear_test:  18\n",
      "FP_linear_test:  7\n"
     ]
    }
   ],
   "source": [
    "# Confusion Matrix\n",
    "from sklearn.metrics import confusion_matrix\n",
    "CM_linear_test = confusion_matrix(y_test, y_pred_test_linear, labels=[1, 0])\n",
    "TN_linear_test = CM_linear_test[0][0]\n",
    "FN_linear_test = CM_linear_test[1][0]\n",
    "TP_linear_test = CM_linear_test[1][1]\n",
    "FP_linear_test = CM_linear_test[0][1]\n",
    "print(\"TN_linear_test: \", TN_linear_test)\n",
    "print(\"FN_linear_test: \", FN_linear_test)\n",
    "print(\"TP_linear_test: \", TP_linear_test)\n",
    "print(\"FP_linear_test: \", FP_linear_test)"
   ]
  },
  {
   "cell_type": "code",
   "execution_count": 13,
   "id": "534e638f",
   "metadata": {},
   "outputs": [
    {
     "name": "stdout",
     "output_type": "stream",
     "text": [
      "Linear model train score: 0.7923076923076923\n",
      "Linear model test score: 0.7368421052631579\n"
     ]
    }
   ],
   "source": [
    "y_pred_train_rbf = model_looks_rbf_HT.predict(X_train_rbf)\n",
    "y_pred_test_rbf = model_looks_rbf_HT.predict(X_test_rbf)\n",
    "### score\n",
    "print(f'Linear model train score: {accuracy_score(y_train, y_pred_train_rbf)}')\n",
    "print(f'Linear model test score: {accuracy_score(y_test, y_pred_test_rbf)}')"
   ]
  },
  {
   "cell_type": "code",
   "execution_count": 14,
   "id": "537a9468",
   "metadata": {
    "scrolled": true
   },
   "outputs": [
    {
     "name": "stdout",
     "output_type": "stream",
     "text": [
      "TN_rbf_test:  23\n",
      "FN_rbf_test:  3\n",
      "TP_rbf_test:  19\n",
      "FP_rbf_test:  12\n"
     ]
    }
   ],
   "source": [
    "# Confusion Matrix\n",
    "from sklearn.metrics import confusion_matrix\n",
    "CM_rbf_test = confusion_matrix(y_test, y_pred_test_rbf, labels=[1, 0])\n",
    "TN_rbf_test = CM_rbf_test[0][0]\n",
    "FN_rbf_test = CM_rbf_test[1][0]\n",
    "TP_rbf_test = CM_rbf_test[1][1]\n",
    "FP_rbf_test = CM_rbf_test[0][1]\n",
    "print(\"TN_rbf_test: \", TN_rbf_test)\n",
    "print(\"FN_rbf_test: \", FN_rbf_test)\n",
    "print(\"TP_rbf_test: \", TP_rbf_test)\n",
    "print(\"FP_rbf_test: \", FP_rbf_test)"
   ]
  },
  {
   "cell_type": "code",
   "execution_count": 15,
   "id": "7f5f9609",
   "metadata": {
    "scrolled": true
   },
   "outputs": [
    {
     "name": "stdout",
     "output_type": "stream",
     "text": [
      "Poly model train score: 0.9076923076923077\n",
      "Poly model test score: 0.7017543859649122\n"
     ]
    }
   ],
   "source": [
    "y_pred_train_poly = model_looks_poly_HT.predict(X_train_poly)\n",
    "y_pred_test_poly = model_looks_poly_HT.predict(X_test_poly)\n",
    "### score\n",
    "print(f'Poly model train score: {accuracy_score(y_train, y_pred_train_poly)}')\n",
    "print(f'Poly model test score: {accuracy_score(y_test, y_pred_test_poly)}')"
   ]
  },
  {
   "cell_type": "code",
   "execution_count": 16,
   "id": "dc55c678",
   "metadata": {},
   "outputs": [
    {
     "name": "stdout",
     "output_type": "stream",
     "text": [
      "              precision    recall  f1-score   support\n",
      "\n",
      "       POLY1       0.58      0.86      0.69        22\n",
      "       POLY2       0.88      0.60      0.71        35\n",
      "\n",
      "    accuracy                           0.70        57\n",
      "   macro avg       0.73      0.73      0.70        57\n",
      "weighted avg       0.76      0.70      0.70        57\n",
      "\n"
     ]
    }
   ],
   "source": [
    "# Confution Matrix for Poly kernel \n",
    "from sklearn.metrics import classification_report\n",
    "target_names = ['POLY1', 'POLY2']\n",
    "print(classification_report(y_test, y_pred_test_poly, target_names=target_names))"
   ]
  },
  {
   "cell_type": "code",
   "execution_count": 17,
   "id": "2d19b73f",
   "metadata": {},
   "outputs": [
    {
     "name": "stdout",
     "output_type": "stream",
     "text": [
      "TN_rbf_test:  21\n",
      "FN_rbf_test:  3\n",
      "TP_rbf_test:  19\n",
      "FP_rbf_test:  14\n"
     ]
    }
   ],
   "source": [
    "# Confusion Matrix\n",
    "from sklearn.metrics import confusion_matrix\n",
    "CM_poly_test = confusion_matrix(y_test, y_pred_test_poly, labels=[1, 0])\n",
    "TN_poly_test = CM_poly_test[0][0]\n",
    "FN_poly_test = CM_poly_test[1][0]\n",
    "TP_poly_test = CM_poly_test[1][1]\n",
    "FP_poly_test = CM_poly_test[0][1]\n",
    "print(\"TN_rbf_test: \", TN_poly_test)\n",
    "print(\"FN_rbf_test: \", FN_poly_test)\n",
    "print(\"TP_rbf_test: \", TP_poly_test)\n",
    "print(\"FP_rbf_test: \", FP_poly_test)"
   ]
  },
  {
   "cell_type": "markdown",
   "id": "edee337a",
   "metadata": {},
   "source": [
    "### Classification Report and Confustion Matrix"
   ]
  },
  {
   "cell_type": "code",
   "execution_count": 18,
   "id": "0f4f3bc8",
   "metadata": {},
   "outputs": [
    {
     "name": "stdout",
     "output_type": "stream",
     "text": [
      "              precision    recall  f1-score   support\n",
      "\n",
      "        LNR1       0.93      0.79      0.86        68\n",
      "        LNR2       0.81      0.94      0.87        62\n",
      "\n",
      "    accuracy                           0.86       130\n",
      "   macro avg       0.87      0.86      0.86       130\n",
      "weighted avg       0.87      0.86      0.86       130\n",
      "\n"
     ]
    }
   ],
   "source": [
    "# Classification Report for Linear kernel (Train)\n",
    "from sklearn.metrics import classification_report\n",
    "target_names = ['LNR1', 'LNR2']\n",
    "print(classification_report(y_train, y_pred_train_linear, target_names=target_names))"
   ]
  },
  {
   "cell_type": "code",
   "execution_count": 19,
   "id": "fa453a41",
   "metadata": {},
   "outputs": [
    {
     "name": "stdout",
     "output_type": "stream",
     "text": [
      "TN_linear_test:  58\n",
      "FN_linear_test:  14\n",
      "TP_linear_test:  54\n",
      "FP_linear_test:  4\n"
     ]
    }
   ],
   "source": [
    "# Confusion Matrix\n",
    "from sklearn.metrics import confusion_matrix\n",
    "CM_linear_train = confusion_matrix(y_train, y_pred_train_linear, labels=[1, 0])\n",
    "TN_linear_train = CM_linear_train[0][0]\n",
    "FN_linear_train = CM_linear_train[1][0]\n",
    "TP_linear_train = CM_linear_train[1][1]\n",
    "FP_linear_train = CM_linear_train[0][1]\n",
    "print(\"TN_linear_test: \", TN_linear_train)\n",
    "print(\"FN_linear_test: \", FN_linear_train)\n",
    "print(\"TP_linear_test: \", TP_linear_train)\n",
    "print(\"FP_linear_test: \", FP_linear_train)"
   ]
  },
  {
   "cell_type": "code",
   "execution_count": 20,
   "id": "1c6833ab",
   "metadata": {},
   "outputs": [
    {
     "name": "stdout",
     "output_type": "stream",
     "text": [
      "              precision    recall  f1-score   support\n",
      "\n",
      "        RBF1       0.85      0.74      0.79        68\n",
      "        RBF2       0.75      0.85      0.80        62\n",
      "\n",
      "    accuracy                           0.79       130\n",
      "   macro avg       0.80      0.80      0.79       130\n",
      "weighted avg       0.80      0.79      0.79       130\n",
      "\n"
     ]
    }
   ],
   "source": [
    "# Classification Report for RBF kernel (Train)\n",
    "from sklearn.metrics import classification_report\n",
    "target_names = ['RBF1', 'RBF2']\n",
    "print(classification_report(y_train, y_pred_train_rbf, target_names=target_names))"
   ]
  },
  {
   "cell_type": "code",
   "execution_count": 22,
   "id": "cfeab8ba",
   "metadata": {},
   "outputs": [
    {
     "name": "stdout",
     "output_type": "stream",
     "text": [
      "TN_rbf_train:  53\n",
      "FN_rbf_train:  18\n",
      "TP_rbf_train:  50\n",
      "FP_rbf_train:  9\n"
     ]
    }
   ],
   "source": [
    "# Confusion Matrix\n",
    "from sklearn.metrics import confusion_matrix\n",
    "CM_rbf_train = confusion_matrix(y_train, y_pred_train_rbf, labels=[1, 0])\n",
    "TN_rbf_train = CM_rbf_train[0][0]\n",
    "FN_rbf_train = CM_rbf_train[1][0]\n",
    "TP_rbf_train = CM_rbf_train[1][1]\n",
    "FP_rbf_train = CM_rbf_train[0][1]\n",
    "print(\"TN_rbf_train: \", TN_rbf_train)\n",
    "print(\"FN_rbf_train: \", FN_rbf_train)\n",
    "print(\"TP_rbf_train: \", TP_rbf_train)\n",
    "print(\"FP_rbf_train: \", FP_rbf_train)"
   ]
  },
  {
   "cell_type": "code",
   "execution_count": 23,
   "id": "c73c9432",
   "metadata": {},
   "outputs": [
    {
     "name": "stdout",
     "output_type": "stream",
     "text": [
      "              precision    recall  f1-score   support\n",
      "\n",
      "        PLY1       0.91      0.91      0.91        68\n",
      "       RPLY2       0.90      0.90      0.90        62\n",
      "\n",
      "    accuracy                           0.91       130\n",
      "   macro avg       0.91      0.91      0.91       130\n",
      "weighted avg       0.91      0.91      0.91       130\n",
      "\n"
     ]
    }
   ],
   "source": [
    "# Classification Report for Poly kernel (Train)\n",
    "from sklearn.metrics import classification_report\n",
    "target_names = ['PLY1', 'RPLY2']\n",
    "print(classification_report(y_train, y_pred_train_poly, target_names=target_names))"
   ]
  },
  {
   "cell_type": "code",
   "execution_count": 25,
   "id": "931c15f1",
   "metadata": {},
   "outputs": [
    {
     "name": "stdout",
     "output_type": "stream",
     "text": [
      "TN_poly_train:  56\n",
      "FN_poly_train:  6\n",
      "TP_poly_train:  62\n",
      "FP_poly_train:  6\n"
     ]
    }
   ],
   "source": [
    "# Confusion Matrix\n",
    "from sklearn.metrics import confusion_matrix\n",
    "CM_poly_train = confusion_matrix(y_train, y_pred_train_poly, labels=[1, 0])\n",
    "TN_poly_train = CM_poly_train[0][0]\n",
    "FN_poly_train = CM_poly_train[1][0]\n",
    "TP_poly_train = CM_poly_train[1][1]\n",
    "FP_poly_train = CM_poly_train[0][1]\n",
    "print(\"TN_poly_train: \", TN_poly_train)\n",
    "print(\"FN_poly_train: \", FN_poly_train)\n",
    "print(\"TP_poly_train: \", TP_poly_train)\n",
    "print(\"FP_poly_train: \", FP_poly_train)"
   ]
  },
  {
   "cell_type": "code",
   "execution_count": null,
   "id": "5093a1bc",
   "metadata": {},
   "outputs": [],
   "source": []
  }
 ],
 "metadata": {
  "kernelspec": {
   "display_name": "Python 3 (ipykernel)",
   "language": "python",
   "name": "python3"
  },
  "language_info": {
   "codemirror_mode": {
    "name": "ipython",
    "version": 3
   },
   "file_extension": ".py",
   "mimetype": "text/x-python",
   "name": "python",
   "nbconvert_exporter": "python",
   "pygments_lexer": "ipython3",
   "version": "3.9.7"
  }
 },
 "nbformat": 4,
 "nbformat_minor": 5
}
