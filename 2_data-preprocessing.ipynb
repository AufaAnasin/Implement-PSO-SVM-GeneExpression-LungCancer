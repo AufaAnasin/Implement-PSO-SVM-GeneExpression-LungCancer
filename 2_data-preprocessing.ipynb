{
 "cells": [
  {
   "cell_type": "markdown",
   "metadata": {},
   "source": [
    "Data Preprocessing (Handle duplicate, nan value, etc)"
   ]
  },
  {
   "cell_type": "code",
   "execution_count": null,
   "metadata": {},
   "outputs": [],
   "source": [
    "import pandas as pd\n",
    "import numpy as np"
   ]
  },
  {
   "cell_type": "code",
   "execution_count": null,
   "metadata": {},
   "outputs": [],
   "source": [
    "#import the dataset\n",
    "train_dataset = pd.read_csv('dataset-after-preparation/train_dataset.csv')\n",
    "test_dataset = pd.read_csv('dataset-after-preparation/test_dataset.csv')"
   ]
  },
  {
   "cell_type": "code",
   "execution_count": null,
   "metadata": {},
   "outputs": [],
   "source": [
    "#Count NaN values under an entire DataFrame\n",
    "train_dataset.isna().sum().sum()"
   ]
  },
  {
   "cell_type": "code",
   "execution_count": null,
   "metadata": {},
   "outputs": [],
   "source": [
    "#find duplicated data in dataframe \n",
    "print(train_dataset[train_dataset.duplicated()])"
   ]
  },
  {
   "cell_type": "code",
   "execution_count": null,
   "metadata": {},
   "outputs": [],
   "source": [
    "#find the standard deviation that more that 0.5\n",
    "StdDev = ((np.std(train_dataset) > 0.5) == True)\n",
    "print(StdDev)"
   ]
  }
 ],
 "metadata": {
  "interpreter": {
   "hash": "34c6b41d8fd4016702a6819aa34bfee64e1ed137f5751191d53310aeee52770b"
  },
  "kernelspec": {
   "display_name": "Python 3.9.7 ('base')",
   "language": "python",
   "name": "python3"
  },
  "language_info": {
   "codemirror_mode": {
    "name": "ipython",
    "version": 3
   },
   "file_extension": ".py",
   "mimetype": "text/x-python",
   "name": "python",
   "nbconvert_exporter": "python",
   "pygments_lexer": "ipython3",
   "version": "3.9.7"
  },
  "orig_nbformat": 4
 },
 "nbformat": 4,
 "nbformat_minor": 2
}
