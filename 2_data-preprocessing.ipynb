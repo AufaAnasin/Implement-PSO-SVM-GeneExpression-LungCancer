{
 "cells": [
  {
   "cell_type": "markdown",
   "metadata": {},
   "source": [
    "Data Preprocessing (Handle duplicate, nan value, etc)"
   ]
  },
  {
   "cell_type": "code",
   "execution_count": 1,
   "metadata": {},
   "outputs": [],
   "source": [
    "import pandas as pd\n",
    "import numpy as np"
   ]
  },
  {
   "cell_type": "code",
   "execution_count": 2,
   "metadata": {},
   "outputs": [],
   "source": [
    "#import the dataset\n",
    "train_dataset = pd.read_csv('dataset-after-preparation/train_dataset.csv')\n",
    "test_dataset = pd.read_csv('dataset-after-preparation/test_dataset.csv')"
   ]
  },
  {
   "cell_type": "code",
   "execution_count": 8,
   "metadata": {},
   "outputs": [
    {
     "data": {
      "text/plain": [
       "0"
      ]
     },
     "execution_count": 8,
     "metadata": {},
     "output_type": "execute_result"
    }
   ],
   "source": [
    "#Count NaN values under an entire DataFrame\n",
    "train_dataset.isna().sum().sum()"
   ]
  },
  {
   "cell_type": "code",
   "execution_count": 9,
   "metadata": {},
   "outputs": [
    {
     "name": "stdout",
     "output_type": "stream",
     "text": [
      "Empty DataFrame\n",
      "Columns: [sample_number, 211414_at, 220619_at, 214008_at, 204324_s_at, 205279_s_at, 205386_s_at, 214761_at, 211555_s_at, 201789_at, 206931_at, 216632_at, 215150_at, 222249_at, 215303_at, 216728_at, 220722_s_at, 216687_x_at, 205716_at, 207174_at, 222298_at, 220458_at, 216826_at, 210290_at, 215065_at, 209470_s_at, 207645_s_at, 207452_s_at, 215998_at, 217701_x_at, 216440_at, 220701_at, 214811_at, 217104_at, 219686_at, 217327_at, 220311_at, 203864_s_at, 215025_at, 216809_at, 204884_s_at, 206639_x_at, 221169_s_at, 205669_at, 214457_at, 211310_at, 204406_at, 217098_s_at, 215563_s_at, 208182_x_at, 207456_at, 206349_at, 210187_at, 220250_at, 216779_at, 205949_at, 214729_at, 222340_at, 213286_at, 205357_s_at, 202885_s_at, 210614_at, 204320_at, 221467_at, 214852_x_at, 219926_at, 207164_s_at, 216351_x_at, 222038_s_at, 215642_at, 216078_at, 215558_at, 215637_at, 210227_at, 207237_at, 208378_x_at, 207240_s_at, 217953_at, 215351_at, 220895_at, 220356_at, 205380_at, 219778_at, 207601_at, 206089_at, 221144_at, 205884_at, 216513_at, 203730_s_at, 211572_s_at, 205816_at, 210500_at, 222365_at, 205123_s_at, 215063_x_at, 210861_s_at, 220580_at, 221104_s_at, 213625_at, 204421_s_at, ...]\n",
      "Index: []\n",
      "\n",
      "[0 rows x 22217 columns]\n"
     ]
    }
   ],
   "source": [
    "#find duplicated data in dataframe \n",
    "print(train_dataset[train_dataset.duplicated()])"
   ]
  },
  {
   "cell_type": "code",
   "execution_count": 15,
   "metadata": {},
   "outputs": [
    {
     "name": "stdout",
     "output_type": "stream",
     "text": [
      "211414_at      False\n",
      "220619_at      False\n",
      "214008_at      False\n",
      "204324_s_at    False\n",
      "205279_s_at    False\n",
      "               ...  \n",
      "34868_at       False\n",
      "201818_at      False\n",
      "219547_at      False\n",
      "214218_s_at    False\n",
      "215037_s_at    False\n",
      "Length: 22215, dtype: bool\n"
     ]
    },
    {
     "name": "stderr",
     "output_type": "stream",
     "text": [
      "C:\\Users\\anasb\\miniconda3\\lib\\site-packages\\numpy\\core\\fromnumeric.py:3579: FutureWarning: Dropping of nuisance columns in DataFrame reductions (with 'numeric_only=None') is deprecated; in a future version this will raise TypeError.  Select only valid columns before calling the reduction.\n",
      "  return std(axis=axis, dtype=dtype, out=out, ddof=ddof, **kwargs)\n"
     ]
    }
   ],
   "source": [
    "#find the standard deviation that more that 0.5\n",
    "StdDev = ((np.std(train_dataset) > 0.5) == True)\n",
    "print(StdDev)"
   ]
  }
 ],
 "metadata": {
  "interpreter": {
   "hash": "34c6b41d8fd4016702a6819aa34bfee64e1ed137f5751191d53310aeee52770b"
  },
  "kernelspec": {
   "display_name": "Python 3.9.7 ('base')",
   "language": "python",
   "name": "python3"
  },
  "language_info": {
   "codemirror_mode": {
    "name": "ipython",
    "version": 3
   },
   "file_extension": ".py",
   "mimetype": "text/x-python",
   "name": "python",
   "nbconvert_exporter": "python",
   "pygments_lexer": "ipython3",
   "version": "3.9.7"
  },
  "orig_nbformat": 4
 },
 "nbformat": 4,
 "nbformat_minor": 2
}
