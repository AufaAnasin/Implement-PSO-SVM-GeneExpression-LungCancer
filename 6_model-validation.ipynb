{
 "cells": [
  {
   "cell_type": "code",
   "execution_count": 1,
   "id": "a1587c96",
   "metadata": {},
   "outputs": [],
   "source": [
    "import pandas as pd\n",
    "import numpy as np\n",
    "import matplotlib.pyplot as plt\n",
    "import joblib\n",
    "from sklearn.metrics import accuracy_score"
   ]
  },
  {
   "cell_type": "code",
   "execution_count": 2,
   "id": "1974245b",
   "metadata": {},
   "outputs": [],
   "source": [
    "model_looks_linear_HT_first = joblib.load('params_pkl/model_looks_linear_HT_first.pkl')\n",
    "model_looks_rbf_HT_first = joblib.load('params_pkl/model_looks_rbf_ht_first.pkl')\n",
    "model_looks_poly_HT_first = joblib.load('params_pkl/model_looks_poly_HT_first.pkl')\n",
    "\n",
    "model_looks_linear_HT_second = joblib.load('params_pkl/model_looks_linear_HT_second.pkl')\n",
    "model_looks_rbf_HT_second = joblib.load('params_pkl/model_looks_rbf_ht_second.pkl')\n",
    "model_looks_poly_HT_second = joblib.load('params_pkl/model_looks_poly_HT_second.pkl')"
   ]
  },
  {
   "cell_type": "code",
   "execution_count": 3,
   "id": "69bfbf8b",
   "metadata": {},
   "outputs": [],
   "source": [
    "#input the selected feature by using variance threshold\n",
    "VT_selected_feature_Zoo = joblib.load('VT_selected_feature_Zoo.pkl')\n",
    "pso_linear_first = joblib.load('PSO-selected-feature/pso-linear-first.pkl')\n",
    "pso_rbf_first = joblib.load('PSO-selected-feature/pso-rbf-first.pkl')\n",
    "pso_poly_first = joblib.load('PSO-selected-feature/pso-poly-first.pkl')\n",
    "\n",
    "pso_linear_second = joblib.load('PSO-selected-feature/pso-linear-second.pkl')\n",
    "pso_rbf_second = joblib.load('PSO-selected-feature/pso-rbf-second.pkl')\n",
    "pso_poly_second = joblib.load('PSO-selected-feature/pso-poly-second.pkl')"
   ]
  },
  {
   "cell_type": "code",
   "execution_count": 4,
   "id": "bf9175b0",
   "metadata": {},
   "outputs": [],
   "source": [
    "#Input the dataset\n",
    "X_train = pd.read_csv('dataset-after-preparation\\X_train.csv')\n",
    "X_test = pd.read_csv('dataset-after-preparation\\X_test.csv')\n",
    "y_train = pd.read_csv('dataset-after-preparation\\y_train.csv')\n",
    "y_test = pd.read_csv('dataset-after-preparation\\y_test.csv')\n",
    "X_valid = pd.read_csv('dataset-after-preparation\\X_valid.csv')\n",
    "y_valid = pd.read_csv('dataset-after-preparation\\y_valid.csv')"
   ]
  },
  {
   "cell_type": "code",
   "execution_count": 5,
   "id": "5fde43b0",
   "metadata": {},
   "outputs": [],
   "source": [
    "# fill the dataset with the selected features\n",
    "X_train = X_train[VT_selected_feature_Zoo]\n",
    "X_test = X_test[VT_selected_feature_Zoo]"
   ]
  },
  {
   "cell_type": "code",
   "execution_count": 6,
   "id": "0644ddb1",
   "metadata": {},
   "outputs": [
    {
     "data": {
      "text/plain": [
       "((130, 1090), (57, 1090))"
      ]
     },
     "execution_count": 6,
     "metadata": {},
     "output_type": "execute_result"
    }
   ],
   "source": [
    "X_train.shape, X_test.shape,"
   ]
  },
  {
   "cell_type": "code",
   "execution_count": 7,
   "id": "e8404d45",
   "metadata": {},
   "outputs": [],
   "source": [
    "# Feature Slicing with PSO-SVM\n",
    "X_train_linear_first = X_train[pso_linear_first]\n",
    "X_train_rbf_first = X_train[pso_rbf_first]\n",
    "X_train_poly_first = X_train[pso_poly_first]\n",
    "\n",
    "X_test_linear_first = X_test[pso_linear_first]\n",
    "X_test_rbf_first = X_test[pso_rbf_first]\n",
    "X_test_poly_first = X_test[pso_poly_first]\n",
    "\n",
    "# Feature Slicing with PSO-SVM\n",
    "X_train_linear_second = X_train[pso_linear_second]\n",
    "X_train_rbf_second = X_train[pso_rbf_second]\n",
    "X_train_poly_second = X_train[pso_poly_second]\n",
    "\n",
    "X_test_linear_second = X_test[pso_linear_second]\n",
    "X_test_rbf_second = X_test[pso_rbf_second]\n",
    "X_test_poly_second = X_test[pso_poly_second]"
   ]
  },
  {
   "cell_type": "code",
   "execution_count": 8,
   "id": "b209be14",
   "metadata": {},
   "outputs": [
    {
     "data": {
      "text/plain": [
       "((130, 524), (130, 519), (130, 519))"
      ]
     },
     "execution_count": 8,
     "metadata": {},
     "output_type": "execute_result"
    }
   ],
   "source": [
    "# See the shape of Train data (First Feature)\n",
    "X_train_linear_first.shape, X_train_rbf_first.shape, X_train_poly_first.shape"
   ]
  },
  {
   "cell_type": "code",
   "execution_count": 9,
   "id": "a4b2f627",
   "metadata": {},
   "outputs": [
    {
     "data": {
      "text/plain": [
       "((130, 528), (130, 520), (130, 588))"
      ]
     },
     "execution_count": 9,
     "metadata": {},
     "output_type": "execute_result"
    }
   ],
   "source": [
    "X_train_linear_second.shape, X_train_rbf_second.shape, X_train_poly_second.shape, "
   ]
  },
  {
   "cell_type": "markdown",
   "id": "e2827e62",
   "metadata": {},
   "source": [
    "### Making the prediction from the each kernel with them best estimator"
   ]
  },
  {
   "cell_type": "markdown",
   "id": "14e0468d",
   "metadata": {},
   "source": [
    "# Test Data"
   ]
  },
  {
   "cell_type": "markdown",
   "id": "bfd4b1bb",
   "metadata": {},
   "source": [
    "## LNR1 "
   ]
  },
  {
   "cell_type": "code",
   "execution_count": 10,
   "id": "61916ae9",
   "metadata": {},
   "outputs": [
    {
     "name": "stdout",
     "output_type": "stream",
     "text": [
      "LNR1 model test score: 0.7192982456140351\n"
     ]
    }
   ],
   "source": [
    "y_pred_test_linear_first = model_looks_linear_HT_first.predict(X_test_linear_first)\n",
    "### score\n",
    "print(f'LNR1 model test score: {accuracy_score(y_test, y_pred_test_linear_first)}')"
   ]
  },
  {
   "cell_type": "markdown",
   "id": "e6453a2f",
   "metadata": {},
   "source": [
    "### Test Dataset (For Confusion Matrix and Classification Report)"
   ]
  },
  {
   "cell_type": "code",
   "execution_count": 11,
   "id": "ac18a806",
   "metadata": {
    "scrolled": true
   },
   "outputs": [
    {
     "name": "stdout",
     "output_type": "stream",
     "text": [
      "              precision    recall  f1-score   support\n",
      "\n",
      "           1       0.88      0.63      0.73        35\n",
      "\n",
      "   micro avg       0.88      0.63      0.73        35\n",
      "   macro avg       0.88      0.63      0.73        35\n",
      "weighted avg       0.88      0.63      0.73        35\n",
      "\n"
     ]
    }
   ],
   "source": [
    "# Classification Report for Linear kernel (Ttest set) \n",
    "from sklearn.metrics import classification_report\n",
    "print(classification_report(y_test, y_pred_test_linear_first, labels=[1]))"
   ]
  },
  {
   "cell_type": "code",
   "execution_count": 12,
   "id": "78a587e1",
   "metadata": {},
   "outputs": [
    {
     "name": "stdout",
     "output_type": "stream",
     "text": [
      "TN_linear_test:  22\n",
      "FN_linear_test:  3\n",
      "TP_linear_test:  19\n",
      "FP_linear_test:  13\n"
     ]
    }
   ],
   "source": [
    "# Confusion Matrix\n",
    "from sklearn.metrics import confusion_matrix\n",
    "CM_linear_test = confusion_matrix(y_test, y_pred_test_linear_first, labels=[1, 0])\n",
    "TN_linear_test = CM_linear_test[0][0]\n",
    "FN_linear_test = CM_linear_test[1][0]\n",
    "TP_linear_test = CM_linear_test[1][1]\n",
    "FP_linear_test = CM_linear_test[0][1]\n",
    "print(\"TN_linear_test: \", TN_linear_test)\n",
    "print(\"FN_linear_test: \", FN_linear_test)\n",
    "print(\"TP_linear_test: \", TP_linear_test)\n",
    "print(\"FP_linear_test: \", FP_linear_test)"
   ]
  },
  {
   "cell_type": "markdown",
   "id": "cdd8099f",
   "metadata": {},
   "source": [
    "## LNR2"
   ]
  },
  {
   "cell_type": "code",
   "execution_count": 13,
   "id": "764f5c1d",
   "metadata": {},
   "outputs": [
    {
     "name": "stdout",
     "output_type": "stream",
     "text": [
      "LNR2 model test score: 0.7543859649122807\n"
     ]
    }
   ],
   "source": [
    "y_pred_test_linear_second = model_looks_linear_HT_second.predict(X_test_linear_second)\n",
    "### score\n",
    "print(f'LNR2 model test score: {accuracy_score(y_test, y_pred_test_linear_second)}')"
   ]
  },
  {
   "cell_type": "code",
   "execution_count": 14,
   "id": "343f446b",
   "metadata": {},
   "outputs": [
    {
     "name": "stdout",
     "output_type": "stream",
     "text": [
      "              precision    recall  f1-score   support\n",
      "\n",
      "           1       0.89      0.69      0.77        35\n",
      "\n",
      "   micro avg       0.89      0.69      0.77        35\n",
      "   macro avg       0.89      0.69      0.77        35\n",
      "weighted avg       0.89      0.69      0.77        35\n",
      "\n"
     ]
    }
   ],
   "source": [
    "# Classification Report for Linear kernel (Ttest set) \n",
    "from sklearn.metrics import classification_report\n",
    "print(classification_report(y_test, y_pred_test_linear_second, labels=[1]))"
   ]
  },
  {
   "cell_type": "code",
   "execution_count": 15,
   "id": "f95fd168",
   "metadata": {},
   "outputs": [
    {
     "name": "stdout",
     "output_type": "stream",
     "text": [
      "TN_linear_test:  24\n",
      "FN_linear_test:  3\n",
      "TP_linear_test:  19\n",
      "FP_linear_test:  11\n"
     ]
    }
   ],
   "source": [
    "# Confusion Matrix\n",
    "from sklearn.metrics import confusion_matrix\n",
    "CM_linear_test = confusion_matrix(y_test, y_pred_test_linear_second, labels=[1, 0])\n",
    "TN_linear_test = CM_linear_test[0][0]\n",
    "FN_linear_test = CM_linear_test[1][0]\n",
    "TP_linear_test = CM_linear_test[1][1]\n",
    "FP_linear_test = CM_linear_test[0][1]\n",
    "print(\"TN_linear_test: \", TN_linear_test)\n",
    "print(\"FN_linear_test: \", FN_linear_test)\n",
    "print(\"TP_linear_test: \", TP_linear_test)\n",
    "print(\"FP_linear_test: \", FP_linear_test)"
   ]
  },
  {
   "cell_type": "markdown",
   "id": "ea49b72e",
   "metadata": {},
   "source": [
    "# RBF1"
   ]
  },
  {
   "cell_type": "code",
   "execution_count": 16,
   "id": "7af95b6b",
   "metadata": {},
   "outputs": [
    {
     "name": "stdout",
     "output_type": "stream",
     "text": [
      "RBF1 model test score: 0.6491228070175439\n"
     ]
    }
   ],
   "source": [
    "y_pred_test_rbf_first = model_looks_rbf_HT_first.predict(X_test_rbf_first)\n",
    "### score\n",
    "print(f'RBF1 model test score: {accuracy_score(y_test, y_pred_test_rbf_first)}')"
   ]
  },
  {
   "cell_type": "code",
   "execution_count": 17,
   "id": "3e4a8d46",
   "metadata": {},
   "outputs": [
    {
     "name": "stdout",
     "output_type": "stream",
     "text": [
      "              precision    recall  f1-score   support\n",
      "\n",
      "           1       0.83      0.54      0.66        35\n",
      "\n",
      "   micro avg       0.83      0.54      0.66        35\n",
      "   macro avg       0.83      0.54      0.66        35\n",
      "weighted avg       0.83      0.54      0.66        35\n",
      "\n"
     ]
    }
   ],
   "source": [
    "# Classification Report for Linear kernel (Ttest set) \n",
    "from sklearn.metrics import classification_report\n",
    "print(classification_report(y_test, y_pred_test_rbf_first, labels=[1]))"
   ]
  },
  {
   "cell_type": "code",
   "execution_count": 18,
   "id": "03a4f32e",
   "metadata": {},
   "outputs": [
    {
     "name": "stdout",
     "output_type": "stream",
     "text": [
      "TN_rbf_test:  19\n",
      "FN_rbf_test:  4\n",
      "TP_rbf_test:  18\n",
      "FP_rbf_test:  16\n"
     ]
    }
   ],
   "source": [
    "# Confusion Matrix\n",
    "from sklearn.metrics import confusion_matrix\n",
    "CM_rbf_test = confusion_matrix(y_test, y_pred_test_rbf_first, labels=[1, 0])\n",
    "TN_rbf_test = CM_rbf_test[0][0]\n",
    "FN_rbf_test = CM_rbf_test[1][0]\n",
    "TP_rbf_test = CM_rbf_test[1][1]\n",
    "FP_rbf_test = CM_rbf_test[0][1]\n",
    "print(\"TN_rbf_test: \", TN_rbf_test)\n",
    "print(\"FN_rbf_test: \", FN_rbf_test)\n",
    "print(\"TP_rbf_test: \", TP_rbf_test)\n",
    "print(\"FP_rbf_test: \", FP_rbf_test)"
   ]
  },
  {
   "cell_type": "markdown",
   "id": "96b27f97",
   "metadata": {},
   "source": [
    "# RBF2"
   ]
  },
  {
   "cell_type": "code",
   "execution_count": 19,
   "id": "6a915417",
   "metadata": {},
   "outputs": [
    {
     "name": "stdout",
     "output_type": "stream",
     "text": [
      "RBF2 model test score: 0.7192982456140351\n"
     ]
    }
   ],
   "source": [
    "y_pred_test_rbf_second = model_looks_rbf_HT_second.predict(X_test_rbf_second)\n",
    "### score\n",
    "print(f'RBF2 model test score: {accuracy_score(y_test, y_pred_test_rbf_second)}')"
   ]
  },
  {
   "cell_type": "code",
   "execution_count": 20,
   "id": "fc6da922",
   "metadata": {},
   "outputs": [
    {
     "name": "stdout",
     "output_type": "stream",
     "text": [
      "              precision    recall  f1-score   support\n",
      "\n",
      "           1       0.88      0.63      0.73        35\n",
      "\n",
      "   micro avg       0.88      0.63      0.73        35\n",
      "   macro avg       0.88      0.63      0.73        35\n",
      "weighted avg       0.88      0.63      0.73        35\n",
      "\n"
     ]
    }
   ],
   "source": [
    "# Classification Report for Linear kernel (Ttest set) \n",
    "from sklearn.metrics import classification_report\n",
    "print(classification_report(y_test, y_pred_test_rbf_second, labels=[1]))"
   ]
  },
  {
   "cell_type": "code",
   "execution_count": 21,
   "id": "1737858f",
   "metadata": {},
   "outputs": [
    {
     "name": "stdout",
     "output_type": "stream",
     "text": [
      "TN_rbf_test:  22\n",
      "FN_rbf_test:  3\n",
      "TP_rbf_test:  19\n",
      "FP_rbf_test:  13\n"
     ]
    }
   ],
   "source": [
    "# Confusion Matrix\n",
    "from sklearn.metrics import confusion_matrix\n",
    "CM_rbf_test = confusion_matrix(y_test, y_pred_test_rbf_second, labels=[1, 0])\n",
    "TN_rbf_test = CM_rbf_test[0][0]\n",
    "FN_rbf_test = CM_rbf_test[1][0]\n",
    "TP_rbf_test = CM_rbf_test[1][1]\n",
    "FP_rbf_test = CM_rbf_test[0][1]\n",
    "print(\"TN_rbf_test: \", TN_rbf_test)\n",
    "print(\"FN_rbf_test: \", FN_rbf_test)\n",
    "print(\"TP_rbf_test: \", TP_rbf_test)\n",
    "print(\"FP_rbf_test: \", FP_rbf_test)"
   ]
  },
  {
   "cell_type": "markdown",
   "id": "cd46dc0a",
   "metadata": {},
   "source": [
    "# POLY1"
   ]
  },
  {
   "cell_type": "code",
   "execution_count": 22,
   "id": "11d164e9",
   "metadata": {},
   "outputs": [
    {
     "name": "stdout",
     "output_type": "stream",
     "text": [
      "POLY1 model test score: 0.7017543859649122\n"
     ]
    }
   ],
   "source": [
    "y_pred_test_poly_first = model_looks_poly_HT_first.predict(X_test_poly_first)\n",
    "### score\n",
    "print(f'POLY1 model test score: {accuracy_score(y_test, y_pred_test_poly_first)}')"
   ]
  },
  {
   "cell_type": "code",
   "execution_count": 23,
   "id": "322fb9ff",
   "metadata": {},
   "outputs": [
    {
     "name": "stdout",
     "output_type": "stream",
     "text": [
      "              precision    recall  f1-score   support\n",
      "\n",
      "           1       0.85      0.63      0.72        35\n",
      "\n",
      "   micro avg       0.85      0.63      0.72        35\n",
      "   macro avg       0.85      0.63      0.72        35\n",
      "weighted avg       0.85      0.63      0.72        35\n",
      "\n"
     ]
    }
   ],
   "source": [
    "# Classification Report for Linear kernel (Ttest set) \n",
    "from sklearn.metrics import classification_report\n",
    "print(classification_report(y_test, y_pred_test_poly_first, labels=[1]))"
   ]
  },
  {
   "cell_type": "code",
   "execution_count": 24,
   "id": "7171a3a5",
   "metadata": {},
   "outputs": [
    {
     "name": "stdout",
     "output_type": "stream",
     "text": [
      "TN_poly_test:  22\n",
      "FN_poly_test:  4\n",
      "TP_poly_test:  18\n",
      "FP_poly_test:  13\n"
     ]
    }
   ],
   "source": [
    "# Confusion Matrix\n",
    "from sklearn.metrics import confusion_matrix\n",
    "CM_poly_test = confusion_matrix(y_test, y_pred_test_poly_first, labels=[1, 0])\n",
    "TN_poly_test = CM_poly_test[0][0]\n",
    "FN_poly_test = CM_poly_test[1][0]\n",
    "TP_poly_test = CM_poly_test[1][1]\n",
    "FP_poly_test = CM_poly_test[0][1]\n",
    "print(\"TN_poly_test: \", TN_poly_test)\n",
    "print(\"FN_poly_test: \", FN_poly_test)\n",
    "print(\"TP_poly_test: \", TP_poly_test)\n",
    "print(\"FP_poly_test: \", FP_poly_test)"
   ]
  },
  {
   "cell_type": "markdown",
   "id": "9411f834",
   "metadata": {},
   "source": [
    "# POLY2"
   ]
  },
  {
   "cell_type": "code",
   "execution_count": 25,
   "id": "ec9fe4a4",
   "metadata": {},
   "outputs": [
    {
     "name": "stdout",
     "output_type": "stream",
     "text": [
      "POLY2 model test score: 0.7368421052631579\n"
     ]
    }
   ],
   "source": [
    "y_pred_test_poly_second = model_looks_poly_HT_second.predict(X_test_poly_second)\n",
    "### score\n",
    "print(f'POLY2 model test score: {accuracy_score(y_test, y_pred_test_poly_second)}')"
   ]
  },
  {
   "cell_type": "code",
   "execution_count": 26,
   "id": "18b80c1f",
   "metadata": {},
   "outputs": [
    {
     "name": "stdout",
     "output_type": "stream",
     "text": [
      "              precision    recall  f1-score   support\n",
      "\n",
      "           1       0.86      0.69      0.76        35\n",
      "\n",
      "   micro avg       0.86      0.69      0.76        35\n",
      "   macro avg       0.86      0.69      0.76        35\n",
      "weighted avg       0.86      0.69      0.76        35\n",
      "\n"
     ]
    }
   ],
   "source": [
    "# Classification Report for Linear kernel (Ttest set) \n",
    "from sklearn.metrics import classification_report\n",
    "print(classification_report(y_test, y_pred_test_poly_second, labels=[1]))"
   ]
  },
  {
   "cell_type": "code",
   "execution_count": 27,
   "id": "63a55457",
   "metadata": {},
   "outputs": [
    {
     "name": "stdout",
     "output_type": "stream",
     "text": [
      "TN_poly_test:  24\n",
      "FN_poly_test:  4\n",
      "TP_poly_test:  18\n",
      "FP_poly_test:  11\n"
     ]
    }
   ],
   "source": [
    "# Confusion Matrix\n",
    "from sklearn.metrics import confusion_matrix\n",
    "CM_poly_test = confusion_matrix(y_test, y_pred_test_poly_second, labels=[1, 0])\n",
    "TN_poly_test = CM_poly_test[0][0]\n",
    "FN_poly_test = CM_poly_test[1][0]\n",
    "TP_poly_test = CM_poly_test[1][1]\n",
    "FP_poly_test = CM_poly_test[0][1]\n",
    "print(\"TN_poly_test: \", TN_poly_test)\n",
    "print(\"FN_poly_test: \", FN_poly_test)\n",
    "print(\"TP_poly_test: \", TP_poly_test)\n",
    "print(\"FP_poly_test: \", FP_poly_test)"
   ]
  },
  {
   "cell_type": "markdown",
   "id": "03a53e11",
   "metadata": {},
   "source": [
    "# Train data"
   ]
  },
  {
   "cell_type": "code",
   "execution_count": 28,
   "id": "640938ee",
   "metadata": {},
   "outputs": [
    {
     "name": "stdout",
     "output_type": "stream",
     "text": [
      "LNR1 model train score: 0.8692307692307693\n"
     ]
    }
   ],
   "source": [
    "y_pred_train_linear_first = model_looks_linear_HT_first.predict(X_train_linear_first)\n",
    "### score\n",
    "print(f'LNR1 model train score: {accuracy_score(y_train, y_pred_train_linear_first)}')"
   ]
  },
  {
   "cell_type": "code",
   "execution_count": 29,
   "id": "6fb9d11e",
   "metadata": {},
   "outputs": [
    {
     "name": "stdout",
     "output_type": "stream",
     "text": [
      "              precision    recall  f1-score   support\n",
      "\n",
      "           1       0.81      0.95      0.87        62\n",
      "\n",
      "   micro avg       0.81      0.95      0.87        62\n",
      "   macro avg       0.81      0.95      0.87        62\n",
      "weighted avg       0.81      0.95      0.87        62\n",
      "\n"
     ]
    }
   ],
   "source": [
    "# Classification Report for Linear kernel (Ttest set) \n",
    "from sklearn.metrics import classification_report\n",
    "print(classification_report(y_train, y_pred_train_linear_first, labels=[1]))"
   ]
  },
  {
   "cell_type": "code",
   "execution_count": 30,
   "id": "208f3bc8",
   "metadata": {},
   "outputs": [
    {
     "name": "stdout",
     "output_type": "stream",
     "text": [
      "TN_linear_test:  59\n",
      "FN_linear_test:  14\n",
      "TP_linear_test:  54\n",
      "FP_linear_test:  3\n"
     ]
    }
   ],
   "source": [
    "# Confusion Matrix\n",
    "from sklearn.metrics import confusion_matrix\n",
    "CM_linear_train = confusion_matrix(y_train, y_pred_train_linear_first, labels=[1, 0])\n",
    "TN_linear_train = CM_linear_train[0][0]\n",
    "FN_linear_train = CM_linear_train[1][0]\n",
    "TP_linear_train = CM_linear_train[1][1]\n",
    "FP_linear_train = CM_linear_train[0][1]\n",
    "print(\"TN_linear_test: \", TN_linear_train)\n",
    "print(\"FN_linear_test: \", FN_linear_train)\n",
    "print(\"TP_linear_test: \", TP_linear_train)\n",
    "print(\"FP_linear_test: \", FP_linear_train)"
   ]
  },
  {
   "cell_type": "markdown",
   "id": "0fa0fe56",
   "metadata": {},
   "source": [
    "# LNR2"
   ]
  },
  {
   "cell_type": "code",
   "execution_count": 31,
   "id": "1311bafd",
   "metadata": {},
   "outputs": [
    {
     "name": "stdout",
     "output_type": "stream",
     "text": [
      "LNR2 model train score: 0.8846153846153846\n"
     ]
    }
   ],
   "source": [
    "y_pred_train_linear_second = model_looks_linear_HT_second.predict(X_train_linear_second)\n",
    "### score\n",
    "print(f'LNR2 model train score: {accuracy_score(y_train, y_pred_train_linear_second)}')"
   ]
  },
  {
   "cell_type": "code",
   "execution_count": 32,
   "id": "69a707df",
   "metadata": {},
   "outputs": [
    {
     "name": "stdout",
     "output_type": "stream",
     "text": [
      "              precision    recall  f1-score   support\n",
      "\n",
      "           1       0.89      0.69      0.77        35\n",
      "\n",
      "   micro avg       0.89      0.69      0.77        35\n",
      "   macro avg       0.89      0.69      0.77        35\n",
      "weighted avg       0.89      0.69      0.77        35\n",
      "\n"
     ]
    }
   ],
   "source": [
    "# Classification Report for Linear kernel (Ttest set) \n",
    "from sklearn.metrics import classification_report\n",
    "print(classification_report(y_test, y_pred_test_linear_second, labels=[1]))"
   ]
  },
  {
   "cell_type": "code",
   "execution_count": 33,
   "id": "22c935f8",
   "metadata": {},
   "outputs": [
    {
     "name": "stdout",
     "output_type": "stream",
     "text": [
      "TN_linear_test:  58\n",
      "FN_linear_test:  11\n",
      "TP_linear_test:  57\n",
      "FP_linear_test:  4\n"
     ]
    }
   ],
   "source": [
    "# Confusion Matrix\n",
    "from sklearn.metrics import confusion_matrix\n",
    "CM_linear_train = confusion_matrix(y_train, y_pred_train_linear_second, labels=[1, 0])\n",
    "TN_linear_train = CM_linear_train[0][0]\n",
    "FN_linear_train = CM_linear_train[1][0]\n",
    "TP_linear_train = CM_linear_train[1][1]\n",
    "FP_linear_train = CM_linear_train[0][1]\n",
    "print(\"TN_linear_test: \", TN_linear_train)\n",
    "print(\"FN_linear_test: \", FN_linear_train)\n",
    "print(\"TP_linear_test: \", TP_linear_train)\n",
    "print(\"FP_linear_test: \", FP_linear_train)"
   ]
  },
  {
   "cell_type": "markdown",
   "id": "c90f58a8",
   "metadata": {},
   "source": [
    "# RBF1"
   ]
  },
  {
   "cell_type": "code",
   "execution_count": 34,
   "id": "08e41689",
   "metadata": {},
   "outputs": [
    {
     "name": "stdout",
     "output_type": "stream",
     "text": [
      "RBF1 model train score: 1.0\n"
     ]
    }
   ],
   "source": [
    "y_pred_train_rbf_first = model_looks_rbf_HT_first.predict(X_train_rbf_first)\n",
    "### score\n",
    "print(f'RBF1 model train score: {accuracy_score(y_train, y_pred_train_rbf_first)}')"
   ]
  },
  {
   "cell_type": "code",
   "execution_count": 35,
   "id": "1e0fc408",
   "metadata": {},
   "outputs": [
    {
     "name": "stdout",
     "output_type": "stream",
     "text": [
      "              precision    recall  f1-score   support\n",
      "\n",
      "           1       1.00      1.00      1.00        62\n",
      "\n",
      "   micro avg       1.00      1.00      1.00        62\n",
      "   macro avg       1.00      1.00      1.00        62\n",
      "weighted avg       1.00      1.00      1.00        62\n",
      "\n"
     ]
    }
   ],
   "source": [
    "# Classification Report for Linear kernel (Ttest set) \n",
    "from sklearn.metrics import classification_report\n",
    "print(classification_report(y_train, y_pred_train_rbf_first, labels=[1]))"
   ]
  },
  {
   "cell_type": "code",
   "execution_count": 36,
   "id": "e7417a64",
   "metadata": {},
   "outputs": [
    {
     "name": "stdout",
     "output_type": "stream",
     "text": [
      "TN_train_test:  62\n",
      "FN_train_test:  0\n",
      "TP_train_test:  68\n",
      "FP_train_test:  0\n"
     ]
    }
   ],
   "source": [
    "# Confusion Matrix\n",
    "from sklearn.metrics import confusion_matrix\n",
    "CM_rbf_train = confusion_matrix(y_train, y_pred_train_rbf_first, labels=[1, 0])\n",
    "TN_rbf_train = CM_rbf_train[0][0]\n",
    "FN_rbf_train = CM_rbf_train[1][0]\n",
    "TP_rbf_train = CM_rbf_train[1][1]\n",
    "FP_rbf_train = CM_rbf_train[0][1]\n",
    "print(\"TN_train_test: \", TN_rbf_train)\n",
    "print(\"FN_train_test: \", FN_rbf_train)\n",
    "print(\"TP_train_test: \", TP_rbf_train)\n",
    "print(\"FP_train_test: \", FP_rbf_train)"
   ]
  },
  {
   "cell_type": "markdown",
   "id": "e1182115",
   "metadata": {},
   "source": [
    "# RBF2"
   ]
  },
  {
   "cell_type": "code",
   "execution_count": 37,
   "id": "e14d9a39",
   "metadata": {},
   "outputs": [
    {
     "name": "stdout",
     "output_type": "stream",
     "text": [
      "RBF2 model train score: 0.9692307692307692\n"
     ]
    }
   ],
   "source": [
    "y_pred_train_rbf_second = model_looks_rbf_HT_second.predict(X_train_rbf_second)\n",
    "### score\n",
    "print(f'RBF2 model train score: {accuracy_score(y_train, y_pred_train_rbf_second)}')"
   ]
  },
  {
   "cell_type": "code",
   "execution_count": 38,
   "id": "140f98d7",
   "metadata": {},
   "outputs": [
    {
     "name": "stdout",
     "output_type": "stream",
     "text": [
      "              precision    recall  f1-score   support\n",
      "\n",
      "           1       0.97      0.97      0.97        62\n",
      "\n",
      "   micro avg       0.97      0.97      0.97        62\n",
      "   macro avg       0.97      0.97      0.97        62\n",
      "weighted avg       0.97      0.97      0.97        62\n",
      "\n"
     ]
    }
   ],
   "source": [
    "# Classification Report for Linear kernel (Ttest set) \n",
    "from sklearn.metrics import classification_report\n",
    "print(classification_report(y_train, y_pred_train_rbf_second, labels=[1]))"
   ]
  },
  {
   "cell_type": "code",
   "execution_count": 39,
   "id": "14348fd5",
   "metadata": {},
   "outputs": [
    {
     "name": "stdout",
     "output_type": "stream",
     "text": [
      "TN_train_test:  60\n",
      "FN_train_test:  2\n",
      "TP_train_test:  66\n",
      "FP_train_test:  2\n"
     ]
    }
   ],
   "source": [
    "# Confusion Matrix\n",
    "from sklearn.metrics import confusion_matrix\n",
    "CM_rbf_train = confusion_matrix(y_train, y_pred_train_rbf_second, labels=[1, 0])\n",
    "TN_rbf_train = CM_rbf_train[0][0]\n",
    "FN_rbf_train = CM_rbf_train[1][0]\n",
    "TP_rbf_train = CM_rbf_train[1][1]\n",
    "FP_rbf_train = CM_rbf_train[0][1]\n",
    "print(\"TN_train_test: \", TN_rbf_train)\n",
    "print(\"FN_train_test: \", FN_rbf_train)\n",
    "print(\"TP_train_test: \", TP_rbf_train)\n",
    "print(\"FP_train_test: \", FP_rbf_train)"
   ]
  },
  {
   "cell_type": "markdown",
   "id": "78ed9f67",
   "metadata": {},
   "source": [
    "# POLY1"
   ]
  },
  {
   "cell_type": "code",
   "execution_count": 40,
   "id": "23b96d45",
   "metadata": {},
   "outputs": [
    {
     "name": "stdout",
     "output_type": "stream",
     "text": [
      "POLY1 model train score: 0.8153846153846154\n"
     ]
    }
   ],
   "source": [
    "y_pred_train_poly_first = model_looks_poly_HT_first.predict(X_train_poly_first)\n",
    "### score\n",
    "print(f'POLY1 model train score: {accuracy_score(y_train, y_pred_train_poly_first)}')"
   ]
  },
  {
   "cell_type": "code",
   "execution_count": 41,
   "id": "4c259559",
   "metadata": {},
   "outputs": [
    {
     "name": "stdout",
     "output_type": "stream",
     "text": [
      "              precision    recall  f1-score   support\n",
      "\n",
      "           1       0.77      0.87      0.82        62\n",
      "\n",
      "   micro avg       0.77      0.87      0.82        62\n",
      "   macro avg       0.77      0.87      0.82        62\n",
      "weighted avg       0.77      0.87      0.82        62\n",
      "\n"
     ]
    }
   ],
   "source": [
    "# Classification Report for Linear kernel (Ttest set) \n",
    "from sklearn.metrics import classification_report\n",
    "print(classification_report(y_train, y_pred_train_poly_first, labels=[1]))"
   ]
  },
  {
   "cell_type": "code",
   "execution_count": 42,
   "id": "967be995",
   "metadata": {},
   "outputs": [
    {
     "name": "stdout",
     "output_type": "stream",
     "text": [
      "TN_train_test:  54\n",
      "FN_train_test:  16\n",
      "TP_train_test:  52\n",
      "FP_train_test:  8\n"
     ]
    }
   ],
   "source": [
    "# Confusion Matrix\n",
    "from sklearn.metrics import confusion_matrix\n",
    "CM_poly_train = confusion_matrix(y_train, y_pred_train_poly_first, labels=[1, 0])\n",
    "TN_poly_train = CM_poly_train[0][0]\n",
    "FN_poly_train = CM_poly_train[1][0]\n",
    "TP_poly_train = CM_poly_train[1][1]\n",
    "FP_poly_train = CM_poly_train[0][1]\n",
    "print(\"TN_train_test: \", TN_poly_train)\n",
    "print(\"FN_train_test: \", FN_poly_train)\n",
    "print(\"TP_train_test: \", TP_poly_train)\n",
    "print(\"FP_train_test: \", FP_poly_train)"
   ]
  },
  {
   "cell_type": "markdown",
   "id": "1a128d18",
   "metadata": {},
   "source": [
    "# POLY2"
   ]
  },
  {
   "cell_type": "code",
   "execution_count": 43,
   "id": "265961c7",
   "metadata": {},
   "outputs": [
    {
     "name": "stdout",
     "output_type": "stream",
     "text": [
      "POLY2 model train score: 0.823076923076923\n"
     ]
    }
   ],
   "source": [
    "y_pred_train_poly_second = model_looks_poly_HT_second.predict(X_train_poly_second)\n",
    "### score\n",
    "print(f'POLY2 model train score: {accuracy_score(y_train, y_pred_train_poly_second)}')"
   ]
  },
  {
   "cell_type": "code",
   "execution_count": 44,
   "id": "8e830e90",
   "metadata": {},
   "outputs": [
    {
     "name": "stdout",
     "output_type": "stream",
     "text": [
      "              precision    recall  f1-score   support\n",
      "\n",
      "           1       0.78      0.87      0.82        62\n",
      "\n",
      "   micro avg       0.78      0.87      0.82        62\n",
      "   macro avg       0.78      0.87      0.82        62\n",
      "weighted avg       0.78      0.87      0.82        62\n",
      "\n"
     ]
    }
   ],
   "source": [
    "# Classification Report for Linear kernel (Ttest set) \n",
    "from sklearn.metrics import classification_report\n",
    "print(classification_report(y_train, y_pred_train_poly_second, labels=[1]))"
   ]
  },
  {
   "cell_type": "code",
   "execution_count": 45,
   "id": "c021a051",
   "metadata": {},
   "outputs": [
    {
     "name": "stdout",
     "output_type": "stream",
     "text": [
      "TN_train_test:  54\n",
      "FN_train_test:  15\n",
      "TP_train_test:  53\n",
      "FP_train_test:  8\n"
     ]
    }
   ],
   "source": [
    "# Confusion Matrix\n",
    "from sklearn.metrics import confusion_matrix\n",
    "CM_poly_train = confusion_matrix(y_train, y_pred_train_poly_second, labels=[1, 0])\n",
    "TN_poly_train = CM_poly_train[0][0]\n",
    "FN_poly_train = CM_poly_train[1][0]\n",
    "TP_poly_train = CM_poly_train[1][1]\n",
    "FP_poly_train = CM_poly_train[0][1]\n",
    "print(\"TN_train_test: \", TN_poly_train)\n",
    "print(\"FN_train_test: \", FN_poly_train)\n",
    "print(\"TP_train_test: \", TP_poly_train)\n",
    "print(\"FP_train_test: \", FP_poly_train)"
   ]
  }
 ],
 "metadata": {
  "kernelspec": {
   "display_name": "Python 3 (ipykernel)",
   "language": "python",
   "name": "python3"
  },
  "language_info": {
   "codemirror_mode": {
    "name": "ipython",
    "version": 3
   },
   "file_extension": ".py",
   "mimetype": "text/x-python",
   "name": "python",
   "nbconvert_exporter": "python",
   "pygments_lexer": "ipython3",
   "version": "3.9.7"
  }
 },
 "nbformat": 4,
 "nbformat_minor": 5
}
