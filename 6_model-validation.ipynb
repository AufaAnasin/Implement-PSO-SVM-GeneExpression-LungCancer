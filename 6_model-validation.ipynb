{
 "cells": [
  {
   "cell_type": "code",
   "execution_count": 1,
   "id": "a1587c96",
   "metadata": {},
   "outputs": [],
   "source": [
    "import pandas as pd\n",
    "import numpy as np\n",
    "import matplotlib.pyplot as plt\n",
    "import joblib\n",
    "from sklearn.metrics import accuracy_score "
   ]
  },
  {
   "cell_type": "code",
   "execution_count": 2,
   "id": "1974245b",
   "metadata": {},
   "outputs": [],
   "source": [
    "model_looks_linear_HT = joblib.load('params_pkl/model_looks_linear_HT.pkl')\n",
    "model_looks_rbf_HT = joblib.load('params_pkl/model_looks_rbf_ht.pkl')\n",
    "model_looks_poly_HT = joblib.load('params_pkl/model_looks_poly_HT.pkl')"
   ]
  },
  {
   "cell_type": "code",
   "execution_count": 3,
   "id": "69bfbf8b",
   "metadata": {},
   "outputs": [],
   "source": [
    "#input the selected feature by using variance threshold\n",
    "VT_selected_feature_Zoo = joblib.load('VT_selected_feature_Zoo.pkl')\n",
    "pso_linear = joblib.load('PSO-selected-feature/pso-linear.pkl')\n",
    "pso_rbf = joblib.load('PSO-selected-feature/pso-rbf.pkl')\n",
    "pso_poly = joblib.load('PSO-selected-feature/pso-poly.pkl')"
   ]
  },
  {
   "cell_type": "code",
   "execution_count": 4,
   "id": "bf9175b0",
   "metadata": {},
   "outputs": [],
   "source": [
    "#Input the dataset\n",
    "X_train = pd.read_csv('dataset-after-preparation\\X_train.csv')\n",
    "X_test = pd.read_csv('dataset-after-preparation\\X_test.csv')\n",
    "y_train = pd.read_csv('dataset-after-preparation\\y_train.csv')\n",
    "y_test = pd.read_csv('dataset-after-preparation\\y_test.csv')\n",
    "X_valid = pd.read_csv('dataset-after-preparation\\X_valid.csv')\n",
    "y_valid = pd.read_csv('dataset-after-preparation\\y_valid.csv')"
   ]
  },
  {
   "cell_type": "code",
   "execution_count": 5,
   "id": "5fde43b0",
   "metadata": {},
   "outputs": [],
   "source": [
    "# fill the dataset with the selected features\n",
    "X_train = X_train[VT_selected_feature_Zoo]\n",
    "X_test = X_test[VT_selected_feature_Zoo]"
   ]
  },
  {
   "cell_type": "code",
   "execution_count": 6,
   "id": "0644ddb1",
   "metadata": {},
   "outputs": [
    {
     "data": {
      "text/plain": [
       "((130, 1090), (57, 1090))"
      ]
     },
     "execution_count": 6,
     "metadata": {},
     "output_type": "execute_result"
    }
   ],
   "source": [
    "X_train.shape, X_test.shape,"
   ]
  },
  {
   "cell_type": "code",
   "execution_count": 7,
   "id": "e8404d45",
   "metadata": {},
   "outputs": [],
   "source": [
    "# Feature Slicing with PSO-SVM\n",
    "X_train_linear = X_train[pso_linear]\n",
    "X_train_rbf = X_train[pso_rbf]\n",
    "X_train_poly = X_train[pso_poly]\n",
    "\n",
    "X_test_linear = X_test[pso_linear]\n",
    "X_test_rbf = X_test[pso_rbf]\n",
    "X_test_poly = X_test[pso_poly]"
   ]
  },
  {
   "cell_type": "code",
   "execution_count": 8,
   "id": "b209be14",
   "metadata": {},
   "outputs": [
    {
     "data": {
      "text/plain": [
       "((130, 516), (130, 539), (130, 518))"
      ]
     },
     "execution_count": 8,
     "metadata": {},
     "output_type": "execute_result"
    }
   ],
   "source": [
    "# See the shape of Train data\n",
    "X_train_linear.shape, X_train_rbf.shape, X_train_poly.shape"
   ]
  },
  {
   "cell_type": "code",
   "execution_count": 9,
   "id": "29597f82",
   "metadata": {
    "scrolled": true
   },
   "outputs": [
    {
     "data": {
      "text/plain": [
       "((57, 516), (57, 539), (57, 518))"
      ]
     },
     "execution_count": 9,
     "metadata": {},
     "output_type": "execute_result"
    }
   ],
   "source": [
    "X_test_linear.shape, X_test_rbf.shape, X_test_poly.shape"
   ]
  },
  {
   "cell_type": "markdown",
   "id": "e2827e62",
   "metadata": {},
   "source": [
    "### Making the prediction from the each kernel with them best estimator"
   ]
  },
  {
   "cell_type": "code",
   "execution_count": 10,
   "id": "61916ae9",
   "metadata": {},
   "outputs": [
    {
     "name": "stdout",
     "output_type": "stream",
     "text": [
      "Linear model train score: 0.9846153846153847\n",
      "Linear model test score: 0.7543859649122807\n"
     ]
    }
   ],
   "source": [
    "y_pred_train_linear = model_looks_linear_HT.predict(X_train_linear)\n",
    "y_pred_test_linear = model_looks_linear_HT.predict(X_test_linear)\n",
    "### score\n",
    "print(f'Linear model train score: {accuracy_score(y_train, y_pred_train_linear)}')\n",
    "print(f'Linear model test score: {accuracy_score(y_test, y_pred_test_linear)}')"
   ]
  },
  {
   "cell_type": "code",
   "execution_count": 29,
   "id": "ac18a806",
   "metadata": {
    "scrolled": true
   },
   "outputs": [
    {
     "name": "stdout",
     "output_type": "stream",
     "text": [
      "              precision    recall  f1-score   support\n",
      "\n",
      "        LNR1       0.64      0.82      0.72        22\n",
      "        LNR2       0.86      0.71      0.78        35\n",
      "\n",
      "    accuracy                           0.75        57\n",
      "   macro avg       0.75      0.77      0.75        57\n",
      "weighted avg       0.78      0.75      0.76        57\n",
      "\n"
     ]
    }
   ],
   "source": [
    "# Classification Report for Linear kernel (Ttest set) \n",
    "from sklearn.metrics import classification_report\n",
    "target_names = ['LNR1', 'LNR2']\n",
    "print(classification_report(y_test, y_pred_test_linear, target_names=target_names))"
   ]
  },
  {
   "cell_type": "code",
   "execution_count": 12,
   "id": "78a587e1",
   "metadata": {},
   "outputs": [
    {
     "data": {
      "text/plain": [
       "array([[25, 10],\n",
       "       [ 4, 18]], dtype=int64)"
      ]
     },
     "execution_count": 12,
     "metadata": {},
     "output_type": "execute_result"
    }
   ],
   "source": [
    "# Confusion Matrix\n",
    "from sklearn.metrics import confusion_matrix\n",
    "confusion_matrix(y_test, y_pred_test_linear, labels=[1, 0])"
   ]
  },
  {
   "cell_type": "code",
   "execution_count": 13,
   "id": "a6978401",
   "metadata": {},
   "outputs": [],
   "source": [
    "TP_linear = 37 \n",
    "FN_linear = 13\n",
    "FP_linear = 15\n",
    "TN_linear = 29"
   ]
  },
  {
   "cell_type": "code",
   "execution_count": 14,
   "id": "534e638f",
   "metadata": {},
   "outputs": [
    {
     "name": "stdout",
     "output_type": "stream",
     "text": [
      "Linear model train score: 0.9769230769230769\n",
      "Linear model test score: 0.6666666666666666\n"
     ]
    }
   ],
   "source": [
    "y_pred_train_rbf = model_looks_rbf_HT.predict(X_train_rbf)\n",
    "y_pred_test_rbf = model_looks_rbf_HT.predict(X_test_rbf)\n",
    "### score\n",
    "print(f'Linear model train score: {accuracy_score(y_train, y_pred_train_rbf)}')\n",
    "print(f'Linear model test score: {accuracy_score(y_test, y_pred_test_rbf)}')"
   ]
  },
  {
   "cell_type": "code",
   "execution_count": 15,
   "id": "537a9468",
   "metadata": {
    "scrolled": true
   },
   "outputs": [
    {
     "name": "stdout",
     "output_type": "stream",
     "text": [
      "              precision    recall  f1-score   support\n",
      "\n",
      "        RBF1       0.54      0.86      0.67        22\n",
      "        RBF2       0.86      0.54      0.67        35\n",
      "\n",
      "    accuracy                           0.67        57\n",
      "   macro avg       0.70      0.70      0.67        57\n",
      "weighted avg       0.74      0.67      0.67        57\n",
      "\n"
     ]
    }
   ],
   "source": [
    "# Confution Matrix for RBF kernel (Test)\n",
    "from sklearn.metrics import classification_report\n",
    "target_names = ['RBF1', 'RBF2']\n",
    "print(classification_report(y_test, y_pred_test_rbf, target_names=target_names))"
   ]
  },
  {
   "cell_type": "code",
   "execution_count": 16,
   "id": "e7cb0555",
   "metadata": {},
   "outputs": [
    {
     "data": {
      "text/plain": [
       "array([[19, 16],\n",
       "       [ 3, 19]], dtype=int64)"
      ]
     },
     "execution_count": 16,
     "metadata": {},
     "output_type": "execute_result"
    }
   ],
   "source": [
    "# Confusion Matrix\n",
    "from sklearn.metrics import confusion_matrix\n",
    "confusion_matrix(y_test, y_pred_test_rbf, labels=[1, 0])"
   ]
  },
  {
   "cell_type": "code",
   "execution_count": 17,
   "id": "59fd3669",
   "metadata": {},
   "outputs": [],
   "source": [
    "TP_rbf = 36\n",
    "FN_rbf = 15\n",
    "FP_rbf = 25 \n",
    "TN_rbf = 75"
   ]
  },
  {
   "cell_type": "code",
   "execution_count": 18,
   "id": "7f5f9609",
   "metadata": {
    "scrolled": true
   },
   "outputs": [
    {
     "name": "stdout",
     "output_type": "stream",
     "text": [
      "Poly model train score: 0.9923076923076923\n",
      "Poly model test score: 0.7192982456140351\n"
     ]
    }
   ],
   "source": [
    "y_pred_train_poly = model_looks_poly_HT.predict(X_train_poly)\n",
    "y_pred_test_poly = model_looks_poly_HT.predict(X_test_poly)\n",
    "### score\n",
    "print(f'Poly model train score: {accuracy_score(y_train, y_pred_train_poly)}')\n",
    "print(f'Poly model test score: {accuracy_score(y_test, y_pred_test_poly)}')"
   ]
  },
  {
   "cell_type": "code",
   "execution_count": 19,
   "id": "dc55c678",
   "metadata": {},
   "outputs": [
    {
     "name": "stdout",
     "output_type": "stream",
     "text": [
      "              precision    recall  f1-score   support\n",
      "\n",
      "       POLY1       0.54      0.86      0.67        22\n",
      "       POLY2       0.86      0.54      0.67        35\n",
      "\n",
      "    accuracy                           0.67        57\n",
      "   macro avg       0.70      0.70      0.67        57\n",
      "weighted avg       0.74      0.67      0.67        57\n",
      "\n"
     ]
    }
   ],
   "source": [
    "# Confution Matrix for Poly kernel \n",
    "from sklearn.metrics import classification_report\n",
    "target_names = ['POLY1', 'POLY2']\n",
    "print(classification_report(y_test, y_pred_test_rbf, target_names=target_names))"
   ]
  },
  {
   "cell_type": "code",
   "execution_count": 20,
   "id": "2d19b73f",
   "metadata": {},
   "outputs": [
    {
     "data": {
      "text/plain": [
       "array([[22, 13],\n",
       "       [ 3, 19]], dtype=int64)"
      ]
     },
     "execution_count": 20,
     "metadata": {},
     "output_type": "execute_result"
    }
   ],
   "source": [
    "# Confusion Matrix\n",
    "from sklearn.metrics import confusion_matrix\n",
    "confusion_matrix(y_test, y_pred_test_poly, labels=[1, 0])"
   ]
  },
  {
   "cell_type": "code",
   "execution_count": 21,
   "id": "1b24848f",
   "metadata": {},
   "outputs": [],
   "source": [
    "TP_poly = 32\n",
    "FN_poly = 18 \n",
    "FP_poly = 16\n",
    "TN_poly = 28"
   ]
  },
  {
   "cell_type": "markdown",
   "id": "edee337a",
   "metadata": {},
   "source": [
    "### Classification Report and Confustion Matrix"
   ]
  },
  {
   "cell_type": "code",
   "execution_count": 22,
   "id": "0f4f3bc8",
   "metadata": {},
   "outputs": [
    {
     "name": "stdout",
     "output_type": "stream",
     "text": [
      "              precision    recall  f1-score   support\n",
      "\n",
      "        LNR1       0.99      0.99      0.99        68\n",
      "        LNR2       0.98      0.98      0.98        62\n",
      "\n",
      "    accuracy                           0.98       130\n",
      "   macro avg       0.98      0.98      0.98       130\n",
      "weighted avg       0.98      0.98      0.98       130\n",
      "\n"
     ]
    }
   ],
   "source": [
    "# Classification Report for Linear kernel (Train)\n",
    "from sklearn.metrics import classification_report\n",
    "target_names = ['LNR1', 'LNR2']\n",
    "print(classification_report(y_train, y_pred_train_linear, target_names=target_names))"
   ]
  },
  {
   "cell_type": "code",
   "execution_count": 23,
   "id": "fa453a41",
   "metadata": {},
   "outputs": [
    {
     "data": {
      "text/plain": [
       "array([[61,  1],\n",
       "       [ 1, 67]], dtype=int64)"
      ]
     },
     "execution_count": 23,
     "metadata": {},
     "output_type": "execute_result"
    }
   ],
   "source": [
    "# Confusion Matrix linear (Train)\n",
    "from sklearn.metrics import confusion_matrix\n",
    "confusion_matrix(y_train, y_pred_train_linear, labels=[1, 0])"
   ]
  },
  {
   "cell_type": "code",
   "execution_count": 24,
   "id": "1c6833ab",
   "metadata": {},
   "outputs": [
    {
     "name": "stdout",
     "output_type": "stream",
     "text": [
      "              precision    recall  f1-score   support\n",
      "\n",
      "        RBF1       0.97      0.99      0.98        68\n",
      "        RBF2       0.98      0.97      0.98        62\n",
      "\n",
      "    accuracy                           0.98       130\n",
      "   macro avg       0.98      0.98      0.98       130\n",
      "weighted avg       0.98      0.98      0.98       130\n",
      "\n"
     ]
    }
   ],
   "source": [
    "# Classification Report for RBF kernel (Train)\n",
    "from sklearn.metrics import classification_report\n",
    "target_names = ['RBF1', 'RBF2']\n",
    "print(classification_report(y_train, y_pred_train_rbf, target_names=target_names))"
   ]
  },
  {
   "cell_type": "code",
   "execution_count": 25,
   "id": "cfeab8ba",
   "metadata": {},
   "outputs": [
    {
     "data": {
      "text/plain": [
       "array([[60,  2],\n",
       "       [ 1, 67]], dtype=int64)"
      ]
     },
     "execution_count": 25,
     "metadata": {},
     "output_type": "execute_result"
    }
   ],
   "source": [
    "# Confusion Matrix RBF (Train)\n",
    "from sklearn.metrics import confusion_matrix\n",
    "confusion_matrix(y_train, y_pred_train_rbf, labels=[1, 0])"
   ]
  },
  {
   "cell_type": "code",
   "execution_count": 26,
   "id": "c73c9432",
   "metadata": {},
   "outputs": [
    {
     "name": "stdout",
     "output_type": "stream",
     "text": [
      "              precision    recall  f1-score   support\n",
      "\n",
      "        PLY1       0.99      1.00      0.99        68\n",
      "       RPLY2       1.00      0.98      0.99        62\n",
      "\n",
      "    accuracy                           0.99       130\n",
      "   macro avg       0.99      0.99      0.99       130\n",
      "weighted avg       0.99      0.99      0.99       130\n",
      "\n"
     ]
    }
   ],
   "source": [
    "# Classification Report for Poly kernel (Train)\n",
    "from sklearn.metrics import classification_report\n",
    "target_names = ['PLY1', 'RPLY2']\n",
    "print(classification_report(y_train, y_pred_train_poly, target_names=target_names))"
   ]
  },
  {
   "cell_type": "code",
   "execution_count": 27,
   "id": "931c15f1",
   "metadata": {},
   "outputs": [
    {
     "data": {
      "text/plain": [
       "array([[61,  1],\n",
       "       [ 0, 68]], dtype=int64)"
      ]
     },
     "execution_count": 27,
     "metadata": {},
     "output_type": "execute_result"
    }
   ],
   "source": [
    "# Confusion Matrix Poly (Train)\n",
    "from sklearn.metrics import confusion_matrix\n",
    "confusion_matrix(y_train, y_pred_train_poly, labels=[1, 0])"
   ]
  }
 ],
 "metadata": {
  "kernelspec": {
   "display_name": "Python 3 (ipykernel)",
   "language": "python",
   "name": "python3"
  },
  "language_info": {
   "codemirror_mode": {
    "name": "ipython",
    "version": 3
   },
   "file_extension": ".py",
   "mimetype": "text/x-python",
   "name": "python",
   "nbconvert_exporter": "python",
   "pygments_lexer": "ipython3",
   "version": "3.9.7"
  }
 },
 "nbformat": 4,
 "nbformat_minor": 5
}
